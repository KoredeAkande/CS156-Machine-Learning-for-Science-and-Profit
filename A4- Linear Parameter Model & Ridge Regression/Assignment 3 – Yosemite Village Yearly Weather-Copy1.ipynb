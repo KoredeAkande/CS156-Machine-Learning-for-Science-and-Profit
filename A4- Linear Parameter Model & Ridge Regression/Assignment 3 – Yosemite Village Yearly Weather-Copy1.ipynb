{
 "cells": [
  {
   "cell_type": "markdown",
   "id": "a393d303",
   "metadata": {},
   "source": [
    "# Assignment 3\n",
    "`Yosemite Village Yearly Weather` | `RBFs` | `Ridge Regression` "
   ]
  },
  {
   "cell_type": "markdown",
   "id": "6bc5d1c4",
   "metadata": {},
   "source": [
    "## Starting Prompt\n",
    "Temperature is cyclical, not only on a 24 hour basis but also on a yearly basis. Convert the dataset into a richer format whereby the day of the year is also captured. For example the time “20150212 1605”, can be converted into (43, 965) because the 12th of February is the 43rd day of the year, and 16:05 is the 965th minute of the day.\n",
    "\n",
    "This data covers 6 years, so split the data into a training set of the first 5 years, and a testing set of the 6th year."
   ]
  },
  {
   "cell_type": "markdown",
   "id": "7c163c73",
   "metadata": {},
   "source": [
    "### 1. Library Importation"
   ]
  },
  {
   "cell_type": "code",
   "execution_count": 3,
   "id": "634541c3",
   "metadata": {},
   "outputs": [],
   "source": [
    "import numpy as np\n",
    "import pandas as pd\n",
    "import matplotlib.pyplot as plt\n",
    "from datetime import datetime\n",
    "\n",
    "#Import packages for RBF transformation and pipeline setup\n",
    "from sklearn.metrics.pairwise import rbf_kernel\n",
    "from sklearn.linear_model import Ridge\n",
    "from sklearn.base import BaseEstimator, TransformerMixin\n",
    "from sklearn.pipeline import Pipeline\n",
    "\n",
    "#Import packages for BayesSearchCV\n",
    "from skopt import BayesSearchCV\n",
    "from skopt.space import Real, Integer\n",
    "\n",
    "#Had to downgrade packages to get BayesSearchCV to work\n",
    "#!pip install scikit-learn==0.23.2\n",
    "#!pip install scipy==1.5.3"
   ]
  },
  {
   "cell_type": "markdown",
   "id": "dc7d4513",
   "metadata": {},
   "source": [
    "### 2. Loading the data"
   ]
  },
  {
   "cell_type": "code",
   "execution_count": 4,
   "id": "55d89506",
   "metadata": {},
   "outputs": [
    {
     "data": {
      "text/html": [
       "<div>\n",
       "<style scoped>\n",
       "    .dataframe tbody tr th:only-of-type {\n",
       "        vertical-align: middle;\n",
       "    }\n",
       "\n",
       "    .dataframe tbody tr th {\n",
       "        vertical-align: top;\n",
       "    }\n",
       "\n",
       "    .dataframe thead th {\n",
       "        text-align: right;\n",
       "    }\n",
       "</style>\n",
       "<table border=\"1\" class=\"dataframe\">\n",
       "  <thead>\n",
       "    <tr style=\"text-align: right;\">\n",
       "      <th></th>\n",
       "      <th>Date</th>\n",
       "      <th>Time</th>\n",
       "      <th>Temperature</th>\n",
       "    </tr>\n",
       "  </thead>\n",
       "  <tbody>\n",
       "    <tr>\n",
       "      <th>0</th>\n",
       "      <td>20110101.0</td>\n",
       "      <td>5.0</td>\n",
       "      <td>-6.4</td>\n",
       "    </tr>\n",
       "    <tr>\n",
       "      <th>1</th>\n",
       "      <td>20110101.0</td>\n",
       "      <td>10.0</td>\n",
       "      <td>-6.5</td>\n",
       "    </tr>\n",
       "    <tr>\n",
       "      <th>2</th>\n",
       "      <td>20110101.0</td>\n",
       "      <td>15.0</td>\n",
       "      <td>-6.5</td>\n",
       "    </tr>\n",
       "    <tr>\n",
       "      <th>3</th>\n",
       "      <td>20110101.0</td>\n",
       "      <td>20.0</td>\n",
       "      <td>-6.5</td>\n",
       "    </tr>\n",
       "    <tr>\n",
       "      <th>4</th>\n",
       "      <td>20110101.0</td>\n",
       "      <td>25.0</td>\n",
       "      <td>-6.7</td>\n",
       "    </tr>\n",
       "  </tbody>\n",
       "</table>\n",
       "</div>"
      ],
      "text/plain": [
       "         Date  Time  Temperature\n",
       "0  20110101.0   5.0         -6.4\n",
       "1  20110101.0  10.0         -6.5\n",
       "2  20110101.0  15.0         -6.5\n",
       "3  20110101.0  20.0         -6.5\n",
       "4  20110101.0  25.0         -6.7"
      ]
     },
     "execution_count": 4,
     "metadata": {},
     "output_type": "execute_result"
    }
   ],
   "source": [
    "#Specify the data files and columns to load\n",
    "years = range(2011, 2017)\n",
    "files = ['data/CRNS0101-05-%d-CA_Yosemite_Village_12_W.txt' % y for y in years]\n",
    "usecols = [1, 2, 8]\n",
    "\n",
    "#Load the data and open as a pandas dataframe\n",
    "data = [np.loadtxt(f, usecols=usecols) for f in files]\n",
    "data = pd.DataFrame(np.vstack(data), columns = [\"Date\", \"Time\", \"Temperature\"])\n",
    "data.head()"
   ]
  },
  {
   "cell_type": "markdown",
   "id": "3a6001dc",
   "metadata": {},
   "source": [
    "### 3. Data cleaning and reformatting"
   ]
  },
  {
   "cell_type": "markdown",
   "id": "b9cad4ce",
   "metadata": {},
   "source": [
    "**Remove invalid temperature datapoints**"
   ]
  },
  {
   "cell_type": "code",
   "execution_count": 5,
   "id": "a358946b",
   "metadata": {},
   "outputs": [
    {
     "name": "stdout",
     "output_type": "stream",
     "text": [
      "442 removed from the dataset. Size dropped from 631296 to 630854\n"
     ]
    }
   ],
   "source": [
    "orig_size = len(data)\n",
    "data = data[data[\"Temperature\"] > -1000] #Remove temperature values less than -1000\n",
    "new_size = len(data)\n",
    "\n",
    "print(f\"{orig_size-new_size} removed from the dataset. Size dropped from {orig_size} to {new_size}\")"
   ]
  },
  {
   "cell_type": "markdown",
   "id": "fb6806e8",
   "metadata": {},
   "source": [
    "**Define functions to transform the data**"
   ]
  },
  {
   "cell_type": "code",
   "execution_count": 6,
   "id": "fddb4e13",
   "metadata": {},
   "outputs": [],
   "source": [
    "#Function to convert time from Hh:mm to mins (where mins is the nth minute of the day)\n",
    "Hmm_to_mins = lambda x: np.floor_divide(int(x),100)*60 + np.mod(int(x),100)\n",
    "\n",
    "#Function to get the day of the year from a datetime object\n",
    "get_day_of_year = lambda date: date.timetuple().tm_yday"
   ]
  },
  {
   "cell_type": "markdown",
   "id": "853b74ee",
   "metadata": {},
   "source": [
    "**Transform the data**"
   ]
  },
  {
   "cell_type": "code",
   "execution_count": 7,
   "id": "cae7c4b4",
   "metadata": {},
   "outputs": [
    {
     "data": {
      "text/html": [
       "<div>\n",
       "<style scoped>\n",
       "    .dataframe tbody tr th:only-of-type {\n",
       "        vertical-align: middle;\n",
       "    }\n",
       "\n",
       "    .dataframe tbody tr th {\n",
       "        vertical-align: top;\n",
       "    }\n",
       "\n",
       "    .dataframe thead th {\n",
       "        text-align: right;\n",
       "    }\n",
       "</style>\n",
       "<table border=\"1\" class=\"dataframe\">\n",
       "  <thead>\n",
       "    <tr style=\"text-align: right;\">\n",
       "      <th></th>\n",
       "      <th>Date</th>\n",
       "      <th>Time</th>\n",
       "      <th>Temperature</th>\n",
       "      <th>DOY</th>\n",
       "    </tr>\n",
       "  </thead>\n",
       "  <tbody>\n",
       "    <tr>\n",
       "      <th>0</th>\n",
       "      <td>2011-01-01</td>\n",
       "      <td>5</td>\n",
       "      <td>-6.4</td>\n",
       "      <td>1</td>\n",
       "    </tr>\n",
       "    <tr>\n",
       "      <th>1</th>\n",
       "      <td>2011-01-01</td>\n",
       "      <td>10</td>\n",
       "      <td>-6.5</td>\n",
       "      <td>1</td>\n",
       "    </tr>\n",
       "    <tr>\n",
       "      <th>2</th>\n",
       "      <td>2011-01-01</td>\n",
       "      <td>15</td>\n",
       "      <td>-6.5</td>\n",
       "      <td>1</td>\n",
       "    </tr>\n",
       "    <tr>\n",
       "      <th>3</th>\n",
       "      <td>2011-01-01</td>\n",
       "      <td>20</td>\n",
       "      <td>-6.5</td>\n",
       "      <td>1</td>\n",
       "    </tr>\n",
       "    <tr>\n",
       "      <th>4</th>\n",
       "      <td>2011-01-01</td>\n",
       "      <td>25</td>\n",
       "      <td>-6.7</td>\n",
       "      <td>1</td>\n",
       "    </tr>\n",
       "  </tbody>\n",
       "</table>\n",
       "</div>"
      ],
      "text/plain": [
       "        Date  Time  Temperature  DOY\n",
       "0 2011-01-01     5         -6.4    1\n",
       "1 2011-01-01    10         -6.5    1\n",
       "2 2011-01-01    15         -6.5    1\n",
       "3 2011-01-01    20         -6.5    1\n",
       "4 2011-01-01    25         -6.7    1"
      ]
     },
     "execution_count": 7,
     "metadata": {},
     "output_type": "execute_result"
    }
   ],
   "source": [
    "#Convert Time to the minute of the day\n",
    "data.Time = data.Time.apply(Hmm_to_mins)\n",
    "\n",
    "#Convert Date to Y-m-d format\n",
    "data.Date = pd.to_datetime(data.Date, format = '%Y%m%d')\n",
    "\n",
    "#Get the day of the year from Date\n",
    "data['DOY'] = data.Date.apply(get_day_of_year)\n",
    "\n",
    "data.head()"
   ]
  },
  {
   "cell_type": "markdown",
   "id": "92bf4754",
   "metadata": {},
   "source": [
    "### 4. Split to training and test set"
   ]
  },
  {
   "cell_type": "code",
   "execution_count": 8,
   "id": "e67f1d37",
   "metadata": {},
   "outputs": [],
   "source": [
    "#Training set: years before 2016 \n",
    "train_data = data[data.Date < datetime(2016,1,1)]  \n",
    "\n",
    "#Test set: 2016 and later \n",
    "test_data = data[data.Date >= datetime(2016,1,1)]  \n",
    "\n",
    "X_train, y_train = np.array([*zip(train_data.DOY,train_data.Time)]), train_data.Temperature.values\n",
    "X_test, y_test = np.array([*zip(test_data.DOY,test_data.Time)]), test_data.Temperature.values"
   ]
  },
  {
   "cell_type": "markdown",
   "id": "96cd6e3d",
   "metadata": {},
   "source": [
    "---"
   ]
  },
  {
   "cell_type": "markdown",
   "id": "a98788e6",
   "metadata": {},
   "source": [
    "## Task 1\n",
    "\n",
    "Cover each input dimension with a list of radial basis functions. This turns the pair of inputs into a much richer representation, mapping $(d,t)$ into $(Φ₁(d), Φ₂(t))$. Experiment with different numbers of radial basis functions and different widths of the radial basis function in different dimensions. Using this new representation, build a linear parameter model that captures both seasonal variations and daily variations."
   ]
  },
  {
   "cell_type": "markdown",
   "id": "385688b3",
   "metadata": {},
   "source": [
    "**`RBF Transformation Discussion`**\n",
    "\n",
    "Evident from the prompt above, there are various parameters that can be tuned (e.g. number of RBFs, sigma for the RBF, alpha for the ridge regression, etc.) to (hopefully) get us a high an 𝑅² value as possible. Given there are infinitely many combinations of values and different directions we can tune the parameters in, a trial and error approach to this problem could be cumbersome. \n",
    "\n",
    "Naturally, I cast my thoughts to a parameter search and optimization strategy such as sklearn's GridSearch CV or a Bayesian optimization over hyper parameters (possible with skopt's BayesSearchCV) as a potential strategy to determine the optimal parameter configurations.\n",
    "\n",
    "However, to utilize a lot of these optimization functions, an estimator with a fit, score, and transform method has to to be inputted (see [GridSearchCV](https://scikit-learn.org/stable/modules/generated/sklearn.model_selection.GridSearchCV.html) and [BayesSearchCV](https://scikit-optimize.github.io/stable/modules/generated/skopt.BayesSearchCV.html)). Hence I build an estimator with these attributes using sci-kit learn's PCA documentation (see [here](https://github.com/scikit-learn/scikit-learn/blob/0d378913b/sklearn/decomposition/_pca.py#L116) and [here](https://github.com/scikit-learn/scikit-learn/blob/0d378913be6d7e485b792ea36e9268be31ed52d0/sklearn/decomposition/_base.py#L19)) as guidance. I specifically looked towards PCA( ) because our goal is to carry out a transformation of the input data into an RBF representation and this bears similarity to PCA as PCA transforms data to a lower-dimensional representation"
   ]
  },
  {
   "cell_type": "code",
   "execution_count": 57,
   "id": "d19c9ac1",
   "metadata": {},
   "outputs": [],
   "source": [
    "class RBF_generator(TransformerMixin, BaseEstimator):\n",
    "    \n",
    "    \"\"\"\n",
    "    Transform input into richer RBF representation\n",
    "    \n",
    "    Inputs:\n",
    "        - Xx_range_min (int): The smallest value in the input dimension\n",
    "        - Xx_range_max (int): The largest value in the input dimension\n",
    "        - Xx_num_of_centers (int): The number of RBF centers to compute for a given input dimension Xx\n",
    "        - sigma (float): Influences RBF gamma, which influences the width of the RBF.\n",
    "                         The higher sigma, the wider the RBF\n",
    "                                \n",
    "    \n",
    "    Created by consulting sklearn's PCA documentation:\n",
    "    - https://github.com/scikit-learn/scikit-learn/blob/0d378913b/sklearn/decomposition/_pca.py#L116\n",
    "    - https://github.com/scikit-learn/scikit-learn/blob/0d378913be6d7e485b792ea36e9268be31ed52d0/sklearn/decomposition/_base.py#L19\n",
    "    \n",
    "    \n",
    "    \"\"\"\n",
    "    \n",
    "    def __init__(self, \n",
    "                 #Parameters for first input dimension\n",
    "                 X1_range_min, X1_range_max, X1_num_of_centers=20, \n",
    "                 #Parameters for second input dimension – if present\n",
    "                 X2_range_min = None, X2_range_max = None, X2_num_of_centers = None, \n",
    "                 sigma= 1000):\n",
    "    \n",
    "        \n",
    "        #Initialize the input dimension range values\n",
    "        #These will correspond to either time or day of year values or both in this scenario\n",
    "        self.X1_range_min = X1_range_min\n",
    "        self.X1_range_max = X1_range_max\n",
    "        self.X2_range_min = X2_range_min\n",
    "        self.X2_range_max = X2_range_max\n",
    "        \n",
    "        #Number of centers for the variables. This will affect the number of RBFs\n",
    "        self.X1_num_of_centers = X1_num_of_centers\n",
    "        self.X2_num_of_centers = X2_num_of_centers\n",
    "        \n",
    "        #Sigma which influences width of the RBF\n",
    "        self.sigma = sigma\n",
    "        \n",
    "    \n",
    "    def fit(self,X=None,y=None):\n",
    "        \n",
    "        \"\"\"\n",
    "        Determine the centers for the RBFs fitting across the input dimensions\n",
    "        \n",
    "        Parameters\n",
    "        ----------\n",
    "        X : Ignored\n",
    "            Ignored.\n",
    "            \n",
    "        y : Ignored\n",
    "            Ignored.\n",
    "        \n",
    "        Returns\n",
    "        -------\n",
    "        self : object\n",
    "            Returns the instance itself.\n",
    "        \n",
    "        \"\"\"\n",
    "        \n",
    "        #If two input dimensions entered – i.e. if modeling both daily and yearly component\n",
    "        if self.X1_num_of_centers and self.X2_num_of_centers:\n",
    "            \n",
    "            #Place RBF centres evenly spaced across the range of X1\n",
    "            self.centers_X1 = np.linspace(self.X1_range_min, self.X1_range_max, \n",
    "                                          self.X1_num_of_centers).reshape(-1, 1)\n",
    "            \n",
    "            \n",
    "            #Place RBF centres evenly spaced across the range of X2\n",
    "            self.centers_X2 = np.linspace(self.X2_range_min, self.X2_range_max, \n",
    "                                          self.X2_num_of_centers).reshape(-1, 1)\n",
    "         \n",
    "        #If just one input dimension\n",
    "        else:\n",
    "            #Place RBF centres evenly spaced across the range of the inputted dimension\n",
    "            self.centers = np.linspace(self.X1_range_min, self.X1_range_max, \n",
    "                                          self.X1_num_of_centers).reshape(-1, 1)\n",
    "            \n",
    "        \n",
    "        return self\n",
    "        \n",
    "    \n",
    "    def transform(self,X):\n",
    "        \n",
    "        \"\"\"\n",
    "        Apply RBF transformation\n",
    "        \n",
    "        X is transformed into a richer representation of a list of radial basis functions\n",
    "        \n",
    "        Parameters\n",
    "        ----------\n",
    "        X : array-like of shape (n_samples, n_features)\n",
    "            where `n_samples` is the number of samples\n",
    "            and `n_features` is the number of features.\n",
    "            \n",
    "        Returns\n",
    "        -------\n",
    "            : list of radial basis functions\n",
    "            \n",
    "        \"\"\"\n",
    "        \n",
    "        #If two input dimensions were entered i.e. if training with full model\n",
    "        if self.X1_num_of_centers and self.X2_num_of_centers:\n",
    "            \n",
    "            #Fit RBFs on both input dimensions separately\n",
    "            X1_rbf = rbf_kernel(X[:,0].reshape(-1, 1), self.centers_X1, gamma=1.0/self.sigma)\n",
    "            X2_rbf = rbf_kernel(X[:,1].reshape(-1, 1), self.centers_X2, gamma=1.0/self.sigma)\n",
    "            \n",
    "            #Then concatenate RBF representation to form two columns\n",
    "            return np.concatenate((X1_rbf,X2_rbf),axis=1)\n",
    "        \n",
    "        #Return single dimension RBF representation\n",
    "        else:\n",
    "            return rbf_kernel(X, self.centers, gamma=1.0/self.sigma)\n",
    "        "
   ]
  },
  {
   "cell_type": "markdown",
   "id": "4d134d01",
   "metadata": {},
   "source": [
    "The RBF_generator class at a high level transforms inputted data into an RBF representation. It achieves this through the following methods:\n",
    "- **`fit`:** Takes the minimum and maximum value in the input dimension and tries to spread as many RBF centres evenly across this range as specified\n",
    "\n",
    "\n",
    "- **`transform`:** If the input is 2D, we find the centres (using `fit` as described above) for each input dimension and fit an RBF on each input dimension, ultimately concatenating both the RBF representation for each input dimension. If 1D, simply utilize the centres (as determined through `fit`) to transform to an RBF representation"
   ]
  },
  {
   "cell_type": "markdown",
   "id": "f9ce7e0d",
   "metadata": {},
   "source": [
    "**`Linear Parameter Model Fitting Discussion`**\n",
    "\n",
    "To fit a Linear Parameter Model (using the RBF representation) that maximizes 𝑅², I utilized [BayesSearchCV](https://scikit-optimize.github.io/stable/modules/generated/skopt.BayesSearchCV.html) to attempt to find the optimal parameters. This optimization strategy was chosen over [GridSearchCV](https://scikit-learn.org/stable/modules/generated/sklearn.model_selection.GridSearchCV.html) because it allows the specification of prior distribution on parameters, thus allowing me express my uncertainty as I deem fit (often through uninformative priors). GridSearchCV, on the otherhand, exhaustively searches specified parameter values (Sklearn,n.d.).\n",
    "\n",
    "P.S. I later discovered RandomSearchCV and think this could also be a nice approach to experiment with as it conduct a randomized search over the parameter space (Sklearn,n.d.).\n",
    "\n",
    "In the code, this the BayesSearchCV is implemented with the help of Pipeline which allows the joint RBF transformation then Ridge regression modeling"
   ]
  },
  {
   "cell_type": "markdown",
   "id": "9285ece7",
   "metadata": {},
   "source": [
    "## Task 2\n",
    "Using $R²$, quantify how your model performs on the testing data in the different scenarios below. Also create plots showing the contributions:"
   ]
  },
  {
   "cell_type": "markdown",
   "id": "49e259d7",
   "metadata": {},
   "source": [
    "First a define a function to plot the contributions:"
   ]
  },
  {
   "cell_type": "code",
   "execution_count": 10,
   "id": "56fe1340",
   "metadata": {},
   "outputs": [],
   "source": [
    "def LPM_plotting(var,x,num_of_centers, sigma,alpha):\n",
    "    \n",
    "    \"\"\"\n",
    "    Function to plot the data and the model's contribution/predictions\n",
    "    \n",
    "    Inputs:\n",
    "        - x (list/array): The x-values representing either DOY or time of day\n",
    "        - num_of_centers (int): Number of centres determined from optimization\n",
    "        - sigma (float): Optimal sigma for RBF determined from optimization\n",
    "        - alpha (float): Optimal alpha for ridge regression determined from optimization\n",
    "        \n",
    "    Output:\n",
    "        - Plot of model predictions alongside true data\n",
    "    \n",
    "    \"\"\"\n",
    "    \n",
    "    #Get min and max values for the input. These will be fed into the RBF function\n",
    "    x_min = x.min()\n",
    "    x_max = x.max()\n",
    "    \n",
    "    #Get the RBF representation of the input\n",
    "    RBF = RBF_generator(x_min, x_max, X1_num_of_centers=num_of_centers, sigma= sigma)\n",
    "    RBF.fit()\n",
    "    transformed_x = RBF.transform(x)\n",
    "    \n",
    "    #Fit Ridge regression to training data\n",
    "    regr = Ridge(alpha= alpha, fit_intercept=False).fit(transformed_x,y_train)\n",
    "    \n",
    "    \n",
    "    #Get equally spaced points across the input dimension and transform them using the RBF\n",
    "    x_pred = np.linspace(x_min, x_max, 1000).reshape(-1, 1)\n",
    "    \n",
    "    RBF = RBF_generator(x_pred.min(), x_pred.max(), X1_num_of_centers=num_of_centers, sigma= sigma)\n",
    "    RBF.fit()\n",
    "    transformed_x_pred = RBF.transform(x_pred)\n",
    "    \n",
    "    #Predict the value using the fitted regression\n",
    "    y_pred = regr.predict(transformed_x_pred)\n",
    "    \n",
    "    \n",
    "    plt.scatter(data[var], data.Temperature, label='Data', color='b')\n",
    "    plt.plot(x_pred, y_pred, label='Linear prediction', color='r')\n",
    "    plt.legend(loc='best')\n",
    "    plt.show()"
   ]
  },
  {
   "cell_type": "markdown",
   "id": "e23e013b",
   "metadata": {},
   "source": [
    "### a. Train with just the daily component of the model"
   ]
  },
  {
   "cell_type": "code",
   "execution_count": 71,
   "id": "af530981",
   "metadata": {},
   "outputs": [],
   "source": [
    "#Note steps – these will be used in the creation of a pipeline\n",
    "estimators = [('rbf', RBF_generator(X_train[:,1].min(), X_train[:,1].max())), \n",
    "              ('clf', Ridge(fit_intercept = False))]\n",
    "\n",
    "#Create pipeline\n",
    "pipe = Pipeline(estimators)\n",
    "\n",
    "#Define search space\n",
    "opt = BayesSearchCV(\n",
    "    pipe,\n",
    "    {\n",
    "        'rbf__X1_num_of_centers': Integer(10,200),\n",
    "        'rbf__sigma': Real(1e-6, 1e+6),\n",
    "        'clf__alpha': Real(1e-6,1e+6),\n",
    "    }, \n",
    "    scoring = 'r2'\n",
    ")\n",
    "\n",
    "#Execute bayesian optimization\n",
    "_ = opt.fit(X_train[:,1].reshape(-1, 1), y_train.reshape(-1, 1))"
   ]
  },
  {
   "cell_type": "code",
   "execution_count": 72,
   "id": "3b661e97",
   "metadata": {},
   "outputs": [
    {
     "data": {
      "text/plain": [
       "OrderedDict([('clf__alpha', 1e-06),\n",
       "             ('rbf__X1_num_of_centers', 200),\n",
       "             ('rbf__sigma', 136356.68654502626)])"
      ]
     },
     "execution_count": 72,
     "metadata": {},
     "output_type": "execute_result"
    }
   ],
   "source": [
    "#Get the best parameters\n",
    "opt.best_params_"
   ]
  },
  {
   "cell_type": "markdown",
   "id": "0daa8d3e",
   "metadata": {},
   "source": [
    "#### Plot the contribution and calculate the 𝑅² values"
   ]
  },
  {
   "cell_type": "code",
   "execution_count": 73,
   "id": "df79452e",
   "metadata": {},
   "outputs": [
    {
     "data": {
      "image/png": "[encoded data removed]",
      "text/plain": [
       "<Figure size 432x288 with 1 Axes>"
      ]
     },
     "metadata": {
      "needs_background": "light"
     },
     "output_type": "display_data"
    },
    {
     "name": "stdout",
     "output_type": "stream",
     "text": [
      "Training data 𝑅²: 0.027737129992537895\n",
      "Test data 𝑅²: 0.04427342465816131\n"
     ]
    }
   ],
   "source": [
    "LPM_plotting('Time', X_train[:,1].reshape(-1, 1),\n",
    "             num_of_centers = opt.best_params_['rbf__X1_num_of_centers'], \n",
    "             sigma = opt.best_params_['rbf__sigma'],\n",
    "             alpha = opt.best_params_['clf__alpha'])\n",
    "print(f\"Training data 𝑅²: {opt.best_score_}\")\n",
    "print(f\"Test data 𝑅²: {opt.score(X_test[:,1].reshape(-1, 1), y_test.reshape(-1, 1))}\")"
   ]
  },
  {
   "cell_type": "markdown",
   "id": "46372f31",
   "metadata": {},
   "source": [
    "From the results above, we see that the BayesSearch terminated at a training data 𝑅² of 0.02 which is quite low. However, we note that the test data 𝑅² is actually larger than the training data's. This might not be suprising given the test data is much smaller than the training data and only models time values across one year – so (possibly) less variance\n",
    "\n",
    "We also note that the optimal parameters involved fitting 200 wide (as evidenced by the high sigma – which makes gamma small) RBFs."
   ]
  },
  {
   "cell_type": "markdown",
   "id": "9c4e9922",
   "metadata": {},
   "source": [
    "### b. Train with just the yearly component of the model"
   ]
  },
  {
   "cell_type": "code",
   "execution_count": 14,
   "id": "d4f53cf4",
   "metadata": {},
   "outputs": [],
   "source": [
    "#Note steps – these will be used in the creation of a pipeline\n",
    "estimators = [('rbf', RBF_generator(X_train[:,0].min(), X_train[:,0].max())), \n",
    "              ('clf', Ridge(fit_intercept = False))]\n",
    "\n",
    "#Create pipeline\n",
    "pipe = Pipeline(estimators)\n",
    "\n",
    "#Define search space\n",
    "opt = BayesSearchCV(\n",
    "    pipe,\n",
    "    {\n",
    "        'rbf__X1_num_of_centers': Integer(10,100),\n",
    "        'rbf__sigma': Real(1e-6, 1e+6),\n",
    "        'clf__alpha': Real(1e-6,1e+6),\n",
    "    }, \n",
    "    scoring = 'r2'\n",
    ")\n",
    "\n",
    "#Execute bayesian optimization\n",
    "_ = opt.fit(X_train[:,0].reshape(-1, 1), y_train.reshape(-1, 1))"
   ]
  },
  {
   "cell_type": "code",
   "execution_count": 16,
   "id": "fe1352da",
   "metadata": {},
   "outputs": [
    {
     "data": {
      "text/plain": [
       "OrderedDict([('clf__alpha', 1e-06),\n",
       "             ('rbf__X1_num_of_centers', 12),\n",
       "             ('rbf__sigma', 41358.77873982265)])"
      ]
     },
     "execution_count": 16,
     "metadata": {},
     "output_type": "execute_result"
    }
   ],
   "source": [
    "#Get the best parameters\n",
    "opt.best_params_"
   ]
  },
  {
   "cell_type": "markdown",
   "id": "c23e15c9",
   "metadata": {},
   "source": [
    "#### Plot the contribution and calculate the 𝑅² values"
   ]
  },
  {
   "cell_type": "code",
   "execution_count": 15,
   "id": "e692d555",
   "metadata": {},
   "outputs": [
    {
     "data": {
      "image/png": "[encoded data removed]",
      "text/plain": [
       "<Figure size 432x288 with 1 Axes>"
      ]
     },
     "metadata": {
      "needs_background": "light"
     },
     "output_type": "display_data"
    },
    {
     "name": "stdout",
     "output_type": "stream",
     "text": [
      "Training data 𝑅²: 0.5318687992588776\n",
      "Test data 𝑅²: 0.5797047087377801\n"
     ]
    }
   ],
   "source": [
    "LPM_plotting('DOY', X_train[:,0].reshape(-1, 1),\n",
    "             num_of_centers = opt.best_params_['rbf__X1_num_of_centers'], \n",
    "             sigma = opt.best_params_['rbf__sigma'],\n",
    "             alpha = opt.best_params_['clf__alpha'])\n",
    "print(f\"Training data 𝑅²: {opt.best_score_}\")\n",
    "print(f\"Test data 𝑅²: {opt.score(X_test[:,0].reshape(-1, 1), y_test.reshape(-1, 1))}\")"
   ]
  },
  {
   "cell_type": "markdown",
   "id": "fa71e7c7",
   "metadata": {},
   "source": [
    "Observing the 𝑅², we see that for the training set, the model explains more than 50% of the variation in the data, which is quite good. Again, we see that the test set had a higher 𝑅² value (again possibly for similar reasons – smaller sample, shorter timeframe), indicating that the model explained almost 60% of the variation in the data."
   ]
  },
  {
   "cell_type": "markdown",
   "id": "b810a3fe",
   "metadata": {},
   "source": [
    "### c. Train with the full model"
   ]
  },
  {
   "cell_type": "code",
   "execution_count": 65,
   "id": "a2bf0d3a",
   "metadata": {},
   "outputs": [],
   "source": [
    "#Note steps – these will be used in the creation of a pipeline\n",
    "estimators = [('rbf', \n",
    "               RBF_generator(\n",
    "                   X1_range_min = X_train[:,0].min(), \n",
    "                   X1_range_max = X_train[:,0].max(), \n",
    "                   X2_range_min = X_train[:,1].min(),\n",
    "                   X2_range_max = X_train[:,1].max())), \n",
    "              ('clf', Ridge(fit_intercept = False))]\n",
    "\n",
    "#Create pipeline\n",
    "pipe = Pipeline(estimators)\n",
    "\n",
    "#Define search space\n",
    "opt = BayesSearchCV(\n",
    "    pipe,\n",
    "    {\n",
    "        'rbf__X1_num_of_centers': Integer(10,150),\n",
    "        'rbf__X2_num_of_centers': Integer(10,150),\n",
    "        'rbf__sigma': Real(1e-6, 1e+6),\n",
    "        'clf__alpha': Real(1e-10,1e+6),\n",
    "    }, \n",
    "    scoring = 'r2'\n",
    ")\n",
    "\n",
    "#Execute bayesian optimization\n",
    "_ = opt.fit(X_train, y_train.reshape(-1, 1))"
   ]
  },
  {
   "cell_type": "code",
   "execution_count": 66,
   "id": "019dba42",
   "metadata": {},
   "outputs": [
    {
     "data": {
      "text/plain": [
       "OrderedDict([('clf__alpha', 1e-10),\n",
       "             ('rbf__X1_num_of_centers', 69),\n",
       "             ('rbf__X2_num_of_centers', 47),\n",
       "             ('rbf__sigma', 116721.64685151148)])"
      ]
     },
     "execution_count": 66,
     "metadata": {},
     "output_type": "execute_result"
    }
   ],
   "source": [
    "#Get the best parameters\n",
    "opt.best_params_"
   ]
  },
  {
   "cell_type": "code",
   "execution_count": 67,
   "id": "12b86210",
   "metadata": {},
   "outputs": [
    {
     "name": "stdout",
     "output_type": "stream",
     "text": [
      "Training data 𝑅²: 0.5775813735460777\n",
      "Test data 𝑅²: 0.6242987992935105\n"
     ]
    }
   ],
   "source": [
    "print(f\"Training data 𝑅²: {opt.best_score_}\")\n",
    "print(f\"Test data 𝑅²: {opt.score(X_test, y_test.reshape(-1, 1))}\")"
   ]
  },
  {
   "cell_type": "markdown",
   "id": "1d24c1fb",
   "metadata": {},
   "source": [
    "To combine the time-of-day and time-of-year contributions, I concatenated the RBF representations of both dimensions and fed that into the model to predict temperature (Note, parameter values were optimized for using Bayesian optimization search). Doing so resulted in a 58% and 62% 𝑅² for the training and test sets, respectively, which is pretty good. This tells us that the model's fit accounts for about 62% of the variation in the test set. The fact that the model performed better on the test set than training set, also tells us that it generalizes pretty well. \n",
    "\n",
    "Another possible approach to factor in both time-of-day and time-of-year contributions could have been to find numerous centres that span the grid formed by the two input dimensions. However, I anticipated this would be computationally expensive for the BayesSearchAlgorithm as there are numerous permutations of centres that can be made, especially given I allow for different number of centres for each dimension. This doesn't even factor the optimization for other parameters such as sigma and alpha. \n",
    "\n",
    "In conclusion, we see that predicting with the full model improved both training and test 𝑅², compared to training with each component individually. The improved 𝑅² in the full model, per my calculation, also wasn't additive. This might suggest that interactions between both components also provides some explanatory/predictiveness power."
   ]
  },
  {
   "cell_type": "markdown",
   "id": "37e5cffb",
   "metadata": {},
   "source": [
    "## HC Appendix\n",
    "\n",
    "- **#optimization:** I implemented a Bayesian optimization over hyper parameters using skopt's BayesSearchCV to determine the optimal parameters for the RBF fitting and ridge regression. I also justified why I chose this particular optimization approach over others and additionally interpreted results from the optimization."
   ]
  },
  {
   "cell_type": "markdown",
   "id": "754d8504",
   "metadata": {},
   "source": [
    "## References\n",
    "- sklearn.model_selection.RandomizedSearchCV. (2021). Scikit-Learn. https://scikit-learn.org/stable/modules/generated/sklearn.model_selection.RandomizedSearchCV.html\n",
    "- sklearn.model_selection.GridSearchCV. (2021). Scikit-Learn. https://scikit-learn.org/stable/modules/generated/sklearn.model_selection.GridSearchCV.html\n",
    "- skopt.BayesSearchCV — scikit-optimize 0.8.1 documentation. (2017). Github.io. https://scikit-optimize.github.io/stable/modules/generated/skopt.BayesSearchCV.html\n"
   ]
  },
  {
   "cell_type": "code",
   "execution_count": null,
   "id": "d473e65b",
   "metadata": {},
   "outputs": [],
   "source": []
  }
 ],
 "metadata": {
  "kernelspec": {
   "display_name": "Python 3 (ipykernel)",
   "language": "python",
   "name": "python3"
  },
  "language_info": {
   "codemirror_mode": {
    "name": "ipython",
    "version": 3
   },
   "file_extension": ".py",
   "mimetype": "text/x-python",
   "name": "python",
   "nbconvert_exporter": "python",
   "pygments_lexer": "ipython3",
   "version": "3.7.11"
  }
 },
 "nbformat": 4,
 "nbformat_minor": 5
}
