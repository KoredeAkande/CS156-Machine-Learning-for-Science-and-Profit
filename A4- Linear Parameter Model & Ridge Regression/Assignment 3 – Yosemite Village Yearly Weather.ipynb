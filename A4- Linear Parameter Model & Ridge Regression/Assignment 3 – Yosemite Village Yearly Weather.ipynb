{
 "cells": [
  {
   "cell_type": "markdown",
   "id": "a393d303",
   "metadata": {},
   "source": [
    "# Assignment 3\n",
    "`Yosemite Village Yearly Weather` | `RBFs`"
   ]
  },
  {
   "cell_type": "code",
   "execution_count": 13,
   "id": "c1c0a73c",
   "metadata": {},
   "outputs": [],
   "source": [
    "import itertools"
   ]
  },
  {
   "cell_type": "code",
   "execution_count": 17,
   "id": "0032964c",
   "metadata": {},
   "outputs": [
    {
     "data": {
      "text/plain": [
       "225"
      ]
     },
     "execution_count": 17,
     "metadata": {},
     "output_type": "execute_result"
    }
   ],
   "source": [
    "len(np.array([*itertools.product([*range(15)],[*range(15)])]))"
   ]
  },
  {
   "cell_type": "code",
   "execution_count": 19,
   "id": "b061cd41",
   "metadata": {},
   "outputs": [
    {
     "data": {
      "text/plain": [
       "30"
      ]
     },
     "execution_count": 19,
     "metadata": {},
     "output_type": "execute_result"
    }
   ],
   "source": [
    "len(np.array([*itertools.chain([*range(15)],[*range(15)])]))"
   ]
  },
  {
   "cell_type": "code",
   "execution_count": 21,
   "id": "396a214e",
   "metadata": {},
   "outputs": [
    {
     "ename": "TypeError",
     "evalue": "'list' object cannot be interpreted as an integer",
     "output_type": "error",
     "traceback": [
      "\u001b[0;31m---------------------------------------------------------------------------\u001b[0m",
      "\u001b[0;31mTypeError\u001b[0m                                 Traceback (most recent call last)",
      "\u001b[0;32m<ipython-input-21-bb2e63c36619>\u001b[0m in \u001b[0;36m<module>\u001b[0;34m\u001b[0m\n\u001b[0;32m----> 1\u001b[0;31m \u001b[0mnp\u001b[0m\u001b[0;34m.\u001b[0m\u001b[0marray\u001b[0m\u001b[0;34m(\u001b[0m\u001b[0;34m[\u001b[0m\u001b[0;34m*\u001b[0m\u001b[0mitertools\u001b[0m\u001b[0;34m.\u001b[0m\u001b[0mcombinations\u001b[0m\u001b[0;34m(\u001b[0m\u001b[0;34m[\u001b[0m\u001b[0;34m*\u001b[0m\u001b[0mrange\u001b[0m\u001b[0;34m(\u001b[0m\u001b[0;36m15\u001b[0m\u001b[0;34m)\u001b[0m\u001b[0;34m]\u001b[0m\u001b[0;34m,\u001b[0m\u001b[0;34m[\u001b[0m\u001b[0;34m*\u001b[0m\u001b[0mrange\u001b[0m\u001b[0;34m(\u001b[0m\u001b[0;36m15\u001b[0m\u001b[0;34m)\u001b[0m\u001b[0;34m]\u001b[0m\u001b[0;34m)\u001b[0m\u001b[0;34m]\u001b[0m\u001b[0;34m)\u001b[0m\u001b[0;34m\u001b[0m\u001b[0;34m\u001b[0m\u001b[0m\n\u001b[0m",
      "\u001b[0;31mTypeError\u001b[0m: 'list' object cannot be interpreted as an integer"
     ]
    }
   ],
   "source": [
    "np.array([*itertools.combinations([*range(15)],[*range(15)])])"
   ]
  },
  {
   "cell_type": "code",
   "execution_count": 87,
   "id": "3da9889c",
   "metadata": {},
   "outputs": [
    {
     "data": {
      "text/plain": [
       "array([[  1.        ,   1.        ],\n",
       "       [ 27.07142857,  27.07142857],\n",
       "       [ 53.14285714,  53.14285714],\n",
       "       [ 79.21428571,  79.21428571],\n",
       "       [105.28571429, 105.28571429],\n",
       "       [131.35714286, 131.35714286],\n",
       "       [157.42857143, 157.42857143],\n",
       "       [183.5       , 183.5       ],\n",
       "       [209.57142857, 209.57142857],\n",
       "       [235.64285714, 235.64285714],\n",
       "       [261.71428571, 261.71428571],\n",
       "       [287.78571429, 287.78571429],\n",
       "       [313.85714286, 313.85714286],\n",
       "       [339.92857143, 339.92857143],\n",
       "       [366.        , 366.        ]])"
      ]
     },
     "execution_count": 87,
     "metadata": {},
     "output_type": "execute_result"
    }
   ],
   "source": [
    "np.hstack([np.linspace(1, 366, 15).reshape(-1,1),np.linspace(1, 366, 15).reshape(-1,1)])"
   ]
  },
  {
   "cell_type": "code",
   "execution_count": null,
   "id": "6170b64e",
   "metadata": {},
   "outputs": [],
   "source": []
  },
  {
   "cell_type": "code",
   "execution_count": 82,
   "id": "28786c95",
   "metadata": {},
   "outputs": [
    {
     "ename": "ValueError",
     "evalue": "all input arrays must have the same shape",
     "output_type": "error",
     "traceback": [
      "\u001b[0;31m---------------------------------------------------------------------------\u001b[0m",
      "\u001b[0;31mValueError\u001b[0m                                Traceback (most recent call last)",
      "\u001b[0;32m<ipython-input-82-c22793d1bc1b>\u001b[0m in \u001b[0;36m<module>\u001b[0;34m\u001b[0m\n\u001b[1;32m      1\u001b[0m \u001b[0mX_1\u001b[0m \u001b[0;34m=\u001b[0m \u001b[0mnp\u001b[0m\u001b[0;34m.\u001b[0m\u001b[0mlinspace\u001b[0m\u001b[0;34m(\u001b[0m\u001b[0;36m1\u001b[0m\u001b[0;34m,\u001b[0m \u001b[0;36m366\u001b[0m\u001b[0;34m,\u001b[0m \u001b[0;36m15\u001b[0m\u001b[0;34m)\u001b[0m\u001b[0;34m\u001b[0m\u001b[0;34m\u001b[0m\u001b[0m\n\u001b[1;32m      2\u001b[0m \u001b[0mX_2\u001b[0m \u001b[0;34m=\u001b[0m \u001b[0mnp\u001b[0m\u001b[0;34m.\u001b[0m\u001b[0mlinspace\u001b[0m\u001b[0;34m(\u001b[0m\u001b[0;36m0\u001b[0m\u001b[0;34m,\u001b[0m \u001b[0;36m1466\u001b[0m\u001b[0;34m,\u001b[0m \u001b[0;36m20\u001b[0m\u001b[0;34m)\u001b[0m\u001b[0;34m\u001b[0m\u001b[0;34m\u001b[0m\u001b[0m\n\u001b[0;32m----> 3\u001b[0;31m \u001b[0mXs_test\u001b[0m \u001b[0;34m=\u001b[0m \u001b[0mnp\u001b[0m\u001b[0;34m.\u001b[0m\u001b[0mstack\u001b[0m\u001b[0;34m(\u001b[0m\u001b[0;34m[\u001b[0m\u001b[0mX_1\u001b[0m\u001b[0;34m,\u001b[0m\u001b[0mX_2\u001b[0m\u001b[0;34m]\u001b[0m\u001b[0;34m,\u001b[0m\u001b[0maxis\u001b[0m\u001b[0;34m=\u001b[0m\u001b[0;36m1\u001b[0m\u001b[0;34m)\u001b[0m\u001b[0;34m\u001b[0m\u001b[0;34m\u001b[0m\u001b[0m\n\u001b[0m",
      "\u001b[0;32m<__array_function__ internals>\u001b[0m in \u001b[0;36mstack\u001b[0;34m(*args, **kwargs)\u001b[0m\n",
      "\u001b[0;32m~/opt/anaconda3/lib/python3.7/site-packages/numpy/core/shape_base.py\u001b[0m in \u001b[0;36mstack\u001b[0;34m(arrays, axis, out)\u001b[0m\n\u001b[1;32m    425\u001b[0m     \u001b[0mshapes\u001b[0m \u001b[0;34m=\u001b[0m \u001b[0;34m{\u001b[0m\u001b[0marr\u001b[0m\u001b[0;34m.\u001b[0m\u001b[0mshape\u001b[0m \u001b[0;32mfor\u001b[0m \u001b[0marr\u001b[0m \u001b[0;32min\u001b[0m \u001b[0marrays\u001b[0m\u001b[0;34m}\u001b[0m\u001b[0;34m\u001b[0m\u001b[0;34m\u001b[0m\u001b[0m\n\u001b[1;32m    426\u001b[0m     \u001b[0;32mif\u001b[0m \u001b[0mlen\u001b[0m\u001b[0;34m(\u001b[0m\u001b[0mshapes\u001b[0m\u001b[0;34m)\u001b[0m \u001b[0;34m!=\u001b[0m \u001b[0;36m1\u001b[0m\u001b[0;34m:\u001b[0m\u001b[0;34m\u001b[0m\u001b[0;34m\u001b[0m\u001b[0m\n\u001b[0;32m--> 427\u001b[0;31m         \u001b[0;32mraise\u001b[0m \u001b[0mValueError\u001b[0m\u001b[0;34m(\u001b[0m\u001b[0;34m'all input arrays must have the same shape'\u001b[0m\u001b[0;34m)\u001b[0m\u001b[0;34m\u001b[0m\u001b[0;34m\u001b[0m\u001b[0m\n\u001b[0m\u001b[1;32m    428\u001b[0m \u001b[0;34m\u001b[0m\u001b[0m\n\u001b[1;32m    429\u001b[0m     \u001b[0mresult_ndim\u001b[0m \u001b[0;34m=\u001b[0m \u001b[0marrays\u001b[0m\u001b[0;34m[\u001b[0m\u001b[0;36m0\u001b[0m\u001b[0;34m]\u001b[0m\u001b[0;34m.\u001b[0m\u001b[0mndim\u001b[0m \u001b[0;34m+\u001b[0m \u001b[0;36m1\u001b[0m\u001b[0;34m\u001b[0m\u001b[0;34m\u001b[0m\u001b[0m\n",
      "\u001b[0;31mValueError\u001b[0m: all input arrays must have the same shape"
     ]
    }
   ],
   "source": [
    "X_1 = np.linspace(1, 366, 15)\n",
    "X_2 = np.linspace(0, 1466, 20)\n",
    "Xs_test = np.stack([X_1,X_2],axis=1)"
   ]
  },
  {
   "cell_type": "code",
   "execution_count": 83,
   "id": "44f4a107",
   "metadata": {},
   "outputs": [
    {
     "data": {
      "text/plain": [
       "(15,)"
      ]
     },
     "execution_count": 83,
     "metadata": {},
     "output_type": "execute_result"
    }
   ],
   "source": [
    "X_1.shape"
   ]
  },
  {
   "cell_type": "code",
   "execution_count": 80,
   "id": "402c47f9",
   "metadata": {},
   "outputs": [
    {
     "data": {
      "text/plain": [
       "(2, 15, 1)"
      ]
     },
     "execution_count": 80,
     "metadata": {},
     "output_type": "execute_result"
    }
   ],
   "source": [
    "Xs_test.shape"
   ]
  },
  {
   "cell_type": "code",
   "execution_count": 76,
   "id": "94504fd1",
   "metadata": {},
   "outputs": [
    {
     "data": {
      "text/plain": [
       "array([   0.        ,  104.71428571,  209.42857143,  314.14285714,\n",
       "        418.85714286,  523.57142857,  628.28571429,  733.        ,\n",
       "        837.71428571,  942.42857143, 1047.14285714, 1151.85714286,\n",
       "       1256.57142857, 1361.28571429, 1466.        ])"
      ]
     },
     "execution_count": 76,
     "metadata": {},
     "output_type": "execute_result"
    }
   ],
   "source": [
    "X_2"
   ]
  },
  {
   "cell_type": "code",
   "execution_count": 75,
   "id": "150bdce5",
   "metadata": {},
   "outputs": [
    {
     "data": {
      "text/plain": [
       "array([[1.00000000e+00, 0.00000000e+00],\n",
       "       [2.70714286e+01, 1.04714286e+02],\n",
       "       [5.31428571e+01, 2.09428571e+02],\n",
       "       [7.92142857e+01, 3.14142857e+02],\n",
       "       [1.05285714e+02, 4.18857143e+02],\n",
       "       [1.31357143e+02, 5.23571429e+02],\n",
       "       [1.57428571e+02, 6.28285714e+02],\n",
       "       [1.83500000e+02, 7.33000000e+02],\n",
       "       [2.09571429e+02, 8.37714286e+02],\n",
       "       [2.35642857e+02, 9.42428571e+02],\n",
       "       [2.61714286e+02, 1.04714286e+03],\n",
       "       [2.87785714e+02, 1.15185714e+03],\n",
       "       [3.13857143e+02, 1.25657143e+03],\n",
       "       [3.39928571e+02, 1.36128571e+03],\n",
       "       [3.66000000e+02, 1.46600000e+03]])"
      ]
     },
     "execution_count": 75,
     "metadata": {},
     "output_type": "execute_result"
    }
   ],
   "source": [
    "Xs_test"
   ]
  },
  {
   "cell_type": "code",
   "execution_count": null,
   "id": "e73c4436",
   "metadata": {},
   "outputs": [],
   "source": []
  },
  {
   "cell_type": "code",
   "execution_count": 25,
   "id": "f67b1f7c",
   "metadata": {},
   "outputs": [
    {
     "data": {
      "text/plain": [
       "[(1.0, 0.0),\n",
       " (27.071428571428573, 104.71428571428571),\n",
       " (53.142857142857146, 209.42857142857142),\n",
       " (79.21428571428572, 314.1428571428571),\n",
       " (105.28571428571429, 418.85714285714283),\n",
       " (131.35714285714286, 523.5714285714286),\n",
       " (157.42857142857144, 628.2857142857142),\n",
       " (183.5, 733.0),\n",
       " (209.57142857142858, 837.7142857142857),\n",
       " (235.64285714285717, 942.4285714285713),\n",
       " (261.7142857142857, 1047.142857142857),\n",
       " (287.7857142857143, 1151.857142857143),\n",
       " (313.8571428571429, 1256.5714285714284),\n",
       " (339.92857142857144, 1361.2857142857142),\n",
       " (366.0, 1466.0)]"
      ]
     },
     "execution_count": 25,
     "metadata": {},
     "output_type": "execute_result"
    }
   ],
   "source": [
    "Xs_test"
   ]
  },
  {
   "cell_type": "code",
   "execution_count": 30,
   "id": "16b050b5",
   "metadata": {},
   "outputs": [
    {
     "data": {
      "text/plain": [
       "[<matplotlib.lines.Line2D at 0x7feb9c16f910>,\n",
       " <matplotlib.lines.Line2D at 0x7feb9c162790>]"
      ]
     },
     "execution_count": 30,
     "metadata": {},
     "output_type": "execute_result"
    },
    {
     "data": {
      "image/png": "[encoded data removed]",
      "text/plain": [
       "<Figure size 432x288 with 1 Axes>"
      ]
     },
     "metadata": {
      "needs_background": "light"
     },
     "output_type": "display_data"
    }
   ],
   "source": [
    "plt.plot([*itertools.product([*X_1],[*X_2])])"
   ]
  },
  {
   "cell_type": "code",
   "execution_count": 57,
   "id": "98f8abd3",
   "metadata": {},
   "outputs": [
    {
     "data": {
      "text/plain": [
       "<matplotlib.collections.PathCollection at 0x7febb2c2e950>"
      ]
     },
     "execution_count": 57,
     "metadata": {},
     "output_type": "execute_result"
    },
    {
     "data": {
      "image/png": "[encoded data removed]",
      "text/plain": [
       "<Figure size 432x288 with 1 Axes>"
      ]
     },
     "metadata": {
      "needs_background": "light"
     },
     "output_type": "display_data"
    }
   ],
   "source": [
    "X_1 = np.linspace(1, 366, 30)\n",
    "X_2 = np.linspace(0,1435,100)\n",
    "\n",
    "X_1 = [1, 225, 300] #np.linspace(1,366,10)\n",
    "plt.scatter(*zip(*itertools.product([*X_1],[*X_2])))"
   ]
  },
  {
   "cell_type": "code",
   "execution_count": 58,
   "id": "c6b4bed5",
   "metadata": {},
   "outputs": [
    {
     "data": {
      "text/plain": [
       "array([  1.        ,   7.1530901 ,  51.16669791, 366.        ])"
      ]
     },
     "execution_count": 58,
     "metadata": {},
     "output_type": "execute_result"
    }
   ],
   "source": [
    "np.geomspace(1,366, num =4)"
   ]
  },
  {
   "cell_type": "code",
   "execution_count": null,
   "id": "01d6e9be",
   "metadata": {},
   "outputs": [],
   "source": []
  },
  {
   "cell_type": "code",
   "execution_count": 32,
   "id": "e410690f",
   "metadata": {},
   "outputs": [
    {
     "data": {
      "text/plain": [
       "[(1.0, 0.0),\n",
       " (1.0, 104.71428571428571),\n",
       " (1.0, 209.42857142857142),\n",
       " (1.0, 314.1428571428571),\n",
       " (1.0, 418.85714285714283),\n",
       " (1.0, 523.5714285714286),\n",
       " (1.0, 628.2857142857142),\n",
       " (1.0, 733.0),\n",
       " (1.0, 837.7142857142857),\n",
       " (1.0, 942.4285714285713),\n",
       " (1.0, 1047.142857142857),\n",
       " (1.0, 1151.857142857143),\n",
       " (1.0, 1256.5714285714284),\n",
       " (1.0, 1361.2857142857142),\n",
       " (1.0, 1466.0),\n",
       " (27.071428571428573, 0.0),\n",
       " (27.071428571428573, 104.71428571428571),\n",
       " (27.071428571428573, 209.42857142857142),\n",
       " (27.071428571428573, 314.1428571428571),\n",
       " (27.071428571428573, 418.85714285714283),\n",
       " (27.071428571428573, 523.5714285714286),\n",
       " (27.071428571428573, 628.2857142857142),\n",
       " (27.071428571428573, 733.0),\n",
       " (27.071428571428573, 837.7142857142857),\n",
       " (27.071428571428573, 942.4285714285713),\n",
       " (27.071428571428573, 1047.142857142857),\n",
       " (27.071428571428573, 1151.857142857143),\n",
       " (27.071428571428573, 1256.5714285714284),\n",
       " (27.071428571428573, 1361.2857142857142),\n",
       " (27.071428571428573, 1466.0),\n",
       " (53.142857142857146, 0.0),\n",
       " (53.142857142857146, 104.71428571428571),\n",
       " (53.142857142857146, 209.42857142857142),\n",
       " (53.142857142857146, 314.1428571428571),\n",
       " (53.142857142857146, 418.85714285714283),\n",
       " (53.142857142857146, 523.5714285714286),\n",
       " (53.142857142857146, 628.2857142857142),\n",
       " (53.142857142857146, 733.0),\n",
       " (53.142857142857146, 837.7142857142857),\n",
       " (53.142857142857146, 942.4285714285713),\n",
       " (53.142857142857146, 1047.142857142857),\n",
       " (53.142857142857146, 1151.857142857143),\n",
       " (53.142857142857146, 1256.5714285714284),\n",
       " (53.142857142857146, 1361.2857142857142),\n",
       " (53.142857142857146, 1466.0),\n",
       " (79.21428571428572, 0.0),\n",
       " (79.21428571428572, 104.71428571428571),\n",
       " (79.21428571428572, 209.42857142857142),\n",
       " (79.21428571428572, 314.1428571428571),\n",
       " (79.21428571428572, 418.85714285714283),\n",
       " (79.21428571428572, 523.5714285714286),\n",
       " (79.21428571428572, 628.2857142857142),\n",
       " (79.21428571428572, 733.0),\n",
       " (79.21428571428572, 837.7142857142857),\n",
       " (79.21428571428572, 942.4285714285713),\n",
       " (79.21428571428572, 1047.142857142857),\n",
       " (79.21428571428572, 1151.857142857143),\n",
       " (79.21428571428572, 1256.5714285714284),\n",
       " (79.21428571428572, 1361.2857142857142),\n",
       " (79.21428571428572, 1466.0),\n",
       " (105.28571428571429, 0.0),\n",
       " (105.28571428571429, 104.71428571428571),\n",
       " (105.28571428571429, 209.42857142857142),\n",
       " (105.28571428571429, 314.1428571428571),\n",
       " (105.28571428571429, 418.85714285714283),\n",
       " (105.28571428571429, 523.5714285714286),\n",
       " (105.28571428571429, 628.2857142857142),\n",
       " (105.28571428571429, 733.0),\n",
       " (105.28571428571429, 837.7142857142857),\n",
       " (105.28571428571429, 942.4285714285713),\n",
       " (105.28571428571429, 1047.142857142857),\n",
       " (105.28571428571429, 1151.857142857143),\n",
       " (105.28571428571429, 1256.5714285714284),\n",
       " (105.28571428571429, 1361.2857142857142),\n",
       " (105.28571428571429, 1466.0),\n",
       " (131.35714285714286, 0.0),\n",
       " (131.35714285714286, 104.71428571428571),\n",
       " (131.35714285714286, 209.42857142857142),\n",
       " (131.35714285714286, 314.1428571428571),\n",
       " (131.35714285714286, 418.85714285714283),\n",
       " (131.35714285714286, 523.5714285714286),\n",
       " (131.35714285714286, 628.2857142857142),\n",
       " (131.35714285714286, 733.0),\n",
       " (131.35714285714286, 837.7142857142857),\n",
       " (131.35714285714286, 942.4285714285713),\n",
       " (131.35714285714286, 1047.142857142857),\n",
       " (131.35714285714286, 1151.857142857143),\n",
       " (131.35714285714286, 1256.5714285714284),\n",
       " (131.35714285714286, 1361.2857142857142),\n",
       " (131.35714285714286, 1466.0),\n",
       " (157.42857142857144, 0.0),\n",
       " (157.42857142857144, 104.71428571428571),\n",
       " (157.42857142857144, 209.42857142857142),\n",
       " (157.42857142857144, 314.1428571428571),\n",
       " (157.42857142857144, 418.85714285714283),\n",
       " (157.42857142857144, 523.5714285714286),\n",
       " (157.42857142857144, 628.2857142857142),\n",
       " (157.42857142857144, 733.0),\n",
       " (157.42857142857144, 837.7142857142857),\n",
       " (157.42857142857144, 942.4285714285713),\n",
       " (157.42857142857144, 1047.142857142857),\n",
       " (157.42857142857144, 1151.857142857143),\n",
       " (157.42857142857144, 1256.5714285714284),\n",
       " (157.42857142857144, 1361.2857142857142),\n",
       " (157.42857142857144, 1466.0),\n",
       " (183.5, 0.0),\n",
       " (183.5, 104.71428571428571),\n",
       " (183.5, 209.42857142857142),\n",
       " (183.5, 314.1428571428571),\n",
       " (183.5, 418.85714285714283),\n",
       " (183.5, 523.5714285714286),\n",
       " (183.5, 628.2857142857142),\n",
       " (183.5, 733.0),\n",
       " (183.5, 837.7142857142857),\n",
       " (183.5, 942.4285714285713),\n",
       " (183.5, 1047.142857142857),\n",
       " (183.5, 1151.857142857143),\n",
       " (183.5, 1256.5714285714284),\n",
       " (183.5, 1361.2857142857142),\n",
       " (183.5, 1466.0),\n",
       " (209.57142857142858, 0.0),\n",
       " (209.57142857142858, 104.71428571428571),\n",
       " (209.57142857142858, 209.42857142857142),\n",
       " (209.57142857142858, 314.1428571428571),\n",
       " (209.57142857142858, 418.85714285714283),\n",
       " (209.57142857142858, 523.5714285714286),\n",
       " (209.57142857142858, 628.2857142857142),\n",
       " (209.57142857142858, 733.0),\n",
       " (209.57142857142858, 837.7142857142857),\n",
       " (209.57142857142858, 942.4285714285713),\n",
       " (209.57142857142858, 1047.142857142857),\n",
       " (209.57142857142858, 1151.857142857143),\n",
       " (209.57142857142858, 1256.5714285714284),\n",
       " (209.57142857142858, 1361.2857142857142),\n",
       " (209.57142857142858, 1466.0),\n",
       " (235.64285714285717, 0.0),\n",
       " (235.64285714285717, 104.71428571428571),\n",
       " (235.64285714285717, 209.42857142857142),\n",
       " (235.64285714285717, 314.1428571428571),\n",
       " (235.64285714285717, 418.85714285714283),\n",
       " (235.64285714285717, 523.5714285714286),\n",
       " (235.64285714285717, 628.2857142857142),\n",
       " (235.64285714285717, 733.0),\n",
       " (235.64285714285717, 837.7142857142857),\n",
       " (235.64285714285717, 942.4285714285713),\n",
       " (235.64285714285717, 1047.142857142857),\n",
       " (235.64285714285717, 1151.857142857143),\n",
       " (235.64285714285717, 1256.5714285714284),\n",
       " (235.64285714285717, 1361.2857142857142),\n",
       " (235.64285714285717, 1466.0),\n",
       " (261.7142857142857, 0.0),\n",
       " (261.7142857142857, 104.71428571428571),\n",
       " (261.7142857142857, 209.42857142857142),\n",
       " (261.7142857142857, 314.1428571428571),\n",
       " (261.7142857142857, 418.85714285714283),\n",
       " (261.7142857142857, 523.5714285714286),\n",
       " (261.7142857142857, 628.2857142857142),\n",
       " (261.7142857142857, 733.0),\n",
       " (261.7142857142857, 837.7142857142857),\n",
       " (261.7142857142857, 942.4285714285713),\n",
       " (261.7142857142857, 1047.142857142857),\n",
       " (261.7142857142857, 1151.857142857143),\n",
       " (261.7142857142857, 1256.5714285714284),\n",
       " (261.7142857142857, 1361.2857142857142),\n",
       " (261.7142857142857, 1466.0),\n",
       " (287.7857142857143, 0.0),\n",
       " (287.7857142857143, 104.71428571428571),\n",
       " (287.7857142857143, 209.42857142857142),\n",
       " (287.7857142857143, 314.1428571428571),\n",
       " (287.7857142857143, 418.85714285714283),\n",
       " (287.7857142857143, 523.5714285714286),\n",
       " (287.7857142857143, 628.2857142857142),\n",
       " (287.7857142857143, 733.0),\n",
       " (287.7857142857143, 837.7142857142857),\n",
       " (287.7857142857143, 942.4285714285713),\n",
       " (287.7857142857143, 1047.142857142857),\n",
       " (287.7857142857143, 1151.857142857143),\n",
       " (287.7857142857143, 1256.5714285714284),\n",
       " (287.7857142857143, 1361.2857142857142),\n",
       " (287.7857142857143, 1466.0),\n",
       " (313.8571428571429, 0.0),\n",
       " (313.8571428571429, 104.71428571428571),\n",
       " (313.8571428571429, 209.42857142857142),\n",
       " (313.8571428571429, 314.1428571428571),\n",
       " (313.8571428571429, 418.85714285714283),\n",
       " (313.8571428571429, 523.5714285714286),\n",
       " (313.8571428571429, 628.2857142857142),\n",
       " (313.8571428571429, 733.0),\n",
       " (313.8571428571429, 837.7142857142857),\n",
       " (313.8571428571429, 942.4285714285713),\n",
       " (313.8571428571429, 1047.142857142857),\n",
       " (313.8571428571429, 1151.857142857143),\n",
       " (313.8571428571429, 1256.5714285714284),\n",
       " (313.8571428571429, 1361.2857142857142),\n",
       " (313.8571428571429, 1466.0),\n",
       " (339.92857142857144, 0.0),\n",
       " (339.92857142857144, 104.71428571428571),\n",
       " (339.92857142857144, 209.42857142857142),\n",
       " (339.92857142857144, 314.1428571428571),\n",
       " (339.92857142857144, 418.85714285714283),\n",
       " (339.92857142857144, 523.5714285714286),\n",
       " (339.92857142857144, 628.2857142857142),\n",
       " (339.92857142857144, 733.0),\n",
       " (339.92857142857144, 837.7142857142857),\n",
       " (339.92857142857144, 942.4285714285713),\n",
       " (339.92857142857144, 1047.142857142857),\n",
       " (339.92857142857144, 1151.857142857143),\n",
       " (339.92857142857144, 1256.5714285714284),\n",
       " (339.92857142857144, 1361.2857142857142),\n",
       " (339.92857142857144, 1466.0),\n",
       " (366.0, 0.0),\n",
       " (366.0, 104.71428571428571),\n",
       " (366.0, 209.42857142857142),\n",
       " (366.0, 314.1428571428571),\n",
       " (366.0, 418.85714285714283),\n",
       " (366.0, 523.5714285714286),\n",
       " (366.0, 628.2857142857142),\n",
       " (366.0, 733.0),\n",
       " (366.0, 837.7142857142857),\n",
       " (366.0, 942.4285714285713),\n",
       " (366.0, 1047.142857142857),\n",
       " (366.0, 1151.857142857143),\n",
       " (366.0, 1256.5714285714284),\n",
       " (366.0, 1361.2857142857142),\n",
       " (366.0, 1466.0)]"
      ]
     },
     "execution_count": 32,
     "metadata": {},
     "output_type": "execute_result"
    }
   ],
   "source": [
    "[*itertools.product([*X_1],[*X_2])]"
   ]
  },
  {
   "cell_type": "code",
   "execution_count": null,
   "id": "2931572a",
   "metadata": {},
   "outputs": [],
   "source": []
  },
  {
   "cell_type": "code",
   "execution_count": 50,
   "id": "5fc0cc12",
   "metadata": {},
   "outputs": [],
   "source": [
    "## MODEL BASED ON TIME OF DAY (IN MIN) ONLY\n",
    "times_train = np.asarray(train_data[['Time']]).reshape(-1, 1)\n",
    "\n",
    "centers_times = np.asarray([50, 100, 175, 300, 400, 500, 610, 700, 830, 900, 1000, 1120, 1200, 1300, 1400]).reshape(-1, 1)\n",
    "\n",
    "alpha = 0.01\n",
    "sigma_times = 10000\n",
    "\n",
    "#New representation for hours (train set):\n",
    "x2_train = rbf_kernel(times_train, centers_times, gamma=1.0/sigma_times)"
   ]
  },
  {
   "cell_type": "code",
   "execution_count": 51,
   "id": "a3ba904d",
   "metadata": {},
   "outputs": [],
   "source": [
    "\n",
    "## MODEL BASED ON DATE (DAY OF THE YEAR) ONLY\n",
    "days_train = np.asarray(train_data[['DOY']]).reshape(-1, 1)\n",
    "centers_days = np.asarray([16, 40, 75, 125, 175, 225, 275, 325]).reshape(-1, 1)\n",
    "\n",
    "alpha = 0.01\n",
    "sigma_days = 30000\n",
    "\n",
    "# New representation for days (train set):\n",
    "x1_train = rbf_kernel(days_train, centers_days, gamma=1.0/sigma_days)"
   ]
  },
  {
   "cell_type": "code",
   "execution_count": 61,
   "id": "69aaa021",
   "metadata": {},
   "outputs": [
    {
     "data": {
      "text/plain": [
       "(525479, 15)"
      ]
     },
     "execution_count": 61,
     "metadata": {},
     "output_type": "execute_result"
    }
   ],
   "source": [
    "x2_train.shape"
   ]
  },
  {
   "cell_type": "code",
   "execution_count": 62,
   "id": "341e60db",
   "metadata": {},
   "outputs": [
    {
     "data": {
      "text/plain": [
       "(525479, 23)"
      ]
     },
     "execution_count": 62,
     "metadata": {},
     "output_type": "execute_result"
    }
   ],
   "source": [
    "Xs_train.shape"
   ]
  },
  {
   "cell_type": "code",
   "execution_count": 52,
   "id": "209ac1fc",
   "metadata": {},
   "outputs": [],
   "source": [
    "X_1 = pd.DataFrame(x1_train)\n",
    "X_2 = pd.DataFrame(x2_train)\n",
    "Xs_train = pd.concat([X_1, X_2], axis=1)\n",
    "ArrayXsTrain = np.asarray(Xs_train)"
   ]
  },
  {
   "cell_type": "code",
   "execution_count": 54,
   "id": "787eeaa9",
   "metadata": {},
   "outputs": [
    {
     "data": {
      "text/plain": [
       "array([[9.92528055e-01, 9.50563797e-01, 8.33156872e-01, ...,\n",
       "        9.58654793e-63, 1.47139626e-73, 3.05638518e-85],\n",
       "       [9.92528055e-01, 9.50563797e-01, 8.33156872e-01, ...,\n",
       "        3.15906395e-62, 5.35864845e-73, 1.23016439e-84],\n",
       "       [9.92528055e-01, 9.50563797e-01, 8.33156872e-01, ...,\n",
       "        1.03581719e-61, 1.94182198e-72, 4.92659368e-84],\n",
       "       ...,\n",
       "       [1.72484442e-02, 2.95747792e-02, 6.06076999e-02, ...,\n",
       "        6.32971543e-03, 2.09611387e-01, 9.39413063e-01],\n",
       "       [1.72484442e-02, 2.95747792e-02, 6.06076999e-02, ...,\n",
       "        5.04176026e-03, 1.84519524e-01, 9.13931185e-01],\n",
       "       [1.72484442e-02, 2.95747792e-02, 6.06076999e-02, ...,\n",
       "        3.99584583e-03, 1.61621192e-01, 8.84705905e-01]])"
      ]
     },
     "execution_count": 54,
     "metadata": {},
     "output_type": "execute_result"
    }
   ],
   "source": [
    "ArrayXsTrain"
   ]
  },
  {
   "cell_type": "code",
   "execution_count": 26,
   "id": "caa0ed28",
   "metadata": {},
   "outputs": [
    {
     "data": {
      "text/plain": [
       "[<matplotlib.lines.Line2D at 0x7feb9c03bd90>]"
      ]
     },
     "execution_count": 26,
     "metadata": {},
     "output_type": "execute_result"
    },
    {
     "data": {
      "image/png": "[encoded data removed]",
      "text/plain": [
       "<Figure size 432x288 with 1 Axes>"
      ]
     },
     "metadata": {
      "needs_background": "light"
     },
     "output_type": "display_data"
    }
   ],
   "source": [
    "plt.plot(X_1,X_2)"
   ]
  },
  {
   "cell_type": "code",
   "execution_count": null,
   "id": "264fd9e4",
   "metadata": {},
   "outputs": [],
   "source": [
    "itertools."
   ]
  },
  {
   "cell_type": "code",
   "execution_count": 31,
   "id": "cfde7940",
   "metadata": {},
   "outputs": [
    {
     "data": {
      "text/plain": [
       "225"
      ]
     },
     "execution_count": 31,
     "metadata": {},
     "output_type": "execute_result"
    }
   ],
   "source": [
    "len(np.array([*itertools.product([*range(15)],[*range(15)])]))"
   ]
  },
  {
   "cell_type": "markdown",
   "id": "6bc5d1c4",
   "metadata": {},
   "source": [
    "## Starting Prompt\n",
    "Temperature is cyclical, not only on a 24 hour basis but also on a yearly basis. Convert the dataset into a richer format whereby the day of the year is also captured. For example the time “20150212 1605”, can be converted into (43, 965) because the 12th of February is the 43rd day of the year, and 16:05 is the 965th minute of the day.\n",
    "\n",
    "This data covers 6 years, so split the data into a training set of the first 5 years, and a testing set of the 6th year."
   ]
  },
  {
   "cell_type": "code",
   "execution_count": 9,
   "id": "ce868a06",
   "metadata": {},
   "outputs": [
    {
     "name": "stdout",
     "output_type": "stream",
     "text": [
      "ERROR! Session/line number was not unique in database. History logging moved to new session 1485\n",
      "Collecting tune-sklearn\n",
      "  Downloading tune_sklearn-0.4.1-py3-none-any.whl (40 kB)\n",
      "     |████████████████████████████████| 40 kB 3.9 MB/s            \n",
      "\u001b[?25hCollecting ray[tune]\n",
      "  Downloading ray-1.7.0-cp37-cp37m-macosx_10_15_intel.whl (54.9 MB)\n",
      "     |████████████████████████████████| 54.9 MB 1.5 MB/s            \n",
      "\u001b[?25hRequirement already satisfied: numpy>=1.16 in /Users/koredeakande/opt/anaconda3/lib/python3.7/site-packages (from tune-sklearn) (1.19.5)\n",
      "Requirement already satisfied: scipy in /Users/koredeakande/opt/anaconda3/lib/python3.7/site-packages (from tune-sklearn) (1.5.3)\n",
      "Requirement already satisfied: scikit-learn in /Users/koredeakande/opt/anaconda3/lib/python3.7/site-packages (from tune-sklearn) (0.23.2)\n",
      "Requirement already satisfied: grpcio>=1.28.1 in /Users/koredeakande/opt/anaconda3/lib/python3.7/site-packages (from ray[tune]) (1.34.1)\n",
      "Requirement already satisfied: protobuf>=3.15.3 in /Users/koredeakande/opt/anaconda3/lib/python3.7/site-packages (from ray[tune]) (3.17.3)\n",
      "Requirement already satisfied: redis>=3.5.0 in /Users/koredeakande/opt/anaconda3/lib/python3.7/site-packages (from ray[tune]) (3.5.3)\n",
      "Requirement already satisfied: filelock in /Users/koredeakande/opt/anaconda3/lib/python3.7/site-packages (from ray[tune]) (3.0.12)\n",
      "Requirement already satisfied: msgpack<2.0.0,>=1.0.0 in /Users/koredeakande/opt/anaconda3/lib/python3.7/site-packages (from ray[tune]) (1.0.2)\n",
      "Requirement already satisfied: pyyaml in /Users/koredeakande/opt/anaconda3/lib/python3.7/site-packages (from ray[tune]) (5.4.1)\n",
      "Requirement already satisfied: click>=7.0 in /Users/koredeakande/opt/anaconda3/lib/python3.7/site-packages (from ray[tune]) (7.1.2)\n",
      "Requirement already satisfied: attrs in /Users/koredeakande/opt/anaconda3/lib/python3.7/site-packages (from ray[tune]) (21.2.0)\n",
      "Requirement already satisfied: pandas in /Users/koredeakande/opt/anaconda3/lib/python3.7/site-packages (from ray[tune]) (1.3.3)\n",
      "Requirement already satisfied: tabulate in /Users/koredeakande/opt/anaconda3/lib/python3.7/site-packages (from ray[tune]) (0.8.7)\n",
      "Requirement already satisfied: requests in /Users/koredeakande/opt/anaconda3/lib/python3.7/site-packages (from ray[tune]) (2.26.0)\n",
      "Collecting tensorboardX>=1.9\n",
      "  Downloading tensorboardX-2.4-py2.py3-none-any.whl (124 kB)\n",
      "     |████████████████████████████████| 124 kB 5.6 MB/s            \n",
      "\u001b[?25hRequirement already satisfied: six>=1.5.2 in /Users/koredeakande/opt/anaconda3/lib/python3.7/site-packages (from grpcio>=1.28.1->ray[tune]) (1.15.0)\n",
      "Requirement already satisfied: python-dateutil>=2.7.3 in /Users/koredeakande/opt/anaconda3/lib/python3.7/site-packages (from pandas->ray[tune]) (2.8.1)\n",
      "Requirement already satisfied: pytz>=2017.3 in /Users/koredeakande/opt/anaconda3/lib/python3.7/site-packages (from pandas->ray[tune]) (2019.3)\n",
      "Requirement already satisfied: certifi>=2017.4.17 in /Users/koredeakande/opt/anaconda3/lib/python3.7/site-packages (from requests->ray[tune]) (2021.10.8)\n",
      "Requirement already satisfied: charset-normalizer~=2.0.0 in /Users/koredeakande/opt/anaconda3/lib/python3.7/site-packages (from requests->ray[tune]) (2.0.5)\n",
      "Requirement already satisfied: idna<4,>=2.5 in /Users/koredeakande/opt/anaconda3/lib/python3.7/site-packages (from requests->ray[tune]) (3.2)\n",
      "Requirement already satisfied: urllib3<1.27,>=1.21.1 in /Users/koredeakande/opt/anaconda3/lib/python3.7/site-packages (from requests->ray[tune]) (1.26.7)\n",
      "Requirement already satisfied: joblib>=0.11 in /Users/koredeakande/opt/anaconda3/lib/python3.7/site-packages (from scikit-learn->tune-sklearn) (1.0.1)\n",
      "Requirement already satisfied: threadpoolctl>=2.0.0 in /Users/koredeakande/opt/anaconda3/lib/python3.7/site-packages (from scikit-learn->tune-sklearn) (2.2.0)\n",
      "Installing collected packages: tensorboardX, ray, tune-sklearn\n",
      "Successfully installed ray-1.7.0 tensorboardX-2.4 tune-sklearn-0.4.1\n",
      "\u001b[33mWARNING: You are using pip version 21.3; however, version 21.3.1 is available.\n",
      "You should consider upgrading via the '/Users/koredeakande/opt/anaconda3/bin/python -m pip install --upgrade pip' command.\u001b[0m\n"
     ]
    }
   ],
   "source": [
    "!pip install tune-sklearn ray[tune]"
   ]
  },
  {
   "cell_type": "markdown",
   "id": "7c163c73",
   "metadata": {},
   "source": [
    "### 1. Library Importation"
   ]
  },
  {
   "cell_type": "code",
   "execution_count": 38,
   "id": "634541c3",
   "metadata": {},
   "outputs": [],
   "source": [
    "import numpy as np\n",
    "import pandas as pd\n",
    "import matplotlib.pyplot as plt\n",
    "import itertools\n",
    "from datetime import datetime\n",
    "\n",
    "#Import packages for RBF transformation and pipeline setup\n",
    "from sklearn.metrics.pairwise import rbf_kernel\n",
    "from sklearn.linear_model import Ridge\n",
    "from sklearn.base import BaseEstimator, TransformerMixin\n",
    "from sklearn.pipeline import Pipeline\n",
    "\n",
    "#Import packages for BayesSearchCV\n",
    "from skopt import BayesSearchCV\n",
    "from skopt.space import Real, Integer\n",
    "\n",
    "#Had to downgrade packages to get BayesSearchCV to work\n",
    "#!pip install scikit-learn==0.23.2\n",
    "#!pip install scipy==1.5.3"
   ]
  },
  {
   "cell_type": "code",
   "execution_count": 2,
   "id": "5dfceb11",
   "metadata": {},
   "outputs": [],
   "source": [
    "from tune_sklearn import TuneSearchCV"
   ]
  },
  {
   "cell_type": "markdown",
   "id": "dc7d4513",
   "metadata": {},
   "source": [
    "### 2. Loading the data"
   ]
  },
  {
   "cell_type": "code",
   "execution_count": 39,
   "id": "55d89506",
   "metadata": {},
   "outputs": [
    {
     "data": {
      "text/html": [
       "<div>\n",
       "<style scoped>\n",
       "    .dataframe tbody tr th:only-of-type {\n",
       "        vertical-align: middle;\n",
       "    }\n",
       "\n",
       "    .dataframe tbody tr th {\n",
       "        vertical-align: top;\n",
       "    }\n",
       "\n",
       "    .dataframe thead th {\n",
       "        text-align: right;\n",
       "    }\n",
       "</style>\n",
       "<table border=\"1\" class=\"dataframe\">\n",
       "  <thead>\n",
       "    <tr style=\"text-align: right;\">\n",
       "      <th></th>\n",
       "      <th>Date</th>\n",
       "      <th>Time</th>\n",
       "      <th>Temperature</th>\n",
       "    </tr>\n",
       "  </thead>\n",
       "  <tbody>\n",
       "    <tr>\n",
       "      <th>0</th>\n",
       "      <td>20110101.0</td>\n",
       "      <td>5.0</td>\n",
       "      <td>-6.4</td>\n",
       "    </tr>\n",
       "    <tr>\n",
       "      <th>1</th>\n",
       "      <td>20110101.0</td>\n",
       "      <td>10.0</td>\n",
       "      <td>-6.5</td>\n",
       "    </tr>\n",
       "    <tr>\n",
       "      <th>2</th>\n",
       "      <td>20110101.0</td>\n",
       "      <td>15.0</td>\n",
       "      <td>-6.5</td>\n",
       "    </tr>\n",
       "    <tr>\n",
       "      <th>3</th>\n",
       "      <td>20110101.0</td>\n",
       "      <td>20.0</td>\n",
       "      <td>-6.5</td>\n",
       "    </tr>\n",
       "    <tr>\n",
       "      <th>4</th>\n",
       "      <td>20110101.0</td>\n",
       "      <td>25.0</td>\n",
       "      <td>-6.7</td>\n",
       "    </tr>\n",
       "  </tbody>\n",
       "</table>\n",
       "</div>"
      ],
      "text/plain": [
       "         Date  Time  Temperature\n",
       "0  20110101.0   5.0         -6.4\n",
       "1  20110101.0  10.0         -6.5\n",
       "2  20110101.0  15.0         -6.5\n",
       "3  20110101.0  20.0         -6.5\n",
       "4  20110101.0  25.0         -6.7"
      ]
     },
     "execution_count": 39,
     "metadata": {},
     "output_type": "execute_result"
    }
   ],
   "source": [
    "#Specify the data files and columns to load\n",
    "years = range(2011, 2017)\n",
    "files = ['data/CRNS0101-05-%d-CA_Yosemite_Village_12_W.txt' % y for y in years]\n",
    "usecols = [1, 2, 8]\n",
    "\n",
    "#Load the data and open as a pandas dataframe\n",
    "data = [np.loadtxt(f, usecols=usecols) for f in files]\n",
    "data = pd.DataFrame(np.vstack(data), columns = [\"Date\", \"Time\", \"Temperature\"])\n",
    "data.head()"
   ]
  },
  {
   "cell_type": "markdown",
   "id": "3a6001dc",
   "metadata": {},
   "source": [
    "### 3. Data cleaning and reformatting"
   ]
  },
  {
   "cell_type": "markdown",
   "id": "b9cad4ce",
   "metadata": {},
   "source": [
    "**Remove invalid temperature datapoints**"
   ]
  },
  {
   "cell_type": "code",
   "execution_count": 40,
   "id": "a358946b",
   "metadata": {},
   "outputs": [
    {
     "name": "stdout",
     "output_type": "stream",
     "text": [
      "442 removed from the dataset. Size dropped from 631296 to 630854\n"
     ]
    }
   ],
   "source": [
    "orig_size = len(data)\n",
    "data = data[data[\"Temperature\"] > -1000]\n",
    "new_size = len(data)\n",
    "\n",
    "print(f\"{orig_size-new_size} removed from the dataset. Size dropped from {orig_size} to {new_size}\")"
   ]
  },
  {
   "cell_type": "markdown",
   "id": "fb6806e8",
   "metadata": {},
   "source": [
    "**Define functions to transform the data**"
   ]
  },
  {
   "cell_type": "code",
   "execution_count": 41,
   "id": "fddb4e13",
   "metadata": {},
   "outputs": [],
   "source": [
    "#Function to convert time from Hh:mm to mins (where mins is the nth minute of the day)\n",
    "Hmm_to_mins = lambda x: np.floor_divide(int(x),100)*60 + np.mod(int(x),100)\n",
    "\n",
    "#Function to get the day of the year from a datetime object\n",
    "get_day_of_year = lambda date: date.timetuple().tm_yday"
   ]
  },
  {
   "cell_type": "markdown",
   "id": "853b74ee",
   "metadata": {},
   "source": [
    "**Transform the data**"
   ]
  },
  {
   "cell_type": "code",
   "execution_count": 42,
   "id": "cae7c4b4",
   "metadata": {},
   "outputs": [
    {
     "data": {
      "text/html": [
       "<div>\n",
       "<style scoped>\n",
       "    .dataframe tbody tr th:only-of-type {\n",
       "        vertical-align: middle;\n",
       "    }\n",
       "\n",
       "    .dataframe tbody tr th {\n",
       "        vertical-align: top;\n",
       "    }\n",
       "\n",
       "    .dataframe thead th {\n",
       "        text-align: right;\n",
       "    }\n",
       "</style>\n",
       "<table border=\"1\" class=\"dataframe\">\n",
       "  <thead>\n",
       "    <tr style=\"text-align: right;\">\n",
       "      <th></th>\n",
       "      <th>Date</th>\n",
       "      <th>Time</th>\n",
       "      <th>Temperature</th>\n",
       "      <th>DOY</th>\n",
       "    </tr>\n",
       "  </thead>\n",
       "  <tbody>\n",
       "    <tr>\n",
       "      <th>0</th>\n",
       "      <td>2011-01-01</td>\n",
       "      <td>5</td>\n",
       "      <td>-6.4</td>\n",
       "      <td>1</td>\n",
       "    </tr>\n",
       "    <tr>\n",
       "      <th>1</th>\n",
       "      <td>2011-01-01</td>\n",
       "      <td>10</td>\n",
       "      <td>-6.5</td>\n",
       "      <td>1</td>\n",
       "    </tr>\n",
       "    <tr>\n",
       "      <th>2</th>\n",
       "      <td>2011-01-01</td>\n",
       "      <td>15</td>\n",
       "      <td>-6.5</td>\n",
       "      <td>1</td>\n",
       "    </tr>\n",
       "    <tr>\n",
       "      <th>3</th>\n",
       "      <td>2011-01-01</td>\n",
       "      <td>20</td>\n",
       "      <td>-6.5</td>\n",
       "      <td>1</td>\n",
       "    </tr>\n",
       "    <tr>\n",
       "      <th>4</th>\n",
       "      <td>2011-01-01</td>\n",
       "      <td>25</td>\n",
       "      <td>-6.7</td>\n",
       "      <td>1</td>\n",
       "    </tr>\n",
       "  </tbody>\n",
       "</table>\n",
       "</div>"
      ],
      "text/plain": [
       "        Date  Time  Temperature  DOY\n",
       "0 2011-01-01     5         -6.4    1\n",
       "1 2011-01-01    10         -6.5    1\n",
       "2 2011-01-01    15         -6.5    1\n",
       "3 2011-01-01    20         -6.5    1\n",
       "4 2011-01-01    25         -6.7    1"
      ]
     },
     "execution_count": 42,
     "metadata": {},
     "output_type": "execute_result"
    }
   ],
   "source": [
    "#Convert Time to the minute of the day\n",
    "data.Time = data.Time.apply(Hmm_to_mins)\n",
    "\n",
    "#Convert Date to Y-m-d format\n",
    "data.Date = pd.to_datetime(data.Date, format = '%Y%m%d')\n",
    "\n",
    "#Get the day of the year from Date\n",
    "data['DOY'] = data.Date.apply(get_day_of_year)\n",
    "\n",
    "data.head()"
   ]
  },
  {
   "cell_type": "markdown",
   "id": "92bf4754",
   "metadata": {},
   "source": [
    "### 4. Split to training and test set"
   ]
  },
  {
   "cell_type": "code",
   "execution_count": 43,
   "id": "e67f1d37",
   "metadata": {},
   "outputs": [],
   "source": [
    "#Training set: years before 2016 \n",
    "train_data = data[data.Date < datetime(2016,1,1)]  \n",
    "\n",
    "#Test set: 2016 and later \n",
    "test_data = data[data.Date >= datetime(2016,1,1)]  \n",
    "\n",
    "X_train, y_train = np.array([*zip(train_data.DOY,train_data.Time)]), train_data.Temperature.values\n",
    "X_test, y_test = np.array([*zip(test_data.DOY,test_data.Time)]), test_data.Temperature.values"
   ]
  },
  {
   "cell_type": "markdown",
   "id": "96cd6e3d",
   "metadata": {},
   "source": [
    "---"
   ]
  },
  {
   "cell_type": "markdown",
   "id": "a98788e6",
   "metadata": {},
   "source": [
    "## Task 1\n",
    "\n",
    "Cover each input dimension with a list of radial basis functions. This turns the pair of inputs into a much richer representation, mapping $(d,t)$ into $(Φ₁(d), Φ₂(t))$. Experiment with different numbers of radial basis functions and different widths of the radial basis function in different dimensions."
   ]
  },
  {
   "cell_type": "code",
   "execution_count": 8,
   "id": "d19c9ac1",
   "metadata": {},
   "outputs": [],
   "source": [
    "class RBF_generator(TransformerMixin, BaseEstimator):\n",
    "    \n",
    "    \"\"\"\n",
    "    Transform input into richer RBF representation\n",
    "    \n",
    "    Inputs:\n",
    "        - X_x (list): List containing the values for variable X_x\n",
    "        - rbf_num_x (int): The number of RBFs to use\n",
    "        - sigma (float or int): Influences RBF gamma, which influences the width of the RBF.\n",
    "                                The higher sigma, the wider the RBF\n",
    "    \"\"\"\n",
    "    \n",
    "    def __init__(self, \n",
    "                 #Parameters for first input dimension\n",
    "                 X1_range_min, X1_range_max, X1_num_of_centers=20, \n",
    "                 #Parameters for second input dimension – if present\n",
    "                 X2_range_min = None, X2_range_max = None, X2_num_of_centers = None, \n",
    "                 sigma= 1000):\n",
    "    \n",
    "        \n",
    "        #Initialize the input dimension range values\n",
    "        #These will correspond to either time or doy values or both in this scenario\n",
    "        self.X1_range_min = X1_range_min\n",
    "        self.X1_range_max = X1_range_max\n",
    "        self.X2_range_min = X2_range_min\n",
    "        self.X2_range_max = X2_range_max\n",
    "        \n",
    "        #Number of centers for the variables. This will affect the number of RBFs\n",
    "        self.X1_num_of_centers = X1_num_of_centers\n",
    "        self.X2_num_of_centers = X2_num_of_centers\n",
    "        \n",
    "        #Sigma which influences width of the RBF\n",
    "        self.sigma = sigma\n",
    "        \n",
    "    \n",
    "    def fit(self,X=None,y=None):\n",
    "        \n",
    "        \"\"\"\n",
    "        Determine the centers for the RBFs fitting across the input dimensions\n",
    "        \n",
    "        Parameters\n",
    "        ----------\n",
    "        X : Ignored\n",
    "            Ignored.\n",
    "            \n",
    "        y : Ignored\n",
    "            Ignored.\n",
    "        \n",
    "        Returns\n",
    "        -------\n",
    "        self : object\n",
    "            Returns the instance itself.\n",
    "        \n",
    "        \"\"\"\n",
    "        \n",
    "        #If two input dimensions entered – i.e. if modeling both daily and yearly component\n",
    "        if self.X1_num_of_centers and self.X2_num_of_centers:\n",
    "            \n",
    "            #Place RBF centres evenly spaced across the range of X1\n",
    "            self.centers_X1 = np.linspace(self.X1_range_min, self.X1_range_max, \n",
    "                                          self.X1_num_of_centers).reshape(-1, 1)\n",
    "            \n",
    "            \n",
    "            #Place RBF centres evenly spaced across the range of X2\n",
    "            self.centers_X2 = np.linspace(self.X2_range_min, self.X2_range_max, \n",
    "                                          self.X2_num_of_centers).reshape(-1, 1)\n",
    "        \n",
    "            #Get all possible combinations of centers across both dimensions\n",
    "            self.centers = np.array([*itertools.product(self.centers_X1,self.centers_X2)]).reshape(-1,2)\n",
    "         \n",
    "        #If just one input dimension\n",
    "        else:\n",
    "            self.centers = np.linspace(self.X1_range_min, self.X1_range_max, \n",
    "                                          self.X1_num_of_centers).reshape(-1, 1)\n",
    "            \n",
    "        \n",
    "        return self\n",
    "        \n",
    "    \n",
    "    def transform(self,X):\n",
    "        \n",
    "        \"\"\"\n",
    "        Apply RBF transformation\n",
    "        \n",
    "        X is transformed into a richer representation of a list of radial basis functions\n",
    "        \n",
    "        Parameters\n",
    "        ----------\n",
    "        X : array-like of shape (n_samples, n_features)\n",
    "            New data, where `n_samples` is the number of samples\n",
    "            and `n_features` is the number of features.\n",
    "            \n",
    "        Returns\n",
    "        -------\n",
    "            : list of radial basis functions\n",
    "            \n",
    "        \"\"\"\n",
    "        \n",
    "        return rbf_kernel(X, self.centers, gamma=1.0/self.sigma)\n",
    "        "
   ]
  },
  {
   "cell_type": "markdown",
   "id": "9285ece7",
   "metadata": {},
   "source": [
    "## Task 2\n",
    "Using $R²$, quantify how your model performs on the testing data in the different scenarios below. Also create plots showing the contributions:"
   ]
  },
  {
   "cell_type": "markdown",
   "id": "49e259d7",
   "metadata": {},
   "source": [
    "First a define a function to plot the contributions:"
   ]
  },
  {
   "cell_type": "code",
   "execution_count": 9,
   "id": "56fe1340",
   "metadata": {},
   "outputs": [],
   "source": [
    "def LPM_plotting(var,x,num_of_centers, sigma,alpha):\n",
    "    \n",
    "    \"\"\"\n",
    "    Function to plot the data and the model's contribution/predictions\n",
    "    \n",
    "    Inputs:\n",
    "        - x (list/array): The x-values representing either DOY or time of day\n",
    "        - num_of_centers (int): Number of centres determined from optimization\n",
    "        - sigma (float): Optimal sigma for RBF determined from optimization\n",
    "        - alpha (float): Optimal alpha for ridge regression determined from optimization\n",
    "    \n",
    "    \"\"\"\n",
    "    \n",
    "    #Get min and max values for the input. These will be fed into the RBF function\n",
    "    x_min = x.min()\n",
    "    x_max = x.max()\n",
    "    \n",
    "    #Get the RBF representation of the input\n",
    "    RBF = RBF_generator(x_min, x_max, X1_num_of_centers=num_of_centers, sigma= sigma)\n",
    "    RBF.fit()\n",
    "    transformed_x = RBF.transform(x)\n",
    "    \n",
    "    #Fit Ridge regression to training data\n",
    "    regr = Ridge(alpha= alpha, fit_intercept=False).fit(transformed_x,y_train)\n",
    "    \n",
    "    \n",
    "    #Get equally spaced points across the input dimension and transform them using the RBF\n",
    "    x_pred = np.linspace(x_min, x_max, 1000).reshape(-1, 1)\n",
    "    \n",
    "    RBF = RBF_generator(x_pred.min(), x_pred.max(), X1_num_of_centers=num_of_centers, sigma= sigma)\n",
    "    RBF.fit()\n",
    "    transformed_x_pred = RBF.transform(x_pred)\n",
    "    \n",
    "    #Predict the value using the fitted regression\n",
    "    y_pred = regr.predict(transformed_x_pred)\n",
    "    \n",
    "    \n",
    "    plt.scatter(data[var], data.Temperature, label='Data', color='b')\n",
    "    plt.plot(x_pred, y_pred, label='Linear prediction', color='r')\n",
    "    plt.legend(loc='best')\n",
    "    plt.show()"
   ]
  },
  {
   "cell_type": "markdown",
   "id": "e23e013b",
   "metadata": {},
   "source": [
    "### a. Train with just the daily component of the model"
   ]
  },
  {
   "cell_type": "code",
   "execution_count": null,
   "id": "af530981",
   "metadata": {},
   "outputs": [
    {
     "name": "stderr",
     "output_type": "stream",
     "text": [
      "/Users/koredeakande/opt/anaconda3/lib/python3.7/site-packages/tune_sklearn/tune_basesearch.py:406: UserWarning: max_iters is set > 1 but incremental/partial training is not enabled. To enable partial training, ensure the estimator has `partial_fit` or `warm_start` and set `early_stopping=True`. Automatically setting max_iters=1.\n",
      "  category=UserWarning)\n",
      "SIGINT received (e.g. via Ctrl+C), ending Ray Tune run. This will try to checkpoint the experiment state one last time. Press CTRL+C one more time (or send SIGINT/SIGKILL/SIGTERM) to skip. \n",
      "Trials did not complete: [_Trainable_dd99d46a, _Trainable_ddbcdf82, _Trainable_ddce7d78, _Trainable_de05c33c, _Trainable_de1b1354, _Trainable_e29a224e]\n",
      "Experiment has been interrupted, but the most recent state was saved. You can continue running this experiment by passing `resume=True` to `tune.run()`\n"
     ]
    }
   ],
   "source": [
    "#Note steps – these will be used in the creation of a pipeline\n",
    "estimators = [('rbf', RBF_generator(X_train[:,1].min(), X_train[:,1].max())), \n",
    "              ('clf', Ridge(fit_intercept = False))]\n",
    "\n",
    "#Create pipeline\n",
    "pipe = Pipeline(estimators)\n",
    "\n",
    "#Define search space\n",
    "opt = TuneSearchCV(\n",
    "    pipe,\n",
    "    param_distributions = {\n",
    "        'rbf__X1_num_of_centers': Integer(10,200),\n",
    "        'rbf__sigma': Real(1e-6, 1e+6),\n",
    "        'clf__alpha': Real(1e-10,1e+4),\n",
    "    }, \n",
    "    scoring = 'r2',\n",
    "    max_iters=10,\n",
    "    search_optimization=\"bayesian\"\n",
    ")\n",
    "\n",
    "#Execute bayesian optimization\n",
    "_ = opt.fit(X_train[:,1].reshape(-1, 1), y_train.reshape(-1, 1))"
   ]
  },
  {
   "cell_type": "code",
   "execution_count": 23,
   "id": "3b661e97",
   "metadata": {},
   "outputs": [
    {
     "data": {
      "text/plain": [
       "{'rbf__X1_num_of_centers': 140,\n",
       " 'rbf__sigma': 173149.67532018985,\n",
       " 'clf__alpha': 991.8747060373316}"
      ]
     },
     "execution_count": 23,
     "metadata": {},
     "output_type": "execute_result"
    }
   ],
   "source": [
    "#Get the best parameters\n",
    "opt.best_params_"
   ]
  },
  {
   "cell_type": "markdown",
   "id": "0daa8d3e",
   "metadata": {},
   "source": [
    "#### Plot the contribution and calculate the 𝑅² values"
   ]
  },
  {
   "cell_type": "code",
   "execution_count": 24,
   "id": "be117d03",
   "metadata": {},
   "outputs": [
    {
     "data": {
      "image/png": "[encoded data removed]",
      "text/plain": [
       "<Figure size 432x288 with 1 Axes>"
      ]
     },
     "metadata": {
      "needs_background": "light"
     },
     "output_type": "display_data"
    },
    {
     "name": "stdout",
     "output_type": "stream",
     "text": [
      "Training data 𝑅²: 0.02598011560364366\n",
      "Test data 𝑅²: 0.04267606563458459\n"
     ]
    }
   ],
   "source": [
    "LPM_plotting('Time', X_train[:,1].reshape(-1, 1),\n",
    "             num_of_centers = opt.best_params_['rbf__X1_num_of_centers'], \n",
    "             sigma = opt.best_params_['rbf__sigma'],\n",
    "             alpha = opt.best_params_['clf__alpha'])\n",
    "print(f\"Training data 𝑅²: {opt.best_score_}\")\n",
    "print(f\"Test data 𝑅²: {opt.score(X_test[:,1].reshape(-1, 1), y_test.reshape(-1, 1))}\")"
   ]
  },
  {
   "cell_type": "markdown",
   "id": "9c4e9922",
   "metadata": {},
   "source": [
    "### b. Train with just the yearly component of the model"
   ]
  },
  {
   "cell_type": "code",
   "execution_count": 23,
   "id": "d4f53cf4",
   "metadata": {},
   "outputs": [],
   "source": [
    "#Note steps – these will be used in the creation of a pipeline\n",
    "estimators = [('rbf', RBF_generator(X_train[:,0].min(), X_train[:,0].max())), \n",
    "              ('clf', Ridge(fit_intercept = False))]\n",
    "\n",
    "#Create pipeline\n",
    "pipe = Pipeline(estimators)\n",
    "\n",
    "#Define search space\n",
    "opt = BayesSearchCV(\n",
    "    pipe,\n",
    "    {\n",
    "        'rbf__X1_num_of_centers': Integer(10,100),\n",
    "        'rbf__sigma': Real(1e-6, 1e+6),\n",
    "        'clf__alpha': Real(1e-6,1e+6),\n",
    "    }, scoring = 'r2'\n",
    ")\n",
    "\n",
    "#Execute bayesian optimization\n",
    "_ = opt.fit(X_train[:,0].reshape(-1, 1), y_train.reshape(-1, 1))"
   ]
  },
  {
   "cell_type": "code",
   "execution_count": 24,
   "id": "fe1352da",
   "metadata": {},
   "outputs": [
    {
     "data": {
      "text/plain": [
       "OrderedDict([('clf__alpha', 127.53321472270271),\n",
       "             ('rbf__X1_num_of_centers', 68),\n",
       "             ('rbf__sigma', 14253.909456825459)])"
      ]
     },
     "execution_count": 24,
     "metadata": {},
     "output_type": "execute_result"
    }
   ],
   "source": [
    "#Get the best parameters\n",
    "opt.best_params_"
   ]
  },
  {
   "cell_type": "markdown",
   "id": "c23e15c9",
   "metadata": {},
   "source": [
    "#### Plot the contribution and calculate the 𝑅² values"
   ]
  },
  {
   "cell_type": "code",
   "execution_count": 66,
   "id": "ad3ab00f",
   "metadata": {},
   "outputs": [
    {
     "data": {
      "image/png": "[encoded data removed]",
      "text/plain": [
       "<Figure size 432x288 with 1 Axes>"
      ]
     },
     "metadata": {
      "needs_background": "light"
     },
     "output_type": "display_data"
    },
    {
     "name": "stdout",
     "output_type": "stream",
     "text": [
      "Training data 𝑅²: 0.5348629915366625\n",
      "Test data 𝑅²: 0.5827383145665176\n"
     ]
    }
   ],
   "source": [
    "LPM_plotting('DOY', X_train[:,0].reshape(-1, 1),\n",
    "             num_of_centers = opt.best_params_['rbf__X1_num_of_centers'], \n",
    "             sigma = opt.best_params_['rbf__sigma'],\n",
    "             alpha = opt.best_params_['clf__alpha'])\n",
    "print(f\"Training data 𝑅²: {opt.best_score_}\")\n",
    "print(f\"Test data 𝑅²: {opt.score(X_test[:,0].reshape(-1, 1), y_test.reshape(-1, 1))}\")"
   ]
  },
  {
   "cell_type": "markdown",
   "id": "b810a3fe",
   "metadata": {},
   "source": [
    "### c. Train with the full model"
   ]
  },
  {
   "cell_type": "code",
   "execution_count": null,
   "id": "a2bf0d3a",
   "metadata": {},
   "outputs": [
    {
     "name": "stderr",
     "output_type": "stream",
     "text": [
      "/Users/koredeakande/opt/anaconda3/lib/python3.7/site-packages/tune_sklearn/tune_basesearch.py:406: UserWarning: max_iters is set > 1 but incremental/partial training is not enabled. To enable partial training, ensure the estimator has `partial_fit` or `warm_start` and set `early_stopping=True`. Automatically setting max_iters=1.\n",
      "  category=UserWarning)\n"
     ]
    }
   ],
   "source": [
    "#Note steps – these will be used in the creation of a pipeline\n",
    "estimators = [('rbf', \n",
    "               RBF_generator(\n",
    "                   X1_range_min = X_train[:,0].min(), \n",
    "                   X1_range_max = X_train[:,0].max(), \n",
    "                   X2_range_min = X_train[:,1].min(),\n",
    "                   X2_range_max = X_train[:,1].max())), \n",
    "              ('clf', Ridge(fit_intercept = False))]\n",
    "\n",
    "#Create pipeline\n",
    "pipe = Pipeline(estimators)\n",
    "\n",
    "#Define search space\n",
    "opt = TuneSearchCV(\n",
    "    pipe,\n",
    "    param_distributions = {\n",
    "        'rbf__X1_num_of_centers': Integer(10,100),\n",
    "        'rbf__X2_num_of_centers': Integer(10,100),\n",
    "        'rbf__sigma': Real(1e-6, 1e+6),\n",
    "        'clf__alpha': Real(1e-10,1e+4),\n",
    "    }, \n",
    "    scoring = 'r2',\n",
    "    max_iters=10,\n",
    "    search_optimization=\"bayesian\"\n",
    ")\n",
    "\n",
    "#Execute bayesian optimization\n",
    "_ = opt.fit(X_train, y_train.reshape(-1, 1))"
   ]
  },
  {
   "cell_type": "code",
   "execution_count": 77,
   "id": "019dba42",
   "metadata": {},
   "outputs": [
    {
     "data": {
      "text/plain": [
       "OrderedDict([('clf__alpha', 1e-10),\n",
       "             ('rbf__X1_num_of_centers', 200),\n",
       "             ('rbf__sigma', 29996.910416700888)])"
      ]
     },
     "execution_count": 77,
     "metadata": {},
     "output_type": "execute_result"
    }
   ],
   "source": [
    "#Get the best parameters\n",
    "opt.best_params_"
   ]
  },
  {
   "cell_type": "markdown",
   "id": "ba351968",
   "metadata": {},
   "source": [
    "#### Plot the contribution and calculate the 𝑅² values"
   ]
  },
  {
   "cell_type": "code",
   "execution_count": 78,
   "id": "7ea7b933",
   "metadata": {},
   "outputs": [
    {
     "data": {
      "image/png": "[encoded data removed]",
      "text/plain": [
       "<Figure size 432x288 with 1 Axes>"
      ]
     },
     "metadata": {
      "needs_background": "light"
     },
     "output_type": "display_data"
    },
    {
     "name": "stdout",
     "output_type": "stream",
     "text": [
      "Training data 𝑅²: 0.02774243378631993\n",
      "Test data 𝑅²: 0.0442815358301335\n"
     ]
    }
   ],
   "source": [
    "LPM_plotting('Time', X_train[:,1].reshape(-1, 1),\n",
    "             num_of_centers = opt.best_params_['rbf__X1_num_of_centers'], \n",
    "             sigma = opt.best_params_['rbf__sigma'],\n",
    "             alpha = opt.best_params_['clf__alpha'])\n",
    "print(f\"Training data 𝑅²: {opt.best_score_}\")\n",
    "print(f\"Test data 𝑅²: {opt.score(X_test[:,1].reshape(-1, 1), y_test.reshape(-1, 1))}\")"
   ]
  },
  {
   "cell_type": "code",
   "execution_count": null,
   "id": "4a4efb28",
   "metadata": {},
   "outputs": [],
   "source": []
  },
  {
   "cell_type": "code",
   "execution_count": 18,
   "id": "67324aa6",
   "metadata": {},
   "outputs": [
    {
     "data": {
      "text/plain": [
       "OrderedDict([('clf__alpha', 1e-06),\n",
       "             ('rbf__X1_num_of_centers', 23),\n",
       "             ('rbf__sigma', 125919.34701278403)])"
      ]
     },
     "execution_count": 18,
     "metadata": {},
     "output_type": "execute_result"
    }
   ],
   "source": []
  },
  {
   "cell_type": "code",
   "execution_count": 19,
   "id": "4cee5349",
   "metadata": {},
   "outputs": [
    {
     "data": {
      "text/plain": [
       "0.5702146309760217"
      ]
     },
     "execution_count": 19,
     "metadata": {},
     "output_type": "execute_result"
    }
   ],
   "source": [
    "opt.score(X_test[:,0].reshape(-1, 1), y_test.reshape(-1, 1))"
   ]
  },
  {
   "cell_type": "code",
   "execution_count": 25,
   "id": "7d2fd0ff",
   "metadata": {},
   "outputs": [
    {
     "data": {
      "text/plain": [
       "(525479, 1)"
      ]
     },
     "execution_count": 25,
     "metadata": {},
     "output_type": "execute_result"
    }
   ],
   "source": [
    "y_train.reshape(-1, 1).shape"
   ]
  },
  {
   "cell_type": "code",
   "execution_count": null,
   "id": "dec6ef0f",
   "metadata": {},
   "outputs": [],
   "source": []
  },
  {
   "cell_type": "code",
   "execution_count": null,
   "id": "adc65c0b",
   "metadata": {},
   "outputs": [],
   "source": []
  },
  {
   "cell_type": "code",
   "execution_count": 104,
   "id": "156e23cc",
   "metadata": {},
   "outputs": [
    {
     "data": {
      "text/plain": [
       "array([[[0.00000000e+00],\n",
       "        [1.00000000e+00]],\n",
       "\n",
       "       [[0.00000000e+00],\n",
       "        [1.31454545e+02]],\n",
       "\n",
       "       [[0.00000000e+00],\n",
       "        [2.61909091e+02]],\n",
       "\n",
       "       [[0.00000000e+00],\n",
       "        [3.92363636e+02]],\n",
       "\n",
       "       [[0.00000000e+00],\n",
       "        [5.22818182e+02]],\n",
       "\n",
       "       [[0.00000000e+00],\n",
       "        [6.53272727e+02]],\n",
       "\n",
       "       [[0.00000000e+00],\n",
       "        [7.83727273e+02]],\n",
       "\n",
       "       [[0.00000000e+00],\n",
       "        [9.14181818e+02]],\n",
       "\n",
       "       [[0.00000000e+00],\n",
       "        [1.04463636e+03]],\n",
       "\n",
       "       [[0.00000000e+00],\n",
       "        [1.17509091e+03]],\n",
       "\n",
       "       [[0.00000000e+00],\n",
       "        [1.30554545e+03]],\n",
       "\n",
       "       [[0.00000000e+00],\n",
       "        [1.43600000e+03]],\n",
       "\n",
       "       [[9.15000000e+01],\n",
       "        [1.00000000e+00]],\n",
       "\n",
       "       [[9.15000000e+01],\n",
       "        [1.31454545e+02]],\n",
       "\n",
       "       [[9.15000000e+01],\n",
       "        [2.61909091e+02]],\n",
       "\n",
       "       [[9.15000000e+01],\n",
       "        [3.92363636e+02]],\n",
       "\n",
       "       [[9.15000000e+01],\n",
       "        [5.22818182e+02]],\n",
       "\n",
       "       [[9.15000000e+01],\n",
       "        [6.53272727e+02]],\n",
       "\n",
       "       [[9.15000000e+01],\n",
       "        [7.83727273e+02]],\n",
       "\n",
       "       [[9.15000000e+01],\n",
       "        [9.14181818e+02]],\n",
       "\n",
       "       [[9.15000000e+01],\n",
       "        [1.04463636e+03]],\n",
       "\n",
       "       [[9.15000000e+01],\n",
       "        [1.17509091e+03]],\n",
       "\n",
       "       [[9.15000000e+01],\n",
       "        [1.30554545e+03]],\n",
       "\n",
       "       [[9.15000000e+01],\n",
       "        [1.43600000e+03]],\n",
       "\n",
       "       [[1.83000000e+02],\n",
       "        [1.00000000e+00]],\n",
       "\n",
       "       [[1.83000000e+02],\n",
       "        [1.31454545e+02]],\n",
       "\n",
       "       [[1.83000000e+02],\n",
       "        [2.61909091e+02]],\n",
       "\n",
       "       [[1.83000000e+02],\n",
       "        [3.92363636e+02]],\n",
       "\n",
       "       [[1.83000000e+02],\n",
       "        [5.22818182e+02]],\n",
       "\n",
       "       [[1.83000000e+02],\n",
       "        [6.53272727e+02]],\n",
       "\n",
       "       [[1.83000000e+02],\n",
       "        [7.83727273e+02]],\n",
       "\n",
       "       [[1.83000000e+02],\n",
       "        [9.14181818e+02]],\n",
       "\n",
       "       [[1.83000000e+02],\n",
       "        [1.04463636e+03]],\n",
       "\n",
       "       [[1.83000000e+02],\n",
       "        [1.17509091e+03]],\n",
       "\n",
       "       [[1.83000000e+02],\n",
       "        [1.30554545e+03]],\n",
       "\n",
       "       [[1.83000000e+02],\n",
       "        [1.43600000e+03]],\n",
       "\n",
       "       [[2.74500000e+02],\n",
       "        [1.00000000e+00]],\n",
       "\n",
       "       [[2.74500000e+02],\n",
       "        [1.31454545e+02]],\n",
       "\n",
       "       [[2.74500000e+02],\n",
       "        [2.61909091e+02]],\n",
       "\n",
       "       [[2.74500000e+02],\n",
       "        [3.92363636e+02]],\n",
       "\n",
       "       [[2.74500000e+02],\n",
       "        [5.22818182e+02]],\n",
       "\n",
       "       [[2.74500000e+02],\n",
       "        [6.53272727e+02]],\n",
       "\n",
       "       [[2.74500000e+02],\n",
       "        [7.83727273e+02]],\n",
       "\n",
       "       [[2.74500000e+02],\n",
       "        [9.14181818e+02]],\n",
       "\n",
       "       [[2.74500000e+02],\n",
       "        [1.04463636e+03]],\n",
       "\n",
       "       [[2.74500000e+02],\n",
       "        [1.17509091e+03]],\n",
       "\n",
       "       [[2.74500000e+02],\n",
       "        [1.30554545e+03]],\n",
       "\n",
       "       [[2.74500000e+02],\n",
       "        [1.43600000e+03]],\n",
       "\n",
       "       [[3.66000000e+02],\n",
       "        [1.00000000e+00]],\n",
       "\n",
       "       [[3.66000000e+02],\n",
       "        [1.31454545e+02]],\n",
       "\n",
       "       [[3.66000000e+02],\n",
       "        [2.61909091e+02]],\n",
       "\n",
       "       [[3.66000000e+02],\n",
       "        [3.92363636e+02]],\n",
       "\n",
       "       [[3.66000000e+02],\n",
       "        [5.22818182e+02]],\n",
       "\n",
       "       [[3.66000000e+02],\n",
       "        [6.53272727e+02]],\n",
       "\n",
       "       [[3.66000000e+02],\n",
       "        [7.83727273e+02]],\n",
       "\n",
       "       [[3.66000000e+02],\n",
       "        [9.14181818e+02]],\n",
       "\n",
       "       [[3.66000000e+02],\n",
       "        [1.04463636e+03]],\n",
       "\n",
       "       [[3.66000000e+02],\n",
       "        [1.17509091e+03]],\n",
       "\n",
       "       [[3.66000000e+02],\n",
       "        [1.30554545e+03]],\n",
       "\n",
       "       [[3.66000000e+02],\n",
       "        [1.43600000e+03]]])"
      ]
     },
     "execution_count": 104,
     "metadata": {},
     "output_type": "execute_result"
    }
   ],
   "source": [
    "centers"
   ]
  },
  {
   "cell_type": "code",
   "execution_count": 105,
   "id": "f8a0f799",
   "metadata": {},
   "outputs": [
    {
     "data": {
      "text/plain": [
       "(60, 2)"
      ]
     },
     "execution_count": 105,
     "metadata": {},
     "output_type": "execute_result"
    }
   ],
   "source": [
    "centers.reshape(-1,2).shape"
   ]
  },
  {
   "cell_type": "code",
   "execution_count": null,
   "id": "9d48cb1e",
   "metadata": {},
   "outputs": [],
   "source": []
  }
 ],
 "metadata": {
  "kernelspec": {
   "display_name": "Python 3",
   "language": "python",
   "name": "python3"
  },
  "language_info": {
   "codemirror_mode": {
    "name": "ipython",
    "version": 3
   },
   "file_extension": ".py",
   "mimetype": "text/x-python",
   "name": "python",
   "nbconvert_exporter": "python",
   "pygments_lexer": "ipython3",
   "version": "3.7.11"
  }
 },
 "nbformat": 4,
 "nbformat_minor": 5
}
