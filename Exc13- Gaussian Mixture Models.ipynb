{
 "cells": [
  {
   "cell_type": "markdown",
   "id": "878bd4fe",
   "metadata": {},
   "source": [
    "## CS156 Pre-class Work 10.2\n",
    "\n",
    "**`Gaussian Mixture Models (GMM)` | `EM Algorithm`**"
   ]
  },
  {
   "cell_type": "markdown",
   "id": "4e455b9e",
   "metadata": {},
   "source": [
    "### Library Importation"
   ]
  },
  {
   "cell_type": "code",
   "execution_count": 2,
   "id": "b18cc368",
   "metadata": {},
   "outputs": [],
   "source": [
    "import pandas as pd\n",
    "import numpy as np\n",
    "import matplotlib.pyplot as plt\n",
    "from sklearn.neighbors import KernelDensity"
   ]
  },
  {
   "cell_type": "markdown",
   "id": "6eab3e70",
   "metadata": {},
   "source": [
    "### 1. Fraud: A How-To Guide\n",
    "In this problem you will use density modeling to try and ensure that there are no statistical irregularities in data that you have generated yourself.\n",
    "\n",
    "- Download the data containing personal transactions over a period of several years.\n",
    "- Now build a density model for the number of transactions that occur in a single month.\n",
    "- Create plots showing the distribution that you've created.\n",
    "- Draw 10 samples from this density model using `scikit.learn`."
   ]
  },
  {
   "cell_type": "markdown",
   "id": "ba55e48b",
   "metadata": {},
   "source": [
    "#### a. Load the data"
   ]
  },
  {
   "cell_type": "code",
   "execution_count": 3,
   "id": "10579667",
   "metadata": {},
   "outputs": [
    {
     "data": {
      "text/html": [
       "<div>\n",
       "<style scoped>\n",
       "    .dataframe tbody tr th:only-of-type {\n",
       "        vertical-align: middle;\n",
       "    }\n",
       "\n",
       "    .dataframe tbody tr th {\n",
       "        vertical-align: top;\n",
       "    }\n",
       "\n",
       "    .dataframe thead th {\n",
       "        text-align: right;\n",
       "    }\n",
       "</style>\n",
       "<table border=\"1\" class=\"dataframe\">\n",
       "  <thead>\n",
       "    <tr style=\"text-align: right;\">\n",
       "      <th></th>\n",
       "      <th>Date</th>\n",
       "      <th>Amount</th>\n",
       "    </tr>\n",
       "  </thead>\n",
       "  <tbody>\n",
       "    <tr>\n",
       "      <th>0</th>\n",
       "      <td>25May2016</td>\n",
       "      <td>54241.35</td>\n",
       "    </tr>\n",
       "    <tr>\n",
       "      <th>1</th>\n",
       "      <td>29May2017</td>\n",
       "      <td>54008.83</td>\n",
       "    </tr>\n",
       "    <tr>\n",
       "      <th>2</th>\n",
       "      <td>30Jun2017</td>\n",
       "      <td>54008.82</td>\n",
       "    </tr>\n",
       "    <tr>\n",
       "      <th>3</th>\n",
       "      <td>05Jan2017</td>\n",
       "      <td>52704.37</td>\n",
       "    </tr>\n",
       "    <tr>\n",
       "      <th>4</th>\n",
       "      <td>23Feb2017</td>\n",
       "      <td>52704.36</td>\n",
       "    </tr>\n",
       "  </tbody>\n",
       "</table>\n",
       "</div>"
      ],
      "text/plain": [
       "        Date    Amount\n",
       "0  25May2016  54241.35\n",
       "1  29May2017  54008.83\n",
       "2  30Jun2017  54008.82\n",
       "3  05Jan2017  52704.37\n",
       "4  23Feb2017  52704.36"
      ]
     },
     "execution_count": 3,
     "metadata": {},
     "output_type": "execute_result"
    }
   ],
   "source": [
    "#Load the transaction data\n",
    "df = pd.read_csv('anonymized.csv')\n",
    "\n",
    "#Quick snippet of the data\n",
    "df.head()"
   ]
  },
  {
   "cell_type": "markdown",
   "id": "c4c57922",
   "metadata": {},
   "source": [
    "#### b. Format month"
   ]
  },
  {
   "cell_type": "code",
   "execution_count": 4,
   "id": "4fff26b0",
   "metadata": {},
   "outputs": [
    {
     "data": {
      "text/html": [
       "<div>\n",
       "<style scoped>\n",
       "    .dataframe tbody tr th:only-of-type {\n",
       "        vertical-align: middle;\n",
       "    }\n",
       "\n",
       "    .dataframe tbody tr th {\n",
       "        vertical-align: top;\n",
       "    }\n",
       "\n",
       "    .dataframe thead th {\n",
       "        text-align: right;\n",
       "    }\n",
       "</style>\n",
       "<table border=\"1\" class=\"dataframe\">\n",
       "  <thead>\n",
       "    <tr style=\"text-align: right;\">\n",
       "      <th></th>\n",
       "      <th>Date</th>\n",
       "      <th>Amount</th>\n",
       "      <th>Month</th>\n",
       "    </tr>\n",
       "  </thead>\n",
       "  <tbody>\n",
       "    <tr>\n",
       "      <th>0</th>\n",
       "      <td>2016-05-25</td>\n",
       "      <td>54241.35</td>\n",
       "      <td>5</td>\n",
       "    </tr>\n",
       "    <tr>\n",
       "      <th>1</th>\n",
       "      <td>2017-05-29</td>\n",
       "      <td>54008.83</td>\n",
       "      <td>5</td>\n",
       "    </tr>\n",
       "    <tr>\n",
       "      <th>2</th>\n",
       "      <td>2017-06-30</td>\n",
       "      <td>54008.82</td>\n",
       "      <td>6</td>\n",
       "    </tr>\n",
       "    <tr>\n",
       "      <th>3</th>\n",
       "      <td>2017-01-05</td>\n",
       "      <td>52704.37</td>\n",
       "      <td>1</td>\n",
       "    </tr>\n",
       "    <tr>\n",
       "      <th>4</th>\n",
       "      <td>2017-02-23</td>\n",
       "      <td>52704.36</td>\n",
       "      <td>2</td>\n",
       "    </tr>\n",
       "  </tbody>\n",
       "</table>\n",
       "</div>"
      ],
      "text/plain": [
       "        Date    Amount  Month\n",
       "0 2016-05-25  54241.35      5\n",
       "1 2017-05-29  54008.83      5\n",
       "2 2017-06-30  54008.82      6\n",
       "3 2017-01-05  52704.37      1\n",
       "4 2017-02-23  52704.36      2"
      ]
     },
     "execution_count": 4,
     "metadata": {},
     "output_type": "execute_result"
    }
   ],
   "source": [
    "#Convert date to datetime object\n",
    "df.Date = pd.to_datetime(df.Date,format='%d%b%Y')\n",
    "\n",
    "#Get the month of the date\n",
    "df['Month'] = pd.DatetimeIndex(df.Date).month\n",
    "\n",
    "#Quick snippet\n",
    "df.head()"
   ]
  },
  {
   "cell_type": "markdown",
   "id": "d2cc74f2",
   "metadata": {},
   "source": [
    "#### c. Calculate the number of transactions per (decimal months)"
   ]
  },
  {
   "cell_type": "code",
   "execution_count": 5,
   "id": "b871d806",
   "metadata": {},
   "outputs": [
    {
     "data": {
      "text/html": [
       "<div>\n",
       "<style scoped>\n",
       "    .dataframe tbody tr th:only-of-type {\n",
       "        vertical-align: middle;\n",
       "    }\n",
       "\n",
       "    .dataframe tbody tr th {\n",
       "        vertical-align: top;\n",
       "    }\n",
       "\n",
       "    .dataframe thead th {\n",
       "        text-align: right;\n",
       "    }\n",
       "</style>\n",
       "<table border=\"1\" class=\"dataframe\">\n",
       "  <thead>\n",
       "    <tr style=\"text-align: right;\">\n",
       "      <th></th>\n",
       "      <th>Transactions</th>\n",
       "    </tr>\n",
       "    <tr>\n",
       "      <th>Month</th>\n",
       "      <th></th>\n",
       "    </tr>\n",
       "  </thead>\n",
       "  <tbody>\n",
       "    <tr>\n",
       "      <th>1</th>\n",
       "      <td>243</td>\n",
       "    </tr>\n",
       "    <tr>\n",
       "      <th>2</th>\n",
       "      <td>195</td>\n",
       "    </tr>\n",
       "    <tr>\n",
       "      <th>3</th>\n",
       "      <td>235</td>\n",
       "    </tr>\n",
       "    <tr>\n",
       "      <th>4</th>\n",
       "      <td>194</td>\n",
       "    </tr>\n",
       "    <tr>\n",
       "      <th>5</th>\n",
       "      <td>221</td>\n",
       "    </tr>\n",
       "  </tbody>\n",
       "</table>\n",
       "</div>"
      ],
      "text/plain": [
       "       Transactions\n",
       "Month              \n",
       "1               243\n",
       "2               195\n",
       "3               235\n",
       "4               194\n",
       "5               221"
      ]
     },
     "execution_count": 5,
     "metadata": {},
     "output_type": "execute_result"
    }
   ],
   "source": [
    "month_transactions = df.groupby(\"Month\")[['Amount']]\\\n",
    "                       .count()\\\n",
    "                       .rename(columns = {'Amount':'Transactions'})\n",
    "\n",
    "month_transactions.head()"
   ]
  },
  {
   "cell_type": "markdown",
   "id": "81d7e18f",
   "metadata": {},
   "source": [
    "#### d. Build a density model and draw 10 samples"
   ]
  },
  {
   "cell_type": "code",
   "execution_count": 6,
   "id": "46129d19",
   "metadata": {},
   "outputs": [],
   "source": [
    "kde = KernelDensity(kernel='gaussian', bandwidth=5).fit(month_transactions[['Transactions']])\n",
    "X_plot = np.linspace(150, 300, 10000)[:, np.newaxis]\n",
    "log_dens = kde.score_samples(X_plot)"
   ]
  },
  {
   "cell_type": "code",
   "execution_count": 7,
   "id": "be6d8928",
   "metadata": {},
   "outputs": [
    {
     "data": {
      "image/png": "[encoded data removed]",
      "text/plain": [
       "<Figure size 432x288 with 1 Axes>"
      ]
     },
     "metadata": {
      "needs_background": "light"
     },
     "output_type": "display_data"
    }
   ],
   "source": [
    "#Plot the distribution\n",
    "plt.fill(X_plot,np.exp(log_dens),\"-k\",fc=\"#AAAAFF\")\n",
    "\n",
    "#Draw 10 samples of 10 points from the data\n",
    "for _ in range(10):\n",
    "    new_data = kde.sample(44, random_state=0)\n",
    "    plt.plot(new_data,np.zeros(len(new_data)),'+', color='black')\n",
    "\n",
    "plt.show()"
   ]
  },
  {
   "cell_type": "markdown",
   "id": "6a6554db",
   "metadata": {},
   "source": [
    "### 2. Clustering Survey Data\n",
    "In this problem you will use expectation maximization (EM) on survey data. For the statistical model that we wish to fit, we will assume that everyone comes from one of four clusters.\n",
    "\n",
    "- Download the following Python script which generates (synthetic) responses to a binary questionnaire.\n",
    "- Use the script to generate an example dataset.\n",
    "- Download the following Python script which you will have to edit and finish so that it can infer which person belonged to which cluster. In particular you will need to:\n",
    "- Estimate the probability of a person belonging to a particular cluster.\n",
    "- Estimate the maximum likelihood parameters for the biases. This is the probability that a person from a particular cluster will answer true to a particular question."
   ]
  },
  {
   "cell_type": "code",
   "execution_count": 106,
   "id": "eede7f14",
   "metadata": {},
   "outputs": [
    {
     "name": "stdout",
     "output_type": "stream",
     "text": [
      "[0 0 0 1 2 0 0 1 2 0 0 2 0 0 0 1 1 0 2 0 1 3 0 0 0 0 1 0 0 1 1 1 0 1 1 2 1\n",
      " 0 0 0 2 1 1 1 0 0 2 2 2 0 0 0 0 0 0 0 1 0 0 0 0 3 3 0 2 1 0 0 3 0 1 3 0 0\n",
      " 1 0 0 0 1 0 0 1 1 0 3 0 0 0 2 0 0 0 2 1 0 3 0 0 2 3 0 0 3 0 0 1 1 3 1 0 1\n",
      " 3 1 0 0 1 1 3 0 0 0 1 0 3 0 1 2 1 1 0 1 1 1 1 0 2 0 0 1 1 0 3 1 2 1 0 3 0\n",
      " 1 0 2 0 1 1 1 2 1 1 0 1 3 1 1 0 0 3 1 0 3 0 1 3 0 2 3 1 0 0 1 0 0 1 3 3 0\n",
      " 0 0 0 2 1 3 1 2 1 0 2 0 1 0 1 1 3 2 1 0 1 2 1 1 1 0 1 2 1 0 0 1 1 1 0 3 2\n",
      " 3 2 1 0 1 2 0 2 3 0 1 2 1 1 2 0 1 1 1 3 0 3 1 0 1 2 1 3 3 0 2 1 0 3 0 1 1\n",
      " 2 1 0 1 0 0 2 2 1 0 1 0 3 0 2 0 0 0 2 1 0 1 2 3 3 0 1 1 1 0 1 1 1 0 0 2 1\n",
      " 0 1 3 1 1 0 0 3 2 2 3 1 0 1 1 2 2 1 0 0 1 0 0 1 3 3 2 0 2 1 1 0 0 0 3 1 2\n",
      " 1 0 1 0 2 0 1 1 2 1 3 3 0 0 3 0 3 0 0 0 2 0 3 2 1 1 3 1 3 1 3 2 0 2 3 2 1\n",
      " 1 2 1 3 1 3 1 0 3 2 0 1 2 0 2 0 1 3 1 0 1 0 0 1 1 3 1 3 1 2 1 2 2 0 0 0 0\n",
      " 1 2 1 1 1 1 0 2 2 1 1 2 1 0 0 0 0 1 3 0 1 2 3 0 1 0 2 1 3 3 2 0 0 0 2 0 2\n",
      " 0 1 0 1 0 0 0 0 1 0 2 3 1 3 1 1 0 1 3 3 1 0 0 0 1 1 1 0 0 0 0 0 1 1 3 1 3\n",
      " 0 0 2 2 0 3 3 0 3 0 0 1 1 3 1 1 1 0 0 0 1 2 0 3 1 0 1 3 0 1 1 0 2 0 3 3 0\n",
      " 2 0 2 1 2 3 0 1 0 1 0 3 1 1 1 1 1 1 1 0 2 0 0 0 1 3 3 0 1 1 0 1 2 1 0 0 0\n",
      " 3 1 0 0 0 0 3 2 0 1 2 1 0 3 1 0 3 1 0 0 0 1 0 2 0 0 0 0 3 1 1 1 0 3 3 3 2\n",
      " 1 0 0 2 2 1 0 1 2 2 0 2 0 0 0 0 1 1 0 2 2 3 2 2 3 2 1 0 0 1 1 0 0 1 2 1 0\n",
      " 1 2 0 0 2 2 3 3 0 3 3 0 0 0 3 3 3 2 0 1 0 0 0 0 1 3 1 1 1 2 1 3 0 1 1 1 0\n",
      " 0 0 2 0 1 1 1 1 0 1 3 3 3 1 1 0 1 0 2 3 1 3 0 3 0 1 0 1 1 0 3 1 0 0 1 1 1\n",
      " 3 2 1 0 0 1 0 1 0 3 0 1 0 1 2 2 3 3 1 1 1 3 2 1 1 2 2 1 0 0 0 0 2 3 2 2 0\n",
      " 0 2 3 1 0 1 0 0 1 1 0 0 0 2 0 1 1 1 0 1 1 3 1 1 0 1 0 3 0 0 0 1 1 0 0 1 3\n",
      " 1 2 2 0 1 1 0 2 0 3 1 0 1 1 0 3 0 1 1 3 0 1 1 1 2 1 0 1 3 1 0 0 1 0 0 1 2\n",
      " 0 3 3 3 1 0 0 1 0 0 2 0 0 2 1 1 2 0 2 0 3 2 1 1 0 3 0 0 0 0 0 3 2 0 1 1 3\n",
      " 1 1 0 0 1 3 3 0 0 0 0 0 3 1 0 0 0 3 1 3 0 0 2 1 0 0 2 1 2 1 0 1 3 2 1 3 2\n",
      " 0 3 1 3 1 3 3 3 0 1 0 0 0 1 1 3 0 3 2 2 3 1 0 0 1 1 2 0 1 0 1 1 1 0 3 1 0\n",
      " 0 2 0 1 3 2 3 1 2 0 0 0 1 0 2 0 1 1 3 1 0 0 1 3 1 2 0 0 0 2 1 1 0 1 0 1 2\n",
      " 1 1 3 1 2 0 0 0 2 0 1 2 0 1 2 1 1 1 0 0 0 0 0 1 1 1 2 0 0 3 3 0 2 1 3 0 1\n",
      " 3]\n"
     ]
    }
   ],
   "source": [
    "import numpy as np\n",
    "\n",
    "p_cluster = [0.4, 0.3, 0.15, 0.15]\n",
    "\n",
    "n_questions = 20\n",
    "n_people = 1000\n",
    "n_clusters = len(p_cluster)\n",
    "\n",
    "biases = np.random.beta(0.75, 0.75, size=(n_questions, n_clusters))\n",
    "people = np.random.choice(range(n_clusters), size=n_people, p=p_cluster)\n",
    "\n",
    "answers = np.zeros((n_people, n_questions), dtype=bool)\n",
    "\n",
    "for a in range(n_people):\n",
    "    cluster = people[a]\n",
    "    answers[a, :] = np.random.rand(n_questions) < biases[:, cluster]\n",
    "\n",
    "print(people)\n",
    "\n",
    "np.savetxt(\"questionnaire.csv\", answers, delimiter=\",\", fmt=\"%d\")\n",
    "np.savetxt(\"questionnaire_answers.csv\", people, delimiter=\",\", fmt=\"%d\")\n",
    "np.savetxt(\"questionnaire_biases.csv\", biases, delimiter=\",\", fmt=\"%.3f\")"
   ]
  },
  {
   "cell_type": "code",
   "execution_count": 107,
   "id": "5141efff",
   "metadata": {},
   "outputs": [
    {
     "data": {
      "text/plain": [
       "array([[0.99073579, 0.03513861, 0.55049983, 0.93055684],\n",
       "       [0.93459305, 0.19135911, 0.99746264, 0.65338241],\n",
       "       [0.82138385, 0.95184144, 0.03480193, 0.11307743],\n",
       "       [0.74673069, 0.72456562, 0.58738975, 0.95297833],\n",
       "       [0.1697598 , 0.60298213, 0.62130777, 0.92220199],\n",
       "       [0.2065318 , 0.24107512, 0.01069884, 0.22975305],\n",
       "       [0.63203787, 0.85267804, 0.0220831 , 0.2024862 ],\n",
       "       [0.17917218, 0.03163119, 0.84048742, 0.25445512],\n",
       "       [0.253054  , 0.04040545, 0.34102427, 0.93086547],\n",
       "       [0.07730899, 0.88299269, 0.33498053, 0.44467459],\n",
       "       [0.56826701, 0.43882351, 0.15531153, 0.65798284],\n",
       "       [0.141746  , 0.98620433, 0.48655118, 0.53914182],\n",
       "       [0.57268919, 0.30619348, 0.87552866, 0.04270578],\n",
       "       [0.65779206, 0.80971681, 0.5037648 , 0.39184496],\n",
       "       [0.07583613, 0.24515306, 0.9980571 , 0.35153761],\n",
       "       [0.97309781, 0.57076727, 0.01711893, 0.64816937],\n",
       "       [0.62315975, 0.29989288, 0.90536535, 0.65439407],\n",
       "       [0.23026394, 0.70130793, 0.05384831, 0.37559739],\n",
       "       [0.30272307, 0.70971856, 0.754324  , 0.66336465],\n",
       "       [0.52096024, 0.8917352 , 0.89591823, 0.87154159]])"
      ]
     },
     "execution_count": 107,
     "metadata": {},
     "output_type": "execute_result"
    }
   ],
   "source": [
    "biases"
   ]
  },
  {
   "cell_type": "code",
   "execution_count": 71,
   "id": "8bdff399",
   "metadata": {},
   "outputs": [
    {
     "name": "stdout",
     "output_type": "stream",
     "text": [
      "Bias on each question per cluster: \n",
      " [[0.11475328 0.46986885 0.10744378 0.30793409]\n",
      " [0.08412402 0.37031644 0.07860515 0.46695438]\n",
      " [0.05353235 0.25092803 0.04997941 0.64556021]\n",
      " [0.06294832 0.29404039 0.0587863  0.58422499]\n",
      " [0.05431541 0.24755642 0.05075136 0.64737681]\n",
      " [0.09616963 0.45314525 0.08962323 0.3610619 ]\n",
      " [0.05102711 0.24034009 0.04763012 0.66100268]\n",
      " [0.08867694 0.3716448  0.08297183 0.45670643]\n",
      " [0.09781939 0.40231526 0.09155019 0.40831517]\n",
      " [0.06551175 0.28329853 0.06126723 0.58992249]\n",
      " [0.10015314 0.43036643 0.0935998  0.37588062]\n",
      " [0.06957619 0.29805142 0.06511261 0.56725978]\n",
      " [0.0592434  0.26308627 0.05540364 0.62226669]\n",
      " [0.0508093  0.2282736  0.04750697 0.67341012]\n",
      " [0.10743758 0.43330159 0.10061637 0.35864446]\n",
      " [0.08400267 0.3719642  0.07847104 0.46556209]\n",
      " [0.04447885 0.20098436 0.04159597 0.71294082]\n",
      " [0.10798393 0.4480916  0.10104704 0.34287742]\n",
      " [0.05897613 0.26712619 0.05507658 0.6188211 ]\n",
      " [0.08413454 0.35609377 0.0787088  0.48106289]] \n",
      "\n",
      "Each individual's cluster probability \n",
      " [[0.1107007  0.58330354 0.10240147 0.20359429]\n",
      " [0.07383536 0.36261763 0.06861854 0.49492847]\n",
      " [0.03613645 0.11142153 0.03418765 0.81825436]\n",
      " ...\n",
      " [0.13533106 0.57205849 0.1262375  0.16637295]\n",
      " [0.06592905 0.28362659 0.06152358 0.58892079]\n",
      " [0.1650976  0.53335701 0.15546679 0.1460786 ]] \n",
      "\n"
     ]
    }
   ],
   "source": [
    "import numpy as np\n",
    "\n",
    "answers = np.loadtxt(\"questionnaire.csv\", delimiter=\",\")\n",
    "n_people, n_questions = answers.shape\n",
    "n_clusters = 4\n",
    "\n",
    "p_clusters = np.asarray([0.25, 0.25, 0.25, 0.25])\n",
    "biases = np.random.beta(0.75, 0.75, size=(n_questions, n_clusters))\n",
    "\n",
    "\n",
    "def expectation(answers, biases, p_clusters):\n",
    "    \n",
    "    #In this function we create our expectations.\n",
    "    people = np.zeros((len(answers), len(p_clusters)))\n",
    "    \n",
    "    #Iterate through all the people\n",
    "    for n in range(len(answers)):\n",
    "        \n",
    "        #Iterate through all the clusters\n",
    "        for i in range(n_clusters):\n",
    "            \n",
    "            #Responsibility\n",
    "            people[n,i] = p_clusters[i]* np.prod(np.exp(-0.5*(answers[n] - biases[:,i])**2))\n",
    "            \n",
    "    #Membership - normalize the distributions\n",
    "    people = people / people.sum(axis=1, keepdims=1)\n",
    "    \n",
    "    return people\n",
    "\n",
    "\n",
    "def maximization(answers, people):\n",
    "    \n",
    "    # Treating all the data as visible, now infer the parameters for the model.\n",
    "\n",
    "    #Initialize bias to 0\n",
    "    biases = np.zeros((n_questions, n_clusters))\n",
    "    \n",
    "    for i in range(n_clusters):\n",
    "        \n",
    "        likelihoods = np.repeat(people[:,i],20).reshape(answers.shape)\n",
    "        \n",
    "        #Calculate cluster contribution to each answer and normalize to get new bias\n",
    "        biases[:,i] = np.sum(likelihoods * answers, axis=0)/np.sum(answers, axis=0)\n",
    "     \n",
    "    return biases\n",
    "\n",
    "\n",
    "for step in range(10):\n",
    "    people = expectation(answers, biases, p_clusters)\n",
    "    biases = maximization(answers, people)\n",
    "\n",
    "print(\"Bias on each question per cluster:\",'\\n',biases,'\\n')\n",
    "print(\"Each individual's cluster probability\",'\\n',people,'\\n')"
   ]
  },
  {
   "cell_type": "markdown",
   "id": "99c8c790",
   "metadata": {},
   "source": [
    "---"
   ]
  },
  {
   "cell_type": "code",
   "execution_count": null,
   "id": "0ef43ca7",
   "metadata": {},
   "outputs": [],
   "source": [
    "# EM for survey data\n",
    "\n",
    "import numpy as np\n",
    "import urllib.request\n",
    "\n",
    "url = \"https://course-resources.minerva.kgi.edu/uploaded_files/mke/rKwePr/questionnaire.csv\"\n",
    "f = urllib.request.urlopen(url)\n",
    "answers = np.loadtxt(f, delimiter=\",\")\n",
    "n_people, n_questions = answers.shape\n",
    "n_clusters = 4\n",
    "\n",
    "p_clusters = np.asarray([0.25, 0.25, 0.25, 0.25])\n",
    "biases = np.random.beta(0.75, 0.75, size=(n_questions, n_clusters))\n",
    "\n",
    "def expectation(answers, biases, p_clusters):\n",
    "    # In this function we create our expectations.\n",
    "    people = np.zeros((n_people, n_clusters))\n",
    "    log_bias = np.log(biases)\n",
    "    log_other_bias = np.log1p(-biases)\n",
    "\n",
    "    for a in range(n_clusters):\n",
    "        term1 = (answers.T * log_bias[:, a:a + 1]).sum(axis=0)\n",
    "        term2 = ((1 - answers).T * log_other_bias[:, a:a + 1]).sum(axis=0)\n",
    "        people[:, a] = np.log(p_clusters[a]) + term1 + term2\n",
    "\n",
    "    people = people - people.max()\n",
    "    people = np.exp(people)\n",
    "    \n",
    "    # # people = np.exp(answers@np.log(biases+1e-15) + (1-answers)@np.log(1-biases + 1e-15))@np.diag(p_clusters)\n",
    "    #for i in range(0,n_people):\n",
    "    #    for j in range(0, n_clusters):\n",
    "    #        prob_i = np.prod(biases[answers[i,:] == 1,j])*np.prod(1-biases[answers[i,:] == 0,j])\n",
    "    #         # Using bayes' rule, let's get the probability that class j resulted in this data\n",
    "    #        people[i,j] = prob_i*p_clusters[j]\n",
    "    \n",
    "    #Normalize\n",
    "    people = people / np.sum(people, axis=1, keepdims=True)\n",
    "    return people\n",
    "\n",
    "\n",
    "def maximization(answers, people):\n",
    "    # Treating all the data as visible, now infer the parameters for the model.\n",
    "    \n",
    "    biases = np.zeros((n_questions, n_clusters))\n",
    "    # for each class, compute the biases on each question\n",
    "    biases =np.zeros((n_questions, n_clusters))\n",
    "    \n",
    "    for a in range(n_clusters):\n",
    "        temp = people[:, a:a + 1]\n",
    "        z = temp.sum()\n",
    "        biases[:, a] = (temp * answers).sum(0) / z\n",
    "\n",
    "    # Update the cluster probabilities\n",
    "    sum_clusters = np.sum(people, axis = 0)\n",
    "    cluster_prob = sum_clusters/np.sum(sum_clusters)\n",
    "    \n",
    "    # print(f\"cluster priors: {cluster_prob}\")\n",
    "    \n",
    "    return (biases, cluster_prob)\n",
    "\n",
    "cluster_vals = p_clusters\n",
    "\n",
    "for step in range(25):\n",
    "    people = expectation(answers, biases, p_clusters)\n",
    "    biases, p_clusters = maximization(answers, people)\n",
    "    cluster_vals = np.vstack([cluster_vals,p_clusters])\n",
    "\n",
    "print(biases)\n",
    "print(p_clusters)\n"
   ]
  }
 ],
 "metadata": {
  "kernelspec": {
   "display_name": "Python 3",
   "language": "python",
   "name": "python3"
  },
  "language_info": {
   "codemirror_mode": {
    "name": "ipython",
    "version": 3
   },
   "file_extension": ".py",
   "mimetype": "text/x-python",
   "name": "python",
   "nbconvert_exporter": "python",
   "pygments_lexer": "ipython3",
   "version": "3.7.11"
  }
 },
 "nbformat": 4,
 "nbformat_minor": 5
}
