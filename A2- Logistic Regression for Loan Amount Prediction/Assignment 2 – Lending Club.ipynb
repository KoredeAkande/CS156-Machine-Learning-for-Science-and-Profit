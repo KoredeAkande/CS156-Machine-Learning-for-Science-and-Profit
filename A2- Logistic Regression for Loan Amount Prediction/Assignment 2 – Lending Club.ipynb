{
 "cells": [
  {
   "cell_type": "markdown",
   "metadata": {},
   "source": [
    "# CS156 Assignment 2\n",
    "**Lending Club Data** | By Korede Akande\n",
    "\n",
    "**Goal:** Build a model that predicts the largest loan amount that will be successfully funded on the Lending Club platform for any given individual. This model can then be used to advise the applicants on how much they could apply for.\n",
    "\n",
    "---"
   ]
  },
  {
   "cell_type": "markdown",
   "metadata": {},
   "source": [
    "## 1. Library Importation"
   ]
  },
  {
   "cell_type": "code",
   "execution_count": 154,
   "metadata": {},
   "outputs": [],
   "source": [
    "import pandas as pd\n",
    "import numpy as np\n",
    "import matplotlib.pyplot as plt\n",
    "import missingno\n",
    "from pandas_profiling import ProfileReport\n",
    "import warnings\n",
    "warnings.simplefilter(action='ignore')"
   ]
  },
  {
   "cell_type": "markdown",
   "metadata": {},
   "source": [
    "## 2. Loading the datasets"
   ]
  },
  {
   "cell_type": "code",
   "execution_count": 194,
   "metadata": {},
   "outputs": [],
   "source": [
    "#Load the full data for accepted and rejected applications\n",
    "accepted_df = pd.read_csv('accepted.csv', low_memory=False)\n",
    "rejected_df = pd.read_csv('rejected.csv', low_memory=False)"
   ]
  },
  {
   "cell_type": "code",
   "execution_count": 1,
   "metadata": {},
   "outputs": [],
   "source": [
    "def sample_generator(filename,pct_of_file= 0.1):\n",
    "    \n",
    "    \"\"\"\n",
    "    Return a sample of the file, where the sample size is determined by the % specified\n",
    "    \n",
    "    Inputs:\n",
    "        - filename (str): Name of the file to read\n",
    "        - pct_of_file (float): Percentage of the original file to sample\n",
    "        \n",
    "    Output:\n",
    "        - df (pandas Dataframe): Return the random sample\n",
    "    \n",
    "    \"\"\"\n",
    "    \n",
    "    #Load a sample of the dataset\n",
    "    #If randomly generated probability is greater than pct_of_file, the row will be skipped\n",
    "    df = pd.read_csv(filename, \n",
    "                     skiprows = lambda l: l>0 and np.random.random() > pct_of_file,\n",
    "                     low_memory=False)\n",
    "    \n",
    "    return df"
   ]
  },
  {
   "cell_type": "code",
   "execution_count": null,
   "metadata": {},
   "outputs": [],
   "source": [
    "#Load samples of the datasets for accepted and rejected applications\n",
    "accepted_df = sample_generator('accepted.csv', 0.5)\n",
    "rejected_df = sample_generator('rejected.csv', 0.5)"
   ]
  },
  {
   "cell_type": "markdown",
   "metadata": {},
   "source": [
    "## 3. Previewing the datasets"
   ]
  },
  {
   "cell_type": "markdown",
   "metadata": {},
   "source": [
    "### a. Accepted Loans Dataframe"
   ]
  },
  {
   "cell_type": "code",
   "execution_count": 196,
   "metadata": {},
   "outputs": [
    {
     "data": {
      "text/html": [
       "<div>\n",
       "<style scoped>\n",
       "    .dataframe tbody tr th:only-of-type {\n",
       "        vertical-align: middle;\n",
       "    }\n",
       "\n",
       "    .dataframe tbody tr th {\n",
       "        vertical-align: top;\n",
       "    }\n",
       "\n",
       "    .dataframe thead th {\n",
       "        text-align: right;\n",
       "    }\n",
       "</style>\n",
       "<table border=\"1\" class=\"dataframe\">\n",
       "  <thead>\n",
       "    <tr style=\"text-align: right;\">\n",
       "      <th></th>\n",
       "      <th>id</th>\n",
       "      <th>member_id</th>\n",
       "      <th>loan_amnt</th>\n",
       "      <th>funded_amnt</th>\n",
       "      <th>funded_amnt_inv</th>\n",
       "      <th>term</th>\n",
       "      <th>int_rate</th>\n",
       "      <th>installment</th>\n",
       "      <th>grade</th>\n",
       "      <th>sub_grade</th>\n",
       "      <th>...</th>\n",
       "      <th>hardship_payoff_balance_amount</th>\n",
       "      <th>hardship_last_payment_amount</th>\n",
       "      <th>disbursement_method</th>\n",
       "      <th>debt_settlement_flag</th>\n",
       "      <th>debt_settlement_flag_date</th>\n",
       "      <th>settlement_status</th>\n",
       "      <th>settlement_date</th>\n",
       "      <th>settlement_amount</th>\n",
       "      <th>settlement_percentage</th>\n",
       "      <th>settlement_term</th>\n",
       "    </tr>\n",
       "  </thead>\n",
       "  <tbody>\n",
       "    <tr>\n",
       "      <th>0</th>\n",
       "      <td>68407277</td>\n",
       "      <td>NaN</td>\n",
       "      <td>3600.0</td>\n",
       "      <td>3600.0</td>\n",
       "      <td>3600.0</td>\n",
       "      <td>36 months</td>\n",
       "      <td>13.99</td>\n",
       "      <td>123.03</td>\n",
       "      <td>C</td>\n",
       "      <td>C4</td>\n",
       "      <td>...</td>\n",
       "      <td>NaN</td>\n",
       "      <td>NaN</td>\n",
       "      <td>Cash</td>\n",
       "      <td>N</td>\n",
       "      <td>NaN</td>\n",
       "      <td>NaN</td>\n",
       "      <td>NaN</td>\n",
       "      <td>NaN</td>\n",
       "      <td>NaN</td>\n",
       "      <td>NaN</td>\n",
       "    </tr>\n",
       "    <tr>\n",
       "      <th>1</th>\n",
       "      <td>68355089</td>\n",
       "      <td>NaN</td>\n",
       "      <td>24700.0</td>\n",
       "      <td>24700.0</td>\n",
       "      <td>24700.0</td>\n",
       "      <td>36 months</td>\n",
       "      <td>11.99</td>\n",
       "      <td>820.28</td>\n",
       "      <td>C</td>\n",
       "      <td>C1</td>\n",
       "      <td>...</td>\n",
       "      <td>NaN</td>\n",
       "      <td>NaN</td>\n",
       "      <td>Cash</td>\n",
       "      <td>N</td>\n",
       "      <td>NaN</td>\n",
       "      <td>NaN</td>\n",
       "      <td>NaN</td>\n",
       "      <td>NaN</td>\n",
       "      <td>NaN</td>\n",
       "      <td>NaN</td>\n",
       "    </tr>\n",
       "    <tr>\n",
       "      <th>2</th>\n",
       "      <td>68341763</td>\n",
       "      <td>NaN</td>\n",
       "      <td>20000.0</td>\n",
       "      <td>20000.0</td>\n",
       "      <td>20000.0</td>\n",
       "      <td>60 months</td>\n",
       "      <td>10.78</td>\n",
       "      <td>432.66</td>\n",
       "      <td>B</td>\n",
       "      <td>B4</td>\n",
       "      <td>...</td>\n",
       "      <td>NaN</td>\n",
       "      <td>NaN</td>\n",
       "      <td>Cash</td>\n",
       "      <td>N</td>\n",
       "      <td>NaN</td>\n",
       "      <td>NaN</td>\n",
       "      <td>NaN</td>\n",
       "      <td>NaN</td>\n",
       "      <td>NaN</td>\n",
       "      <td>NaN</td>\n",
       "    </tr>\n",
       "    <tr>\n",
       "      <th>3</th>\n",
       "      <td>66310712</td>\n",
       "      <td>NaN</td>\n",
       "      <td>35000.0</td>\n",
       "      <td>35000.0</td>\n",
       "      <td>35000.0</td>\n",
       "      <td>60 months</td>\n",
       "      <td>14.85</td>\n",
       "      <td>829.90</td>\n",
       "      <td>C</td>\n",
       "      <td>C5</td>\n",
       "      <td>...</td>\n",
       "      <td>NaN</td>\n",
       "      <td>NaN</td>\n",
       "      <td>Cash</td>\n",
       "      <td>N</td>\n",
       "      <td>NaN</td>\n",
       "      <td>NaN</td>\n",
       "      <td>NaN</td>\n",
       "      <td>NaN</td>\n",
       "      <td>NaN</td>\n",
       "      <td>NaN</td>\n",
       "    </tr>\n",
       "    <tr>\n",
       "      <th>4</th>\n",
       "      <td>68476807</td>\n",
       "      <td>NaN</td>\n",
       "      <td>10400.0</td>\n",
       "      <td>10400.0</td>\n",
       "      <td>10400.0</td>\n",
       "      <td>60 months</td>\n",
       "      <td>22.45</td>\n",
       "      <td>289.91</td>\n",
       "      <td>F</td>\n",
       "      <td>F1</td>\n",
       "      <td>...</td>\n",
       "      <td>NaN</td>\n",
       "      <td>NaN</td>\n",
       "      <td>Cash</td>\n",
       "      <td>N</td>\n",
       "      <td>NaN</td>\n",
       "      <td>NaN</td>\n",
       "      <td>NaN</td>\n",
       "      <td>NaN</td>\n",
       "      <td>NaN</td>\n",
       "      <td>NaN</td>\n",
       "    </tr>\n",
       "  </tbody>\n",
       "</table>\n",
       "<p>5 rows × 151 columns</p>\n",
       "</div>"
      ],
      "text/plain": [
       "         id  member_id  loan_amnt  funded_amnt  funded_amnt_inv        term  \\\n",
       "0  68407277        NaN     3600.0       3600.0           3600.0   36 months   \n",
       "1  68355089        NaN    24700.0      24700.0          24700.0   36 months   \n",
       "2  68341763        NaN    20000.0      20000.0          20000.0   60 months   \n",
       "3  66310712        NaN    35000.0      35000.0          35000.0   60 months   \n",
       "4  68476807        NaN    10400.0      10400.0          10400.0   60 months   \n",
       "\n",
       "   int_rate  installment grade sub_grade  ... hardship_payoff_balance_amount  \\\n",
       "0     13.99       123.03     C        C4  ...                            NaN   \n",
       "1     11.99       820.28     C        C1  ...                            NaN   \n",
       "2     10.78       432.66     B        B4  ...                            NaN   \n",
       "3     14.85       829.90     C        C5  ...                            NaN   \n",
       "4     22.45       289.91     F        F1  ...                            NaN   \n",
       "\n",
       "  hardship_last_payment_amount disbursement_method  debt_settlement_flag  \\\n",
       "0                          NaN                Cash                     N   \n",
       "1                          NaN                Cash                     N   \n",
       "2                          NaN                Cash                     N   \n",
       "3                          NaN                Cash                     N   \n",
       "4                          NaN                Cash                     N   \n",
       "\n",
       "  debt_settlement_flag_date settlement_status settlement_date  \\\n",
       "0                       NaN               NaN             NaN   \n",
       "1                       NaN               NaN             NaN   \n",
       "2                       NaN               NaN             NaN   \n",
       "3                       NaN               NaN             NaN   \n",
       "4                       NaN               NaN             NaN   \n",
       "\n",
       "  settlement_amount settlement_percentage settlement_term  \n",
       "0               NaN                   NaN             NaN  \n",
       "1               NaN                   NaN             NaN  \n",
       "2               NaN                   NaN             NaN  \n",
       "3               NaN                   NaN             NaN  \n",
       "4               NaN                   NaN             NaN  \n",
       "\n",
       "[5 rows x 151 columns]"
      ]
     },
     "execution_count": 196,
     "metadata": {},
     "output_type": "execute_result"
    }
   ],
   "source": [
    "#Quick preview of the accepted loans dataset\n",
    "accepted_df.head()"
   ]
  },
  {
   "cell_type": "code",
   "execution_count": 197,
   "metadata": {},
   "outputs": [
    {
     "name": "stdout",
     "output_type": "stream",
     "text": [
      "<class 'pandas.core.frame.DataFrame'>\n",
      "RangeIndex: 2260701 entries, 0 to 2260700\n",
      "Columns: 151 entries, id to settlement_term\n",
      "dtypes: float64(113), object(38)\n",
      "memory usage: 2.5+ GB\n"
     ]
    }
   ],
   "source": [
    "accepted_df.info()"
   ]
  },
  {
   "cell_type": "markdown",
   "metadata": {},
   "source": [
    "### b. Rejected Loans Dataframe"
   ]
  },
  {
   "cell_type": "code",
   "execution_count": 198,
   "metadata": {},
   "outputs": [
    {
     "data": {
      "text/html": [
       "<div>\n",
       "<style scoped>\n",
       "    .dataframe tbody tr th:only-of-type {\n",
       "        vertical-align: middle;\n",
       "    }\n",
       "\n",
       "    .dataframe tbody tr th {\n",
       "        vertical-align: top;\n",
       "    }\n",
       "\n",
       "    .dataframe thead th {\n",
       "        text-align: right;\n",
       "    }\n",
       "</style>\n",
       "<table border=\"1\" class=\"dataframe\">\n",
       "  <thead>\n",
       "    <tr style=\"text-align: right;\">\n",
       "      <th></th>\n",
       "      <th>Amount Requested</th>\n",
       "      <th>Application Date</th>\n",
       "      <th>Loan Title</th>\n",
       "      <th>Risk_Score</th>\n",
       "      <th>Debt-To-Income Ratio</th>\n",
       "      <th>Zip Code</th>\n",
       "      <th>State</th>\n",
       "      <th>Employment Length</th>\n",
       "      <th>Policy Code</th>\n",
       "    </tr>\n",
       "  </thead>\n",
       "  <tbody>\n",
       "    <tr>\n",
       "      <th>0</th>\n",
       "      <td>1000.0</td>\n",
       "      <td>2007-05-26</td>\n",
       "      <td>Wedding Covered but No Honeymoon</td>\n",
       "      <td>693.0</td>\n",
       "      <td>10%</td>\n",
       "      <td>481xx</td>\n",
       "      <td>NM</td>\n",
       "      <td>4 years</td>\n",
       "      <td>0.0</td>\n",
       "    </tr>\n",
       "    <tr>\n",
       "      <th>1</th>\n",
       "      <td>1000.0</td>\n",
       "      <td>2007-05-26</td>\n",
       "      <td>Consolidating Debt</td>\n",
       "      <td>703.0</td>\n",
       "      <td>10%</td>\n",
       "      <td>010xx</td>\n",
       "      <td>MA</td>\n",
       "      <td>&lt; 1 year</td>\n",
       "      <td>0.0</td>\n",
       "    </tr>\n",
       "    <tr>\n",
       "      <th>2</th>\n",
       "      <td>11000.0</td>\n",
       "      <td>2007-05-27</td>\n",
       "      <td>Want to consolidate my debt</td>\n",
       "      <td>715.0</td>\n",
       "      <td>10%</td>\n",
       "      <td>212xx</td>\n",
       "      <td>MD</td>\n",
       "      <td>1 year</td>\n",
       "      <td>0.0</td>\n",
       "    </tr>\n",
       "    <tr>\n",
       "      <th>3</th>\n",
       "      <td>6000.0</td>\n",
       "      <td>2007-05-27</td>\n",
       "      <td>waksman</td>\n",
       "      <td>698.0</td>\n",
       "      <td>38.64%</td>\n",
       "      <td>017xx</td>\n",
       "      <td>MA</td>\n",
       "      <td>&lt; 1 year</td>\n",
       "      <td>0.0</td>\n",
       "    </tr>\n",
       "    <tr>\n",
       "      <th>4</th>\n",
       "      <td>1500.0</td>\n",
       "      <td>2007-05-27</td>\n",
       "      <td>mdrigo</td>\n",
       "      <td>509.0</td>\n",
       "      <td>9.43%</td>\n",
       "      <td>209xx</td>\n",
       "      <td>MD</td>\n",
       "      <td>&lt; 1 year</td>\n",
       "      <td>0.0</td>\n",
       "    </tr>\n",
       "  </tbody>\n",
       "</table>\n",
       "</div>"
      ],
      "text/plain": [
       "   Amount Requested Application Date                        Loan Title  \\\n",
       "0            1000.0       2007-05-26  Wedding Covered but No Honeymoon   \n",
       "1            1000.0       2007-05-26                Consolidating Debt   \n",
       "2           11000.0       2007-05-27       Want to consolidate my debt   \n",
       "3            6000.0       2007-05-27                           waksman   \n",
       "4            1500.0       2007-05-27                            mdrigo   \n",
       "\n",
       "   Risk_Score Debt-To-Income Ratio Zip Code State Employment Length  \\\n",
       "0       693.0                  10%    481xx    NM           4 years   \n",
       "1       703.0                  10%    010xx    MA          < 1 year   \n",
       "2       715.0                  10%    212xx    MD            1 year   \n",
       "3       698.0               38.64%    017xx    MA          < 1 year   \n",
       "4       509.0                9.43%    209xx    MD          < 1 year   \n",
       "\n",
       "   Policy Code  \n",
       "0          0.0  \n",
       "1          0.0  \n",
       "2          0.0  \n",
       "3          0.0  \n",
       "4          0.0  "
      ]
     },
     "execution_count": 198,
     "metadata": {},
     "output_type": "execute_result"
    }
   ],
   "source": [
    "#Quick preview of the rejected loans dataset\n",
    "rejected_df.head()"
   ]
  },
  {
   "cell_type": "code",
   "execution_count": 199,
   "metadata": {},
   "outputs": [
    {
     "name": "stdout",
     "output_type": "stream",
     "text": [
      "<class 'pandas.core.frame.DataFrame'>\n",
      "RangeIndex: 27648741 entries, 0 to 27648740\n",
      "Data columns (total 9 columns):\n",
      " #   Column                Dtype  \n",
      "---  ------                -----  \n",
      " 0   Amount Requested      float64\n",
      " 1   Application Date      object \n",
      " 2   Loan Title            object \n",
      " 3   Risk_Score            float64\n",
      " 4   Debt-To-Income Ratio  object \n",
      " 5   Zip Code              object \n",
      " 6   State                 object \n",
      " 7   Employment Length     object \n",
      " 8   Policy Code           float64\n",
      "dtypes: float64(3), object(6)\n",
      "memory usage: 1.9+ GB\n"
     ]
    }
   ],
   "source": [
    "rejected_df.info()"
   ]
  },
  {
   "cell_type": "markdown",
   "metadata": {},
   "source": [
    "## 4. Data Cleaning"
   ]
  },
  {
   "cell_type": "markdown",
   "metadata": {},
   "source": [
    "Using the [column descriptions](https://resources.lendingclub.com/LCDataDictionary.xlsx) for both datasets as provided in the assigment prompt, variables that appeared to exist in both datasets were manually determined.\n",
    "\n",
    "**Determination process:**\n",
    "\n",
    "- Given the rejected dataset has a lot less variables (9 variables), it was used as a starting point. Then for each variable in the rejected stats sheet, the following steps were repeated:\n",
    "    - Get a relevant keyword from the variable name (e.g. 'policy' in 'Policy Code')\n",
    "    - Search for this keyword in the LoanStats (Accepted) sheet\n",
    "    \n",
    "Doing so, I deduced the following columns (in the RejectStats sheet) to be the only ones consistent in both dataframes: *Amount Requested, Application Date, Loan Title, Debt-To-Income Ratio, Zip Code, State, Employment Length* and *Policy Code*.\n",
    "\n",
    "\n",
    "**Assumptions:**\n",
    "- *loan_amnt* in the accepted dataframe is assumed to equal to the amount requested: the individual will not be lent more or less money than they asked for on the platform.\n",
    "- *issue_d* in the accepted dataframe was assumed to be (roughly) the same as the loan application date in the rejected dataframe. This is based on the following statement from the [Lending Club official website](https://help.lendingclub.com/hc/en-us/articles/214519117-How-long-does-it-take-to-get-a-loan-): \"*Most members are approved within 24 hours and receive their money from LendingClub Bank in as little as a few days*\". Here there is an implicit assumption that this statement on the website has stayed the same for most of the years."
   ]
  },
  {
   "cell_type": "markdown",
   "metadata": {},
   "source": [
    "- **State:**\n",
    "    - Rejected: State\n",
    "    - Accepted: addr_state\n",
    "- **Application Date:**\n",
    "    - Rejected: Application Date\n",
    "    - Accepted: issue_d\n",
    "- **Zip code:**\n",
    "    - Rejected: Zip Code\n",
    "    - Accepted: zip_code\n",
    "- **Employment Length:**\n",
    "    - Rejected: Employment Length\n",
    "    - Accepted: emp_length\n",
    "- **Debt-To-Income Ratio:**\n",
    "    - Rejected: Debt-To-Income Ratio\n",
    "    - Accepted: dti\n",
    "- **Policy Code:**\n",
    "    - Rejected: Policy Code\n",
    "    - Accepted: policy_code\n",
    "- **Loan Title:**\n",
    "    - Rejected: Loan Title\n",
    "    - Accepted: title\n",
    "- **Amount Requested:**\n",
    "    - Rejected: Amount Requested\n",
    "    - Accepted: loan_amnt \n",
    "    \n",
    "Where 'Rejected' is the rejected loans dataset and 'Accepted' is the accepted loans dataset"
   ]
  },
  {
   "cell_type": "markdown",
   "metadata": {},
   "source": [
    "- I drop the Loan Title column as factoring it into the model might require text (pre)processing. This will be considered as a potential extension to the model if accuracy is low.\n",
    "- Drop Zip Code and State as I don't believe location should affect the acceptance status of a loan. If I do include a location factor, I would probably keep State and drop Zip Code. Since the Zip Code isn't full, I would expect it to be highly duplicated across rows for the same state (this is infact the case)\n",
    "- Although, I don't feel the Application Date should be a big factor in acceptance vs. rejectance, I do not drop it as it might be interesting to see if the month an individual applies in could influence the acceptance status e.g. due to high loan requests, for example, just before a school semester.\n",
    "\n",
    "\n",
    "Variables I consider a priority are in line with this [article](https://www.fool.com/the-ascent/personal-loans/articles/5-factors-besides-your-credit-that-affect-personal-loan-approval/)"
   ]
  },
  {
   "cell_type": "markdown",
   "metadata": {},
   "source": [
    "### a. Getting the relevant subset of the accepted dataset"
   ]
  },
  {
   "cell_type": "code",
   "execution_count": 200,
   "metadata": {},
   "outputs": [
    {
     "data": {
      "text/html": [
       "<div>\n",
       "<style scoped>\n",
       "    .dataframe tbody tr th:only-of-type {\n",
       "        vertical-align: middle;\n",
       "    }\n",
       "\n",
       "    .dataframe tbody tr th {\n",
       "        vertical-align: top;\n",
       "    }\n",
       "\n",
       "    .dataframe thead th {\n",
       "        text-align: right;\n",
       "    }\n",
       "</style>\n",
       "<table border=\"1\" class=\"dataframe\">\n",
       "  <thead>\n",
       "    <tr style=\"text-align: right;\">\n",
       "      <th></th>\n",
       "      <th>loan_amnt</th>\n",
       "      <th>issue_d</th>\n",
       "      <th>dti</th>\n",
       "      <th>emp_length</th>\n",
       "      <th>policy_code</th>\n",
       "    </tr>\n",
       "  </thead>\n",
       "  <tbody>\n",
       "    <tr>\n",
       "      <th>0</th>\n",
       "      <td>3600.0</td>\n",
       "      <td>Dec-2015</td>\n",
       "      <td>5.91</td>\n",
       "      <td>10+ years</td>\n",
       "      <td>1.0</td>\n",
       "    </tr>\n",
       "    <tr>\n",
       "      <th>1</th>\n",
       "      <td>24700.0</td>\n",
       "      <td>Dec-2015</td>\n",
       "      <td>16.06</td>\n",
       "      <td>10+ years</td>\n",
       "      <td>1.0</td>\n",
       "    </tr>\n",
       "    <tr>\n",
       "      <th>2</th>\n",
       "      <td>20000.0</td>\n",
       "      <td>Dec-2015</td>\n",
       "      <td>10.78</td>\n",
       "      <td>10+ years</td>\n",
       "      <td>1.0</td>\n",
       "    </tr>\n",
       "    <tr>\n",
       "      <th>3</th>\n",
       "      <td>35000.0</td>\n",
       "      <td>Dec-2015</td>\n",
       "      <td>17.06</td>\n",
       "      <td>10+ years</td>\n",
       "      <td>1.0</td>\n",
       "    </tr>\n",
       "    <tr>\n",
       "      <th>4</th>\n",
       "      <td>10400.0</td>\n",
       "      <td>Dec-2015</td>\n",
       "      <td>25.37</td>\n",
       "      <td>3 years</td>\n",
       "      <td>1.0</td>\n",
       "    </tr>\n",
       "  </tbody>\n",
       "</table>\n",
       "</div>"
      ],
      "text/plain": [
       "   loan_amnt   issue_d    dti emp_length  policy_code\n",
       "0     3600.0  Dec-2015   5.91  10+ years          1.0\n",
       "1    24700.0  Dec-2015  16.06  10+ years          1.0\n",
       "2    20000.0  Dec-2015  10.78  10+ years          1.0\n",
       "3    35000.0  Dec-2015  17.06  10+ years          1.0\n",
       "4    10400.0  Dec-2015  25.37    3 years          1.0"
      ]
     },
     "execution_count": 200,
     "metadata": {},
     "output_type": "execute_result"
    }
   ],
   "source": [
    "#Subset the accepted dataframe based on the columns listed in the markdown above\n",
    "accepted_loans = accepted_df[['loan_amnt','issue_d','dti','emp_length','policy_code']]\n",
    "\n",
    "accepted_loans.head()"
   ]
  },
  {
   "cell_type": "markdown",
   "metadata": {},
   "source": [
    "### b. Renaming columns in the accepted dataset for concatenating"
   ]
  },
  {
   "cell_type": "code",
   "execution_count": 201,
   "metadata": {},
   "outputs": [
    {
     "data": {
      "text/html": [
       "<div>\n",
       "<style scoped>\n",
       "    .dataframe tbody tr th:only-of-type {\n",
       "        vertical-align: middle;\n",
       "    }\n",
       "\n",
       "    .dataframe tbody tr th {\n",
       "        vertical-align: top;\n",
       "    }\n",
       "\n",
       "    .dataframe thead th {\n",
       "        text-align: right;\n",
       "    }\n",
       "</style>\n",
       "<table border=\"1\" class=\"dataframe\">\n",
       "  <thead>\n",
       "    <tr style=\"text-align: right;\">\n",
       "      <th></th>\n",
       "      <th>Amount Requested</th>\n",
       "      <th>Application Date</th>\n",
       "      <th>Debt-To-Income Ratio</th>\n",
       "      <th>Employment Length</th>\n",
       "      <th>Policy Code</th>\n",
       "    </tr>\n",
       "  </thead>\n",
       "  <tbody>\n",
       "    <tr>\n",
       "      <th>0</th>\n",
       "      <td>3600.0</td>\n",
       "      <td>Dec-2015</td>\n",
       "      <td>5.91</td>\n",
       "      <td>10+ years</td>\n",
       "      <td>1.0</td>\n",
       "    </tr>\n",
       "    <tr>\n",
       "      <th>1</th>\n",
       "      <td>24700.0</td>\n",
       "      <td>Dec-2015</td>\n",
       "      <td>16.06</td>\n",
       "      <td>10+ years</td>\n",
       "      <td>1.0</td>\n",
       "    </tr>\n",
       "    <tr>\n",
       "      <th>2</th>\n",
       "      <td>20000.0</td>\n",
       "      <td>Dec-2015</td>\n",
       "      <td>10.78</td>\n",
       "      <td>10+ years</td>\n",
       "      <td>1.0</td>\n",
       "    </tr>\n",
       "    <tr>\n",
       "      <th>3</th>\n",
       "      <td>35000.0</td>\n",
       "      <td>Dec-2015</td>\n",
       "      <td>17.06</td>\n",
       "      <td>10+ years</td>\n",
       "      <td>1.0</td>\n",
       "    </tr>\n",
       "    <tr>\n",
       "      <th>4</th>\n",
       "      <td>10400.0</td>\n",
       "      <td>Dec-2015</td>\n",
       "      <td>25.37</td>\n",
       "      <td>3 years</td>\n",
       "      <td>1.0</td>\n",
       "    </tr>\n",
       "  </tbody>\n",
       "</table>\n",
       "</div>"
      ],
      "text/plain": [
       "   Amount Requested Application Date  Debt-To-Income Ratio Employment Length  \\\n",
       "0            3600.0         Dec-2015                  5.91         10+ years   \n",
       "1           24700.0         Dec-2015                 16.06         10+ years   \n",
       "2           20000.0         Dec-2015                 10.78         10+ years   \n",
       "3           35000.0         Dec-2015                 17.06         10+ years   \n",
       "4           10400.0         Dec-2015                 25.37           3 years   \n",
       "\n",
       "   Policy Code  \n",
       "0          1.0  \n",
       "1          1.0  \n",
       "2          1.0  \n",
       "3          1.0  \n",
       "4          1.0  "
      ]
     },
     "execution_count": 201,
     "metadata": {},
     "output_type": "execute_result"
    }
   ],
   "source": [
    "#Rename columns to for easy understanding and concatenating\n",
    "accepted_loans = accepted_loans.rename(columns={'loan_amnt': 'Amount Requested',\n",
    "                                                'issue_d': 'Application Date',\n",
    "                                                'dti': 'Debt-To-Income Ratio',\n",
    "                                                'emp_length': 'Employment Length',\n",
    "                                                'policy_code': 'Policy Code'})\n",
    "\n",
    "accepted_loans.head()"
   ]
  },
  {
   "cell_type": "markdown",
   "metadata": {},
   "source": [
    "### c. Dropping columns in the rejected dataset that are unavailable in the accepted dataset"
   ]
  },
  {
   "cell_type": "code",
   "execution_count": 202,
   "metadata": {},
   "outputs": [
    {
     "data": {
      "text/html": [
       "<div>\n",
       "<style scoped>\n",
       "    .dataframe tbody tr th:only-of-type {\n",
       "        vertical-align: middle;\n",
       "    }\n",
       "\n",
       "    .dataframe tbody tr th {\n",
       "        vertical-align: top;\n",
       "    }\n",
       "\n",
       "    .dataframe thead th {\n",
       "        text-align: right;\n",
       "    }\n",
       "</style>\n",
       "<table border=\"1\" class=\"dataframe\">\n",
       "  <thead>\n",
       "    <tr style=\"text-align: right;\">\n",
       "      <th></th>\n",
       "      <th>Amount Requested</th>\n",
       "      <th>Application Date</th>\n",
       "      <th>Debt-To-Income Ratio</th>\n",
       "      <th>Employment Length</th>\n",
       "      <th>Policy Code</th>\n",
       "    </tr>\n",
       "  </thead>\n",
       "  <tbody>\n",
       "    <tr>\n",
       "      <th>0</th>\n",
       "      <td>1000.0</td>\n",
       "      <td>2007-05-26</td>\n",
       "      <td>10%</td>\n",
       "      <td>4 years</td>\n",
       "      <td>0.0</td>\n",
       "    </tr>\n",
       "    <tr>\n",
       "      <th>1</th>\n",
       "      <td>1000.0</td>\n",
       "      <td>2007-05-26</td>\n",
       "      <td>10%</td>\n",
       "      <td>&lt; 1 year</td>\n",
       "      <td>0.0</td>\n",
       "    </tr>\n",
       "    <tr>\n",
       "      <th>2</th>\n",
       "      <td>11000.0</td>\n",
       "      <td>2007-05-27</td>\n",
       "      <td>10%</td>\n",
       "      <td>1 year</td>\n",
       "      <td>0.0</td>\n",
       "    </tr>\n",
       "    <tr>\n",
       "      <th>3</th>\n",
       "      <td>6000.0</td>\n",
       "      <td>2007-05-27</td>\n",
       "      <td>38.64%</td>\n",
       "      <td>&lt; 1 year</td>\n",
       "      <td>0.0</td>\n",
       "    </tr>\n",
       "    <tr>\n",
       "      <th>4</th>\n",
       "      <td>1500.0</td>\n",
       "      <td>2007-05-27</td>\n",
       "      <td>9.43%</td>\n",
       "      <td>&lt; 1 year</td>\n",
       "      <td>0.0</td>\n",
       "    </tr>\n",
       "  </tbody>\n",
       "</table>\n",
       "</div>"
      ],
      "text/plain": [
       "   Amount Requested Application Date Debt-To-Income Ratio Employment Length  \\\n",
       "0            1000.0       2007-05-26                  10%           4 years   \n",
       "1            1000.0       2007-05-26                  10%          < 1 year   \n",
       "2           11000.0       2007-05-27                  10%            1 year   \n",
       "3            6000.0       2007-05-27               38.64%          < 1 year   \n",
       "4            1500.0       2007-05-27                9.43%          < 1 year   \n",
       "\n",
       "   Policy Code  \n",
       "0          0.0  \n",
       "1          0.0  \n",
       "2          0.0  \n",
       "3          0.0  \n",
       "4          0.0  "
      ]
     },
     "execution_count": 202,
     "metadata": {},
     "output_type": "execute_result"
    }
   ],
   "source": [
    "rejected_loans = rejected_df.drop(columns = ['Risk_Score', 'Loan Title', 'Zip Code', 'State'])\n",
    "rejected_loans.head()"
   ]
  },
  {
   "cell_type": "markdown",
   "metadata": {},
   "source": [
    "### d. Add indicator for loan acceptance to both dataframes\n",
    "Here 1 indicates an acceptance and 0 represents a rejection"
   ]
  },
  {
   "cell_type": "code",
   "execution_count": 203,
   "metadata": {},
   "outputs": [],
   "source": [
    "#Indicate in the relevant dataframes if the loan application was accepted or rejected\n",
    "accepted_loans['Accepted'] = 1\n",
    "rejected_loans['Accepted'] = 0"
   ]
  },
  {
   "cell_type": "markdown",
   "metadata": {},
   "source": [
    "### e. Concatenate the dataframes into one big dataframe"
   ]
  },
  {
   "cell_type": "code",
   "execution_count": 204,
   "metadata": {},
   "outputs": [
    {
     "name": "stdout",
     "output_type": "stream",
     "text": [
      "<class 'pandas.core.frame.DataFrame'>\n",
      "RangeIndex: 29909442 entries, 0 to 29909441\n",
      "Data columns (total 6 columns):\n",
      " #   Column                Dtype  \n",
      "---  ------                -----  \n",
      " 0   Amount Requested      float64\n",
      " 1   Application Date      object \n",
      " 2   Debt-To-Income Ratio  object \n",
      " 3   Employment Length     object \n",
      " 4   Policy Code           float64\n",
      " 5   Accepted              int64  \n",
      "dtypes: float64(2), int64(1), object(3)\n",
      "memory usage: 1.3+ GB\n",
      "None\n"
     ]
    },
    {
     "data": {
      "text/html": [
       "<div>\n",
       "<style scoped>\n",
       "    .dataframe tbody tr th:only-of-type {\n",
       "        vertical-align: middle;\n",
       "    }\n",
       "\n",
       "    .dataframe tbody tr th {\n",
       "        vertical-align: top;\n",
       "    }\n",
       "\n",
       "    .dataframe thead th {\n",
       "        text-align: right;\n",
       "    }\n",
       "</style>\n",
       "<table border=\"1\" class=\"dataframe\">\n",
       "  <thead>\n",
       "    <tr style=\"text-align: right;\">\n",
       "      <th></th>\n",
       "      <th>Amount Requested</th>\n",
       "      <th>Application Date</th>\n",
       "      <th>Debt-To-Income Ratio</th>\n",
       "      <th>Employment Length</th>\n",
       "      <th>Policy Code</th>\n",
       "      <th>Accepted</th>\n",
       "    </tr>\n",
       "  </thead>\n",
       "  <tbody>\n",
       "    <tr>\n",
       "      <th>0</th>\n",
       "      <td>1000.0</td>\n",
       "      <td>2018-02-15</td>\n",
       "      <td>20.3%</td>\n",
       "      <td>&lt; 1 year</td>\n",
       "      <td>0.0</td>\n",
       "      <td>0</td>\n",
       "    </tr>\n",
       "    <tr>\n",
       "      <th>1</th>\n",
       "      <td>13000.0</td>\n",
       "      <td>Jul-2018</td>\n",
       "      <td>16.37</td>\n",
       "      <td>6 years</td>\n",
       "      <td>1.0</td>\n",
       "      <td>1</td>\n",
       "    </tr>\n",
       "    <tr>\n",
       "      <th>2</th>\n",
       "      <td>20000.0</td>\n",
       "      <td>2015-10-14</td>\n",
       "      <td>11.25%</td>\n",
       "      <td>NaN</td>\n",
       "      <td>0.0</td>\n",
       "      <td>0</td>\n",
       "    </tr>\n",
       "    <tr>\n",
       "      <th>3</th>\n",
       "      <td>17000.0</td>\n",
       "      <td>2015-03-21</td>\n",
       "      <td>38.82%</td>\n",
       "      <td>&lt; 1 year</td>\n",
       "      <td>0.0</td>\n",
       "      <td>0</td>\n",
       "    </tr>\n",
       "    <tr>\n",
       "      <th>4</th>\n",
       "      <td>3000.0</td>\n",
       "      <td>2013-08-02</td>\n",
       "      <td>7.85%</td>\n",
       "      <td>&lt; 1 year</td>\n",
       "      <td>0.0</td>\n",
       "      <td>0</td>\n",
       "    </tr>\n",
       "  </tbody>\n",
       "</table>\n",
       "</div>"
      ],
      "text/plain": [
       "   Amount Requested Application Date Debt-To-Income Ratio Employment Length  \\\n",
       "0            1000.0       2018-02-15                20.3%          < 1 year   \n",
       "1           13000.0         Jul-2018                16.37           6 years   \n",
       "2           20000.0       2015-10-14               11.25%               NaN   \n",
       "3           17000.0       2015-03-21               38.82%          < 1 year   \n",
       "4            3000.0       2013-08-02                7.85%          < 1 year   \n",
       "\n",
       "   Policy Code  Accepted  \n",
       "0          0.0         0  \n",
       "1          1.0         1  \n",
       "2          0.0         0  \n",
       "3          0.0         0  \n",
       "4          0.0         0  "
      ]
     },
     "execution_count": 204,
     "metadata": {},
     "output_type": "execute_result"
    }
   ],
   "source": [
    "#Join the two datasets into one big df and shuffle records around\n",
    "loan_df = pd.concat([accepted_loans, rejected_loans]).sample(frac=1, random_state=1).reset_index(drop=True)\n",
    "\n",
    "#Print summary of the dataframe\n",
    "print(loan_df.info())\n",
    "\n",
    "loan_df.head()"
   ]
  },
  {
   "cell_type": "markdown",
   "metadata": {},
   "source": [
    "### f. Data Type Conversion\n",
    "\n",
    "Looking at the preview of the data and the output of .info(), we see that Application Date and Debt-to-Income (dti) ratio have the wrong data type. They should be datetime and float/percentage, respectively for more accurate manipulation. Additionally, we note that the dates from the accepted and rejected datasets differ in terms of format: the accepted dataset is formatted as M-Y, while the rejected is formatted as Y-M-D. These are all corrected below:"
   ]
  },
  {
   "cell_type": "markdown",
   "metadata": {},
   "source": [
    "#### > Debt-to-Income Ratio"
   ]
  },
  {
   "cell_type": "code",
   "execution_count": 205,
   "metadata": {},
   "outputs": [],
   "source": [
    "#Remove percentage symbols from dti values and convert to percentage (float)\n",
    "loan_df['Debt-To-Income Ratio'] = loan_df['Debt-To-Income Ratio'].astype(str)\\\n",
    "                                                                 .str.replace('%','')\\\n",
    "                                                                 .astype(float)/100"
   ]
  },
  {
   "cell_type": "code",
   "execution_count": 206,
   "metadata": {},
   "outputs": [
    {
     "data": {
      "text/plain": [
       "count    2.990770e+07\n",
       "mean     1.339000e+00\n",
       "std      1.013340e+02\n",
       "min     -1.000000e-02\n",
       "25%      8.600000e-02\n",
       "50%      1.970000e-01\n",
       "75%      3.510000e-01\n",
       "max      5.000003e+05\n",
       "Name: Debt-To-Income Ratio, dtype: float64"
      ]
     },
     "execution_count": 206,
     "metadata": {},
     "output_type": "execute_result"
    }
   ],
   "source": [
    "#Get descriptive stats\n",
    "loan_df['Debt-To-Income Ratio'].describe().round(3)"
   ]
  },
  {
   "cell_type": "markdown",
   "metadata": {},
   "source": [
    "We note that there are some unreasonable/incorrect dti value (we see the minimum is a negative percentage which is not possible). Thus we explore strange and large dti values. A DTI of 43% is typically the highest ratio a borrower can have and still get qualified for a mortgage, but lenders generally seek ratios of no more than 36% [(Investopedia)](https://www.investopedia.com/terms/d/dti.asp). "
   ]
  },
  {
   "cell_type": "markdown",
   "metadata": {},
   "source": [
    "#### > Application Date"
   ]
  },
  {
   "cell_type": "code",
   "execution_count": 211,
   "metadata": {},
   "outputs": [],
   "source": [
    "#Convert date column to datetime objects, extract the months, and convert to integers (1-Jan to 12-Dec)\n",
    "loan_df['Application Date'] = pd.to_datetime(loan_df['Application Date']).dt.month.astype('Int64')"
   ]
  },
  {
   "cell_type": "code",
   "execution_count": 212,
   "metadata": {},
   "outputs": [
    {
     "data": {
      "text/html": [
       "<div>\n",
       "<style scoped>\n",
       "    .dataframe tbody tr th:only-of-type {\n",
       "        vertical-align: middle;\n",
       "    }\n",
       "\n",
       "    .dataframe tbody tr th {\n",
       "        vertical-align: top;\n",
       "    }\n",
       "\n",
       "    .dataframe thead th {\n",
       "        text-align: right;\n",
       "    }\n",
       "</style>\n",
       "<table border=\"1\" class=\"dataframe\">\n",
       "  <thead>\n",
       "    <tr style=\"text-align: right;\">\n",
       "      <th></th>\n",
       "      <th>Amount Requested</th>\n",
       "      <th>Application Date</th>\n",
       "      <th>Debt-To-Income Ratio</th>\n",
       "      <th>Employment Length</th>\n",
       "      <th>Policy Code</th>\n",
       "      <th>Accepted</th>\n",
       "    </tr>\n",
       "  </thead>\n",
       "  <tbody>\n",
       "    <tr>\n",
       "      <th>0</th>\n",
       "      <td>1000.0</td>\n",
       "      <td>2</td>\n",
       "      <td>0.2030</td>\n",
       "      <td>&lt; 1 year</td>\n",
       "      <td>0.0</td>\n",
       "      <td>0</td>\n",
       "    </tr>\n",
       "    <tr>\n",
       "      <th>1</th>\n",
       "      <td>13000.0</td>\n",
       "      <td>7</td>\n",
       "      <td>0.1637</td>\n",
       "      <td>6 years</td>\n",
       "      <td>1.0</td>\n",
       "      <td>1</td>\n",
       "    </tr>\n",
       "    <tr>\n",
       "      <th>2</th>\n",
       "      <td>20000.0</td>\n",
       "      <td>10</td>\n",
       "      <td>0.1125</td>\n",
       "      <td>NaN</td>\n",
       "      <td>0.0</td>\n",
       "      <td>0</td>\n",
       "    </tr>\n",
       "    <tr>\n",
       "      <th>3</th>\n",
       "      <td>17000.0</td>\n",
       "      <td>3</td>\n",
       "      <td>0.3882</td>\n",
       "      <td>&lt; 1 year</td>\n",
       "      <td>0.0</td>\n",
       "      <td>0</td>\n",
       "    </tr>\n",
       "    <tr>\n",
       "      <th>4</th>\n",
       "      <td>3000.0</td>\n",
       "      <td>8</td>\n",
       "      <td>0.0785</td>\n",
       "      <td>&lt; 1 year</td>\n",
       "      <td>0.0</td>\n",
       "      <td>0</td>\n",
       "    </tr>\n",
       "  </tbody>\n",
       "</table>\n",
       "</div>"
      ],
      "text/plain": [
       "   Amount Requested  Application Date  Debt-To-Income Ratio Employment Length  \\\n",
       "0            1000.0                 2                0.2030          < 1 year   \n",
       "1           13000.0                 7                0.1637           6 years   \n",
       "2           20000.0                10                0.1125               NaN   \n",
       "3           17000.0                 3                0.3882          < 1 year   \n",
       "4            3000.0                 8                0.0785          < 1 year   \n",
       "\n",
       "   Policy Code  Accepted  \n",
       "0          0.0         0  \n",
       "1          1.0         1  \n",
       "2          0.0         0  \n",
       "3          0.0         0  \n",
       "4          0.0         0  "
      ]
     },
     "execution_count": 212,
     "metadata": {},
     "output_type": "execute_result"
    }
   ],
   "source": [
    "loan_df.head()"
   ]
  },
  {
   "cell_type": "markdown",
   "metadata": {},
   "source": [
    "### h. Drop rows with NAs\n",
    "\n",
    "I instead opt to drop the rows with missing NAs (most of which are employment length variables) because these represent a small portion of the data (for both accepted and rejected) as shown below, thus deletion shouldn't influence results very greatly."
   ]
  },
  {
   "cell_type": "code",
   "execution_count": 213,
   "metadata": {},
   "outputs": [
    {
     "name": "stdout",
     "output_type": "stream",
     "text": [
      "6.5% of the rows in accepted contain NAs\n"
     ]
    }
   ],
   "source": [
    "#What percentage of rows will we be dropping if we dropped na rows from the accepted dataframe\n",
    "na_pct_of_accepted = (accepted_loans.shape[0] - accepted_loans.dropna().shape[0])/accepted_loans.shape[0]\n",
    "print(f\"{round(na_pct_of_accepted*100,2)}% of the rows in accepted contain NAs\")"
   ]
  },
  {
   "cell_type": "code",
   "execution_count": 214,
   "metadata": {},
   "outputs": [
    {
     "name": "stdout",
     "output_type": "stream",
     "text": [
      "3.44% of the rows in rejected contain NAs\n"
     ]
    }
   ],
   "source": [
    "#What percentage of rows will we be dropping if we dropped na rows from the rejected dataframe\n",
    "na_pct_of_rejected = (rejected_loans.shape[0] - rejected_loans.dropna().shape[0])/rejected_loans.shape[0]\n",
    "print(f\"{round(na_pct_of_rejected*100,2)}% of the rows in rejected contain NAs\")"
   ]
  },
  {
   "cell_type": "code",
   "execution_count": 215,
   "metadata": {},
   "outputs": [
    {
     "name": "stdout",
     "output_type": "stream",
     "text": [
      "Number of rows before dropping NAs: 29909442\n",
      "Number of rows after dropping NAs: 28810215\n",
      "Number of rows dropped:  1099227\n"
     ]
    }
   ],
   "source": [
    "print(\"Number of rows before dropping NAs:\", loan_df.shape[0])\n",
    "cleaned_loan_df = loan_df.dropna(how='any', axis=0)\n",
    "print(\"Number of rows after dropping NAs:\", cleaned_loan_df.shape[0])\n",
    "print(\"Number of rows dropped: \", loan_df.shape[0] - cleaned_loan_df.shape[0])"
   ]
  },
  {
   "cell_type": "code",
   "execution_count": 216,
   "metadata": {},
   "outputs": [
    {
     "data": {
      "text/plain": [
       "3.6725793524615566"
      ]
     },
     "execution_count": 216,
     "metadata": {},
     "output_type": "execute_result"
    }
   ],
   "source": [
    "#What percentage of rows were dropped\n",
    "(549324/14957444)*100"
   ]
  },
  {
   "cell_type": "markdown",
   "metadata": {},
   "source": [
    "## 5. Data Transformation"
   ]
  },
  {
   "cell_type": "markdown",
   "metadata": {},
   "source": [
    "Given a Logistic Regression model is intended for use, scaling the data should not change the performance of the model. This is because if there are predictor variables with large ranges that do not effect the dependent variable of interest, the algorithm makes their coefficients small so that they do not greatly influence predictions. Hence, most of my data transformations in this case are encoding:"
   ]
  },
  {
   "cell_type": "markdown",
   "metadata": {},
   "source": [
    "### Encoding Categorical Variables\n",
    "\n",
    "To not mislead the model in thinking one category is more important than another, I one-hot encode categorical variables. However, for employment years, I take the opposite approach as from a loan perspective, someone who has a longer employment length might suggest more stability, hence I extract the year (numeric value) from the category and assign as a column value "
   ]
  },
  {
   "cell_type": "code",
   "execution_count": 217,
   "metadata": {},
   "outputs": [],
   "source": [
    "#Extract numeric value from the Employment Length\n",
    "cleaned_loan_df['Employment Length'] = cleaned_loan_df['Employment Length'].replace('< 1 year', '0 years')\n",
    "cleaned_loan_df['Employment Length'] = cleaned_loan_df['Employment Length'].str.extract(r'([0-9]+)')\n",
    "cleaned_loan_df['Employment Length'] = pd.to_numeric(cleaned_loan_df['Employment Length'])"
   ]
  },
  {
   "cell_type": "code",
   "execution_count": 218,
   "metadata": {},
   "outputs": [],
   "source": [
    "#One-hot encode Application month and State\n",
    "encoded_df = pd.get_dummies(cleaned_loan_df, columns = ['Application Date'])"
   ]
  },
  {
   "cell_type": "code",
   "execution_count": 219,
   "metadata": {},
   "outputs": [
    {
     "data": {
      "text/html": [
       "<div>\n",
       "<style scoped>\n",
       "    .dataframe tbody tr th:only-of-type {\n",
       "        vertical-align: middle;\n",
       "    }\n",
       "\n",
       "    .dataframe tbody tr th {\n",
       "        vertical-align: top;\n",
       "    }\n",
       "\n",
       "    .dataframe thead th {\n",
       "        text-align: right;\n",
       "    }\n",
       "</style>\n",
       "<table border=\"1\" class=\"dataframe\">\n",
       "  <thead>\n",
       "    <tr style=\"text-align: right;\">\n",
       "      <th></th>\n",
       "      <th>Amount Requested</th>\n",
       "      <th>Debt-To-Income Ratio</th>\n",
       "      <th>Employment Length</th>\n",
       "      <th>Policy Code</th>\n",
       "      <th>Accepted</th>\n",
       "      <th>Application Date_1</th>\n",
       "      <th>Application Date_2</th>\n",
       "      <th>Application Date_3</th>\n",
       "      <th>Application Date_4</th>\n",
       "      <th>Application Date_5</th>\n",
       "      <th>Application Date_6</th>\n",
       "      <th>Application Date_7</th>\n",
       "      <th>Application Date_8</th>\n",
       "      <th>Application Date_9</th>\n",
       "      <th>Application Date_10</th>\n",
       "      <th>Application Date_11</th>\n",
       "      <th>Application Date_12</th>\n",
       "    </tr>\n",
       "  </thead>\n",
       "  <tbody>\n",
       "    <tr>\n",
       "      <th>0</th>\n",
       "      <td>1000.0</td>\n",
       "      <td>0.2030</td>\n",
       "      <td>0</td>\n",
       "      <td>0.0</td>\n",
       "      <td>0</td>\n",
       "      <td>0</td>\n",
       "      <td>1</td>\n",
       "      <td>0</td>\n",
       "      <td>0</td>\n",
       "      <td>0</td>\n",
       "      <td>0</td>\n",
       "      <td>0</td>\n",
       "      <td>0</td>\n",
       "      <td>0</td>\n",
       "      <td>0</td>\n",
       "      <td>0</td>\n",
       "      <td>0</td>\n",
       "    </tr>\n",
       "    <tr>\n",
       "      <th>1</th>\n",
       "      <td>13000.0</td>\n",
       "      <td>0.1637</td>\n",
       "      <td>6</td>\n",
       "      <td>1.0</td>\n",
       "      <td>1</td>\n",
       "      <td>0</td>\n",
       "      <td>0</td>\n",
       "      <td>0</td>\n",
       "      <td>0</td>\n",
       "      <td>0</td>\n",
       "      <td>0</td>\n",
       "      <td>1</td>\n",
       "      <td>0</td>\n",
       "      <td>0</td>\n",
       "      <td>0</td>\n",
       "      <td>0</td>\n",
       "      <td>0</td>\n",
       "    </tr>\n",
       "    <tr>\n",
       "      <th>3</th>\n",
       "      <td>17000.0</td>\n",
       "      <td>0.3882</td>\n",
       "      <td>0</td>\n",
       "      <td>0.0</td>\n",
       "      <td>0</td>\n",
       "      <td>0</td>\n",
       "      <td>0</td>\n",
       "      <td>1</td>\n",
       "      <td>0</td>\n",
       "      <td>0</td>\n",
       "      <td>0</td>\n",
       "      <td>0</td>\n",
       "      <td>0</td>\n",
       "      <td>0</td>\n",
       "      <td>0</td>\n",
       "      <td>0</td>\n",
       "      <td>0</td>\n",
       "    </tr>\n",
       "    <tr>\n",
       "      <th>4</th>\n",
       "      <td>3000.0</td>\n",
       "      <td>0.0785</td>\n",
       "      <td>0</td>\n",
       "      <td>0.0</td>\n",
       "      <td>0</td>\n",
       "      <td>0</td>\n",
       "      <td>0</td>\n",
       "      <td>0</td>\n",
       "      <td>0</td>\n",
       "      <td>0</td>\n",
       "      <td>0</td>\n",
       "      <td>0</td>\n",
       "      <td>1</td>\n",
       "      <td>0</td>\n",
       "      <td>0</td>\n",
       "      <td>0</td>\n",
       "      <td>0</td>\n",
       "    </tr>\n",
       "    <tr>\n",
       "      <th>5</th>\n",
       "      <td>8500.0</td>\n",
       "      <td>0.2361</td>\n",
       "      <td>0</td>\n",
       "      <td>0.0</td>\n",
       "      <td>0</td>\n",
       "      <td>0</td>\n",
       "      <td>0</td>\n",
       "      <td>1</td>\n",
       "      <td>0</td>\n",
       "      <td>0</td>\n",
       "      <td>0</td>\n",
       "      <td>0</td>\n",
       "      <td>0</td>\n",
       "      <td>0</td>\n",
       "      <td>0</td>\n",
       "      <td>0</td>\n",
       "      <td>0</td>\n",
       "    </tr>\n",
       "  </tbody>\n",
       "</table>\n",
       "</div>"
      ],
      "text/plain": [
       "   Amount Requested  Debt-To-Income Ratio  Employment Length  Policy Code  \\\n",
       "0            1000.0                0.2030                  0          0.0   \n",
       "1           13000.0                0.1637                  6          1.0   \n",
       "3           17000.0                0.3882                  0          0.0   \n",
       "4            3000.0                0.0785                  0          0.0   \n",
       "5            8500.0                0.2361                  0          0.0   \n",
       "\n",
       "   Accepted  Application Date_1  Application Date_2  Application Date_3  \\\n",
       "0         0                   0                   1                   0   \n",
       "1         1                   0                   0                   0   \n",
       "3         0                   0                   0                   1   \n",
       "4         0                   0                   0                   0   \n",
       "5         0                   0                   0                   1   \n",
       "\n",
       "   Application Date_4  Application Date_5  Application Date_6  \\\n",
       "0                   0                   0                   0   \n",
       "1                   0                   0                   0   \n",
       "3                   0                   0                   0   \n",
       "4                   0                   0                   0   \n",
       "5                   0                   0                   0   \n",
       "\n",
       "   Application Date_7  Application Date_8  Application Date_9  \\\n",
       "0                   0                   0                   0   \n",
       "1                   1                   0                   0   \n",
       "3                   0                   0                   0   \n",
       "4                   0                   1                   0   \n",
       "5                   0                   0                   0   \n",
       "\n",
       "   Application Date_10  Application Date_11  Application Date_12  \n",
       "0                    0                    0                    0  \n",
       "1                    0                    0                    0  \n",
       "3                    0                    0                    0  \n",
       "4                    0                    0                    0  \n",
       "5                    0                    0                    0  "
      ]
     },
     "execution_count": 219,
     "metadata": {},
     "output_type": "execute_result"
    }
   ],
   "source": [
    "encoded_df.head()"
   ]
  },
  {
   "cell_type": "markdown",
   "metadata": {},
   "source": [
    "## 6. Modeling & Evaluation"
   ]
  },
  {
   "cell_type": "markdown",
   "metadata": {},
   "source": [
    "I decide to use a logistic regression model because in this scenario we are trying to predict a binary outcome: (accepted or not accepted), which logistic regression is generally know to tackle. It also better models my (realistic) view on the loan acceptance prediction through its use of probabilities: you can't always say for certain based on an individual's factors if they will get a loan or not, you could however assign a probability to reflect some of that uncertainty. A logistic regression model is also a probablistic model, and these have the added benefit that they tend to do well with imbalanced datasets (like ours in this case)."
   ]
  },
  {
   "cell_type": "code",
   "execution_count": 231,
   "metadata": {},
   "outputs": [],
   "source": [
    "from sklearn.model_selection import train_test_split,GridSearchCV\n",
    "from sklearn.linear_model import LogisticRegression\n",
    "from sklearn.metrics import accuracy_score, plot_confusion_matrix, classification_report, precision_score"
   ]
  },
  {
   "cell_type": "markdown",
   "metadata": {},
   "source": [
    "### a. Split data into training and test set"
   ]
  },
  {
   "cell_type": "code",
   "execution_count": 221,
   "metadata": {},
   "outputs": [],
   "source": [
    "#Specify the predictor variables\n",
    "X = encoded_df.drop(columns=['Accepted'])\n",
    "\n",
    "#Specify the target variable\n",
    "y = encoded_df['Accepted']\n",
    "\n",
    "#Split to training and test set with a 70:30 split\n",
    "X_train, X_test, y_train, y_test = train_test_split(X, y, test_size=0.3)"
   ]
  },
  {
   "cell_type": "markdown",
   "metadata": {},
   "source": [
    "### b. Fit model on training data on predict on test set\n",
    "**Note:** Optimal model parameters for the logisitic regression were determined via a grid search cv (see Appendix A)"
   ]
  },
  {
   "cell_type": "code",
   "execution_count": 225,
   "metadata": {},
   "outputs": [],
   "source": [
    "#Initialize Logistic Regression model with the optimal parameters determined from a grid search cross-validation\n",
    "#on a smaller dataset which should have roughly the same distribution  (see Appendix)\n",
    "clf = LogisticRegression(C=1.0, solver= 'lbfgs')\n",
    "\n",
    "#Fit the model on the train data\n",
    "clf.fit(X_train, y_train)\n",
    "\n",
    "#Predict on the test data\n",
    "y_preds = clf.predict(X_test)"
   ]
  },
  {
   "cell_type": "markdown",
   "metadata": {},
   "source": [
    "### c. Model Evaluation\n",
    "\n",
    "It is unclear which of a false rejection or false acceptance is more costly. For a false prediction of acceptance, the individual could end up wasting time compiling documents and applying but not getting the loan and that appears that be the major con: wastage of time. A failed loan application does not affect your credit score unless you apply to many loans in quick succession. \n",
    "\n",
    "Meanwhile, a false rejection would mean you forgo the potential loan you could get from the Lending club and have to look elsewhere (which might not have as good rates).\n",
    "\n",
    "For the purpose of this assignment, I assume a false acceptance is more costly than a false rejection because you waste time applying and waiting for the response from the Lending Club, which might have been substituted applying for another loan instead.\n",
    "\n",
    "Hence, in this scenario we are interested in the **precision** (the ability of the classifier not to label as positive a sample that is negative) in addition to the general accuracy\n"
   ]
  },
  {
   "cell_type": "code",
   "execution_count": 233,
   "metadata": {},
   "outputs": [
    {
     "name": "stdout",
     "output_type": "stream",
     "text": [
      "Precision score: 0.9623362711204169\n",
      "Test set accuracy:  0.9969812792105578\n"
     ]
    }
   ],
   "source": [
    "test_accuracy = accuracy_score(y_test, y_preds)\n",
    "print(\"Precision score: {}\".format(precision_score(y_test,y_preds)))\n",
    "print(\"Test set accuracy: \", test_accuracy)"
   ]
  },
  {
   "cell_type": "code",
   "execution_count": 227,
   "metadata": {},
   "outputs": [
    {
     "data": {
      "image/png": "[encoded data removed]",
      "text/plain": [
       "<Figure size 432x288 with 2 Axes>"
      ]
     },
     "metadata": {
      "needs_background": "light"
     },
     "output_type": "display_data"
    }
   ],
   "source": [
    "plot_confusion_matrix(clf, X_test, y_test)  \n",
    "plt.show()  "
   ]
  },
  {
   "cell_type": "code",
   "execution_count": 228,
   "metadata": {},
   "outputs": [
    {
     "name": "stdout",
     "output_type": "stream",
     "text": [
      "Coefficients for predictor variables: \n",
      "-  Amount Requested = -2.3389538928349764e-05\n",
      "-  Debt-To-Income Ratio = -4.134642041212085\n",
      "-  Employment Length = 0.20929938612153554\n",
      "-  Policy Code = 7.690682047875009\n",
      "-  Month 1 = -0.3425296506195545\n",
      "-  Month 2 = -0.23171713149534146\n",
      "-  Month 3 = -0.2387149725593726\n",
      "-  Month 4 = -0.3287164542309141\n",
      "-  Month 5 = -0.3890069496679627\n",
      "-  Month 6 = -0.49423773024412576\n",
      "-  Month 7 = -0.46953731500870427\n",
      "-  Month 8 = -0.48002751229679025\n",
      "-  Month 9 = -0.47591355468563484\n",
      "-  Month 10 = -0.3179987890600234\n",
      "-  Month 11 = -0.37192974617726465\n",
      "-  Month 12 = -0.485366783165484\n"
     ]
    }
   ],
   "source": [
    "print(\"Coefficients for predictor variables: \")\n",
    "variables = X.columns\n",
    "coefficients = clf.coef_\n",
    "\n",
    "for var, coef in zip(variables, coefficients[0]):\n",
    "    \n",
    "    if 'Application Date_' in var:\n",
    "        \n",
    "        print('- ', 'Month ' + str(var.replace('Application Date_','')),'=', coef)\n",
    "    \n",
    "    else:\n",
    "        print('- ',var ,'=', coef)"
   ]
  },
  {
   "cell_type": "code",
   "execution_count": 229,
   "metadata": {
    "scrolled": true
   },
   "outputs": [
    {
     "name": "stdout",
     "output_type": "stream",
     "text": [
      "              precision    recall  f1-score   support\n",
      "\n",
      "    Rejected       1.00      1.00      1.00   8009294\n",
      "    Accepted       0.96      1.00      0.98    633771\n",
      "\n",
      "    accuracy                           1.00   8643065\n",
      "   macro avg       0.98      1.00      0.99   8643065\n",
      "weighted avg       1.00      1.00      1.00   8643065\n",
      "\n"
     ]
    }
   ],
   "source": [
    "print(classification_report(y_test, y_preds,target_names=['Rejected','Accepted']))"
   ]
  },
  {
   "cell_type": "markdown",
   "metadata": {},
   "source": [
    "From the classification report above we see that the model does really well on accuracy (1.00) as well as precision (0.96) for the test set, increasing our confidence that it is generalizable to new data"
   ]
  },
  {
   "cell_type": "markdown",
   "metadata": {},
   "source": [
    "## 7. Predicting Largest Loan Amount that will be funded for any given individual"
   ]
  },
  {
   "cell_type": "code",
   "execution_count": null,
   "metadata": {},
   "outputs": [],
   "source": [
    "def max_loan_amount_predictor(step_size = 100):\n",
    "    \n",
    "    #Initialize the max requestable amount to 0, this will be increased interatively to determine the \n",
    "    #true max acceptable value\n",
    "    max_requestable = 0\n",
    "    \n",
    "    print(\"Please enter your information below: \")\n",
    "    application_month = int(input(\"What month are you applying in? (Jan-1,Feb-2,..Dec-12) \"))   \n",
    "    debt = float(input(\"How much are you currently owing in total? \"))\n",
    "    income = float(input(\"What is your annual income? \"))\n",
    "    employment_length = int(input(\"How many years have you been at your current job? (Enter 0 if < 1 year) \"))\n",
    "    policy_code = float(input(\"What's your policy code? (0, 1 or 2) \"))\n",
    "    \n",
    "    #Assume no loaning to someone without income\n",
    "    if income <= 0:\n",
    "        return max_requestable\n",
    "    \n",
    "    #Compute the individual's dti\n",
    "    dti = debt/income\n",
    "    \n",
    "    #If the individual has worked more than 10 years, cap at 10 given our model\n",
    "    if employment_length > 10:\n",
    "        employment_length = 10\n",
    "    \n",
    "    #Note the month the individual is applying in\n",
    "    application_month_array = np.zeros(12)\n",
    "    application_month_array[application_month-1] = 1\n",
    "    \n",
    "    #New request – next amount to request, we increment by step size\n",
    "    next_request = max_requestable + step_size\n",
    "    \n",
    "    #Create data which will be passed into the model                      \n",
    "    data = pd.DataFrame([next_request, dti, employment_length, policy_code, *application_month_array]).T\n",
    "      \n",
    "    #While the amount requested is accepted and not more than 6 times your annual salary\n",
    "    while (best_estimator.predict(data)  == 1) and (next_request <= 6*income):\n",
    "        \n",
    "        #Update the max requestable amount\n",
    "        max_requestable = next_request\n",
    "        \n",
    "        #Increase the amount\n",
    "        next_request += step_size\n",
    "        \n",
    "        #And check if the loan is still accepted with the increased amount\n",
    "        data = pd.DataFrame([next_request, dti, employment_length, policy_code, *application_month_array]).T\n",
    "    \n",
    "    if max_requestable > 0:\n",
    "        return (f\"The maximum loan amount you could apply for is ${max_requestable - 100} \")\n",
    "    else:\n",
    "        return (f\"The maximum loan amount you could apply for is ${0}\")\n",
    "    "
   ]
  },
  {
   "cell_type": "markdown",
   "metadata": {},
   "source": [
    "### Sample Runs"
   ]
  },
  {
   "cell_type": "markdown",
   "metadata": {},
   "source": [
    "**a. Loan Acceptance**"
   ]
  },
  {
   "cell_type": "code",
   "execution_count": 249,
   "metadata": {},
   "outputs": [
    {
     "name": "stdout",
     "output_type": "stream",
     "text": [
      "Please enter your information below: \n",
      "What month are you applying in? (Jan-1,Feb-2,..Dec-12) 5\n",
      "How much are you currently owing in total? 100\n",
      "What is your annual income? 2000\n",
      "How many years have you been at your current job? (Enter 0 if < 1 year) 3\n",
      "What's your policy code? (0, 1 or 2) 1\n"
     ]
    },
    {
     "data": {
      "text/plain": [
       "'The maximum loan amount you could apply for is $11900 '"
      ]
     },
     "execution_count": 249,
     "metadata": {},
     "output_type": "execute_result"
    }
   ],
   "source": [
    "max_loan_amount_predictor()"
   ]
  },
  {
   "cell_type": "markdown",
   "metadata": {},
   "source": [
    "**a. Loan Rejection**"
   ]
  },
  {
   "cell_type": "code",
   "execution_count": 250,
   "metadata": {},
   "outputs": [
    {
     "name": "stdout",
     "output_type": "stream",
     "text": [
      "Please enter your information below: \n",
      "What month are you applying in? (Jan-1,Feb-2,..Dec-12) 5\n",
      "How much are you currently owing in total? 10000\n",
      "What is your annual income? 200\n",
      "How many years have you been at your current job? (Enter 0 if < 1 year) 4\n",
      "What's your policy code? (0, 1 or 2) 0\n"
     ]
    },
    {
     "data": {
      "text/plain": [
       "'The maximum loan amount you could apply for is $0'"
      ]
     },
     "execution_count": 250,
     "metadata": {},
     "output_type": "execute_result"
    }
   ],
   "source": [
    "max_loan_amount_predictor()"
   ]
  },
  {
   "cell_type": "markdown",
   "metadata": {},
   "source": [
    "## Appendix"
   ]
  },
  {
   "cell_type": "markdown",
   "metadata": {},
   "source": [
    "### a. Cross-validation code on smaller dataset (with results)\n",
    "#### !!! Be careful re-running! You lose the results shown below"
   ]
  },
  {
   "cell_type": "code",
   "execution_count": null,
   "metadata": {},
   "outputs": [],
   "source": [
    "#Load samples of the datasets for accepted and rejected applications\n",
    "accepted_df = sample_generator('accepted.csv', 0.01)\n",
    "rejected_df = sample_generator('rejected.csv', 0.01)"
   ]
  },
  {
   "cell_type": "code",
   "execution_count": 111,
   "metadata": {},
   "outputs": [
    {
     "data": {
      "text/plain": [
       "GridSearchCV(estimator=LogisticRegression(),\n",
       "             param_grid=[{'C': [1.0, 0.1, 0.01], 'max_iter': [500],\n",
       "                          'solver': ['lbfgs', 'sag', 'saga']}])"
      ]
     },
     "execution_count": 111,
     "metadata": {},
     "output_type": "execute_result"
    }
   ],
   "source": [
    "#Specify the predictor variables\n",
    "X = encoded_df.drop(columns=['Accepted'])\n",
    "\n",
    "#Specify the target variable\n",
    "y = encoded_df['Accepted']\n",
    "\n",
    "#Split to training and test set with a 70:30 split\n",
    "X_train, X_test, y_train, y_test = train_test_split(X, y, test_size=0.3)\n",
    "\n",
    "#Initialize Logistic Regression model\n",
    "clf = LogisticRegression()\n",
    "\n",
    "#Create parameter list for optimization trial\n",
    "#C: Inverse of regularization strength, smaller values specify stronger regularization.\n",
    "#solver: Try default solver as well as Sag and Saga. The latter are faster for larger datasets (Sklearn)\n",
    "param_grid = [{'C': [1.0, 0.1, 0.01] ,'max_iter': [500], 'solver': ['lbfgs', 'sag', 'saga']}]\n",
    "\n",
    "#Run grid search to find best parameters\n",
    "#I run on a subset because running on a sample of like 2M rows was still running after 2 hrs\n",
    "grid_search = GridSearchCV(clf, param_grid = param_grid)\n",
    "grid_search.fit(X_train[:round(len(X_train)/10)], y_train[:round(len(X_train)/10)])"
   ]
  },
  {
   "cell_type": "code",
   "execution_count": 112,
   "metadata": {},
   "outputs": [
    {
     "name": "stdout",
     "output_type": "stream",
     "text": [
      "The best parameters from the grid search were {'C': 1.0, 'max_iter': 500, 'solver': 'lbfgs'}\n"
     ]
    }
   ],
   "source": [
    "#Get the best params from the grid search\n",
    "print(f\"The best parameters from the grid search were {grid_search.best_params_}\")\n",
    "\n",
    "#Get the best estimator\n",
    "best_estimator = grid_search.best_estimator_\n",
    "\n",
    "#Predict class using best parameters\n",
    "y_gs_pred = best_estimator.predict(X_test)"
   ]
  },
  {
   "cell_type": "code",
   "execution_count": 118,
   "metadata": {},
   "outputs": [
    {
     "name": "stdout",
     "output_type": "stream",
     "text": [
      "There were 209600 rows of data for the training set\n",
      "There were 89829 rows of data for the test set\n"
     ]
    }
   ],
   "source": [
    "print(f\"There were {len(X_train)} rows of data for the training set\")\n",
    "print(f\"There were {len(X_test)} rows of data for the test set\")"
   ]
  },
  {
   "cell_type": "code",
   "execution_count": 113,
   "metadata": {},
   "outputs": [
    {
     "name": "stdout",
     "output_type": "stream",
     "text": [
      "Coefficients for predictor variables: \n",
      "-  Amount Requested = -7.751546020776982e-06\n",
      "-  Debt-To-Income Ratio = -0.5928399401149207\n",
      "-  Employment Length = 0.2172891753086878\n",
      "-  Policy Code = 7.376147136393904\n",
      "-  Month 1 = -0.7072266495572977\n",
      "-  Month 2 = -0.29281914176963736\n",
      "-  Month 3 = -0.2759858238401665\n",
      "-  Month 4 = -0.3548141812721871\n",
      "-  Month 5 = -0.7590970179993761\n",
      "-  Month 6 = -0.4203981759560921\n",
      "-  Month 7 = -0.7747375074208613\n",
      "-  Month 8 = -0.3442879425663216\n",
      "-  Month 9 = -0.7338211336834859\n",
      "-  Month 10 = 0.17016120000009421\n",
      "-  Month 11 = 0.2513773620748405\n",
      "-  Month 12 = -0.43807488865019395\n"
     ]
    }
   ],
   "source": [
    "print(\"Coefficients for predictor variables: \")\n",
    "variables = X.columns\n",
    "coefficients = best_estimator.coef_\n",
    "\n",
    "for var, coef in zip(variables, coefficients[0]):\n",
    "    \n",
    "    if 'Application Date_' in var:\n",
    "        \n",
    "        print('- ', 'Month ' + str(var.replace('Application Date_','')),'=', coef)\n",
    "    \n",
    "    else:\n",
    "        print('- ',var ,'=', coef)"
   ]
  },
  {
   "cell_type": "code",
   "execution_count": 114,
   "metadata": {},
   "outputs": [
    {
     "name": "stdout",
     "output_type": "stream",
     "text": [
      "Mean validation set accuracy:  0.9882633587786259\n",
      "Test set accuracy:  0.9969052310501063\n"
     ]
    }
   ],
   "source": [
    "avg_train_accuracy = grid_search.best_score_\n",
    "test_accuracy = accuracy_score(y_test, y_gs_pred)\n",
    "print(\"Mean validation set accuracy: \", avg_train_accuracy)\n",
    "print(\"Test set accuracy: \", test_accuracy)"
   ]
  },
  {
   "cell_type": "code",
   "execution_count": 115,
   "metadata": {},
   "outputs": [
    {
     "data": {
      "image/png": "[encoded data removed]",
      "text/plain": [
       "<Figure size 432x288 with 2 Axes>"
      ]
     },
     "metadata": {
      "needs_background": "light"
     },
     "output_type": "display_data"
    }
   ],
   "source": [
    "plot_confusion_matrix(best_estimator, X_test, y_test)  \n",
    "plt.show()  "
   ]
  }
 ],
 "metadata": {
  "kernelspec": {
   "display_name": "Python 3",
   "language": "python",
   "name": "python3"
  },
  "language_info": {
   "codemirror_mode": {
    "name": "ipython",
    "version": 3
   },
   "file_extension": ".py",
   "mimetype": "text/x-python",
   "name": "python",
   "nbconvert_exporter": "python",
   "pygments_lexer": "ipython3",
   "version": "3.7.11"
  }
 },
 "nbformat": 4,
 "nbformat_minor": 4
}
