{
 "cells": [
  {
   "cell_type": "markdown",
   "id": "b383485d",
   "metadata": {},
   "source": [
    "## CS156 Pre-class Work 10.1\n",
    "\n",
    "`Hopfield Networks`"
   ]
  },
  {
   "cell_type": "code",
   "execution_count": 340,
   "id": "90962799",
   "metadata": {},
   "outputs": [],
   "source": [
    "import numpy as np\n",
    "import matplotlib.pyplot as plt"
   ]
  },
  {
   "cell_type": "code",
   "execution_count": 314,
   "id": "2b44a7a7",
   "metadata": {},
   "outputs": [],
   "source": [
    "class Hopfield:\n",
    "    \n",
    "    def __init__(self,num_neurons = 10,num_iters=1000,print_ind=True):\n",
    "        \n",
    "        #Number of iterations to run the recall for\n",
    "        #self.num_iters = num_iters\n",
    "        self.num_neurons = num_neurons\n",
    "        self.num_iters = num_iters\n",
    "        self.print_ind = print_ind\n",
    "        self.w_mat = np.zeros((self.num_neurons,self.num_neurons))\n",
    "        self.memories = []\n",
    "        \n",
    "    def store_memory(self,pattern):\n",
    "        \n",
    "        #Placeholder to track if multiple patterns were inputted\n",
    "        multiple_patterns = False\n",
    "        \n",
    "        if len(pattern) != self.num_neurons:\n",
    "            if pattern.shape[1] == self.num_neurons:\n",
    "                multiple_patterns = True\n",
    "            else:\n",
    "                raise ValueError(f'Wrong input size! Input should be size {self.num_neurons}')\n",
    "         \n",
    "        if multiple_patterns:\n",
    "            for p in pattern:\n",
    "                self.memories.append(p)\n",
    "                \n",
    "                self.w_mat = self.w_mat + np.outer(p,p)\n",
    "            \n",
    "            #Replace diagonal with 0 since it is the square of the weights\n",
    "            np.fill_diagonal(self.w_mat,0)\n",
    "            \n",
    "        else:\n",
    "        \n",
    "            #Store the actual pattern\n",
    "            self.memories.append(pattern)\n",
    "\n",
    "            #Use the inputted memory to update the weight matrix\n",
    "            self.w_mat = self.w_mat + np.outer(pattern,pattern)\n",
    "\n",
    "            #Replace diagonal with 0 since it is the square of the weights\n",
    "            np.fill_diagonal(self.w_mat,0)\n",
    "\n",
    "        \n",
    "    def recall(self,corrupt_pattern):\n",
    "        \n",
    "        curr = corrupt_pattern\n",
    "        iteration = 0\n",
    "        \n",
    "        while iteration < self.num_iters:\n",
    "            \n",
    "            curr = np.sign(self.w_mat @ curr)\n",
    "            iteration += 1\n",
    "            \n",
    "            if (curr == self.memories).all(1).any():\n",
    "                if self.print_ind:\n",
    "                    print(\"Found pattern:\")\n",
    "                return True,curr\n",
    "        if self.print_ind:\n",
    "            print(\"Did not find pattern. Last update:\")\n",
    "        return False, curr  "
   ]
  },
  {
   "cell_type": "code",
   "execution_count": 315,
   "id": "746f20ad",
   "metadata": {},
   "outputs": [],
   "source": [
    "memories = np.random.choice([-1,1],size=(3,10))\n",
    "RNN = Hopfield(num_neurons=memories.shape[1])\n",
    "RNN.store_memory(memories)"
   ]
  },
  {
   "cell_type": "code",
   "execution_count": 322,
   "id": "839b1f4d",
   "metadata": {},
   "outputs": [
    {
     "name": "stdout",
     "output_type": "stream",
     "text": [
      "Found pattern:\n"
     ]
    },
    {
     "data": {
      "text/plain": [
       "array([-1.,  1., -1.,  1., -1., -1.,  1.,  1., -1.,  1.])"
      ]
     },
     "execution_count": 322,
     "metadata": {},
     "output_type": "execute_result"
    }
   ],
   "source": [
    "corrupt_pattern = np.random.choice([-1,1],size=10)\n",
    "RNN.recall(corrupt_pattern)[1]"
   ]
  },
  {
   "cell_type": "code",
   "execution_count": 333,
   "id": "63a4180f",
   "metadata": {},
   "outputs": [],
   "source": [
    "def get_hopfield_capacity(size):\n",
    "    \n",
    "    num_memories_stored = 0\n",
    "    num_memories_recalled = 0\n",
    "    \n",
    "    accurately_recalled = True\n",
    "    \n",
    "    #Initialize an empty Hopfield network\n",
    "    hopfield = Hopfield(num_neurons = size, print_ind=False)\n",
    "    \n",
    "    while accurately_recalled:\n",
    "        \n",
    "        #Store random memory\n",
    "        generated_memory = np.random.choice([-1,1], size=size)\n",
    "        hopfield.store_memory(generated_memory)\n",
    "        num_memories_stored += 1\n",
    "        \n",
    "        #Corrupt a single bit of the memory and try to recall\n",
    "        corrupt_memory = generated_memory.copy()\n",
    "        corrupt_memory[np.random.choice(len(generated_memory))] *= -1\n",
    "        \n",
    "        if hopfield.recall(corrupt_memory)[0]:\n",
    "            num_memories_recalled += 1\n",
    "        else:\n",
    "            accurately_recalled = False\n",
    "        \n",
    "    return num_memories_stored,num_memories_recalled]\n",
    "        \n",
    "        "
   ]
  },
  {
   "cell_type": "code",
   "execution_count": 334,
   "id": "2768a1f3",
   "metadata": {},
   "outputs": [
    {
     "data": {
      "text/plain": [
       "array([4, 3])"
      ]
     },
     "execution_count": 334,
     "metadata": {},
     "output_type": "execute_result"
    }
   ],
   "source": [
    "get_hopfield_capacity(10)"
   ]
  },
  {
   "cell_type": "code",
   "execution_count": 345,
   "id": "ddcbb912",
   "metadata": {},
   "outputs": [],
   "source": [
    "network_size = [5,10,15,20,25,50,80,100,200,500,1000]\n",
    "size_capacities = []\n",
    "\n",
    "for size in network_size:\n",
    "    \n",
    "    avg_list = []\n",
    "    \n",
    "    for _ in range(20):\n",
    "        \n",
    "        avg_list.append(get_hopfield_capacity(size)[0]-1)\n",
    "        \n",
    "    size_capacities.append(np.mean(avg_list))\n",
    "    \n",
    "    "
   ]
  },
  {
   "cell_type": "code",
   "execution_count": 346,
   "id": "3a165aca",
   "metadata": {},
   "outputs": [
    {
     "data": {
      "image/png": "[encoded data removed]",
      "text/plain": [
       "<Figure size 432x288 with 1 Axes>"
      ]
     },
     "metadata": {
      "needs_background": "light"
     },
     "output_type": "display_data"
    }
   ],
   "source": [
    "plt.plot(network_size,size_capacities)\n",
    "plt.show()"
   ]
  },
  {
   "cell_type": "markdown",
   "id": "a54644d9",
   "metadata": {},
   "source": [
    "Unfortunately, I didn't have time to attempt the last question on asynchronous updates. I spent over 2 hrs trying to figure out the first to questions. And over 3 hours in total."
   ]
  }
 ],
 "metadata": {
  "kernelspec": {
   "display_name": "Python 3 (ipykernel)",
   "language": "python",
   "name": "python3"
  },
  "language_info": {
   "codemirror_mode": {
    "name": "ipython",
    "version": 3
   },
   "file_extension": ".py",
   "mimetype": "text/x-python",
   "name": "python",
   "nbconvert_exporter": "python",
   "pygments_lexer": "ipython3",
   "version": "3.7.11"
  }
 },
 "nbformat": 4,
 "nbformat_minor": 5
}
