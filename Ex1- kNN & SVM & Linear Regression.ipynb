{
 "cells": [
  {
   "cell_type": "markdown",
   "metadata": {},
   "source": [
    "## Session 4 - Quantifying Model Quality"
   ]
  },
  {
   "cell_type": "markdown",
   "metadata": {},
   "source": [
    "### 1. Facebook Regression"
   ]
  },
  {
   "cell_type": "markdown",
   "metadata": {},
   "source": [
    "**Build a regression model by minimizing the mean squared error (MSE) to predict any of the: comments,likes, shares.**"
   ]
  },
  {
   "cell_type": "code",
   "execution_count": 52,
   "metadata": {},
   "outputs": [
    {
     "name": "stderr",
     "output_type": "stream",
     "text": [
      "/Users/koredeakande/opt/anaconda3/lib/python3.7/importlib/_bootstrap.py:219: RuntimeWarning: numpy.ufunc size changed, may indicate binary incompatibility. Expected 192 from C header, got 216 from PyObject\n",
      "  return f(*args, **kwds)\n",
      "/Users/koredeakande/opt/anaconda3/lib/python3.7/importlib/_bootstrap.py:219: RuntimeWarning: numpy.ufunc size changed, may indicate binary incompatibility. Expected 192 from C header, got 216 from PyObject\n",
      "  return f(*args, **kwds)\n"
     ]
    }
   ],
   "source": [
    "#!pip install sklearn-pandas\n",
    "#!pip install delayed\n",
    "import matplotlib.pyplot as plt\n",
    "import numpy as np\n",
    "import pandas as pd\n",
    "from sklearn import preprocessing, linear_model, neighbors\n",
    "from sklearn import metrics\n",
    "from sklearn.model_selection import train_test_split"
   ]
  },
  {
   "cell_type": "code",
   "execution_count": 4,
   "metadata": {},
   "outputs": [
    {
     "data": {
      "text/html": [
       "<div>\n",
       "<style scoped>\n",
       "    .dataframe tbody tr th:only-of-type {\n",
       "        vertical-align: middle;\n",
       "    }\n",
       "\n",
       "    .dataframe tbody tr th {\n",
       "        vertical-align: top;\n",
       "    }\n",
       "\n",
       "    .dataframe thead th {\n",
       "        text-align: right;\n",
       "    }\n",
       "</style>\n",
       "<table border=\"1\" class=\"dataframe\">\n",
       "  <thead>\n",
       "    <tr style=\"text-align: right;\">\n",
       "      <th></th>\n",
       "      <th>total_followers</th>\n",
       "      <th>type</th>\n",
       "      <th>category</th>\n",
       "      <th>month</th>\n",
       "      <th>weekday</th>\n",
       "      <th>hour</th>\n",
       "      <th>paid</th>\n",
       "      <th>comment</th>\n",
       "      <th>like</th>\n",
       "      <th>share</th>\n",
       "    </tr>\n",
       "  </thead>\n",
       "  <tbody>\n",
       "    <tr>\n",
       "      <th>0</th>\n",
       "      <td>124050</td>\n",
       "      <td>Photo</td>\n",
       "      <td>3</td>\n",
       "      <td>6</td>\n",
       "      <td>4</td>\n",
       "      <td>17</td>\n",
       "      <td>1</td>\n",
       "      <td>3</td>\n",
       "      <td>77</td>\n",
       "      <td>16</td>\n",
       "    </tr>\n",
       "    <tr>\n",
       "      <th>1</th>\n",
       "      <td>132556</td>\n",
       "      <td>Photo</td>\n",
       "      <td>2</td>\n",
       "      <td>8</td>\n",
       "      <td>3</td>\n",
       "      <td>24</td>\n",
       "      <td>0</td>\n",
       "      <td>11</td>\n",
       "      <td>313</td>\n",
       "      <td>50</td>\n",
       "    </tr>\n",
       "    <tr>\n",
       "      <th>2</th>\n",
       "      <td>92786</td>\n",
       "      <td>Photo</td>\n",
       "      <td>2</td>\n",
       "      <td>2</td>\n",
       "      <td>6</td>\n",
       "      <td>17</td>\n",
       "      <td>1</td>\n",
       "      <td>2</td>\n",
       "      <td>145</td>\n",
       "      <td>39</td>\n",
       "    </tr>\n",
       "    <tr>\n",
       "      <th>3</th>\n",
       "      <td>135632</td>\n",
       "      <td>Photo</td>\n",
       "      <td>1</td>\n",
       "      <td>9</td>\n",
       "      <td>2</td>\n",
       "      <td>1</td>\n",
       "      <td>0</td>\n",
       "      <td>2</td>\n",
       "      <td>299</td>\n",
       "      <td>49</td>\n",
       "    </tr>\n",
       "    <tr>\n",
       "      <th>4</th>\n",
       "      <td>139540</td>\n",
       "      <td>Link</td>\n",
       "      <td>1</td>\n",
       "      <td>12</td>\n",
       "      <td>3</td>\n",
       "      <td>17</td>\n",
       "      <td>1</td>\n",
       "      <td>7</td>\n",
       "      <td>229</td>\n",
       "      <td>21</td>\n",
       "    </tr>\n",
       "  </tbody>\n",
       "</table>\n",
       "</div>"
      ],
      "text/plain": [
       "   total_followers   type  category  month  weekday  hour  paid  comment  \\\n",
       "0           124050  Photo         3      6        4    17     1        3   \n",
       "1           132556  Photo         2      8        3    24     0       11   \n",
       "2            92786  Photo         2      2        6    17     1        2   \n",
       "3           135632  Photo         1      9        2     1     0        2   \n",
       "4           139540   Link         1     12        3    17     1        7   \n",
       "\n",
       "   like  share  \n",
       "0    77     16  \n",
       "1   313     50  \n",
       "2   145     39  \n",
       "3   299     49  \n",
       "4   229     21  "
      ]
     },
     "execution_count": 4,
     "metadata": {},
     "output_type": "execute_result"
    }
   ],
   "source": [
    "fb_data = pd.read_csv('facebook_train.csv')\n",
    "fb_data.head()"
   ]
  },
  {
   "cell_type": "markdown",
   "metadata": {},
   "source": [
    "The input variables:\n",
    "- total_followers: The number of followers of the group.\n",
    "- type: Specifies whether it is of type \"photo,\" \"status,\" or \"link.\"\n",
    "- category: There are three distinct categories; 1, 2, and 3.\n",
    "- month: The month that the post was created.\n",
    "- weekday: The day of the week that the post was created.\n",
    "- paid: A 0/1 flag indicating whether the post was a paid-for promotion.\n",
    "\n",
    "The output variables:\n",
    "- comment: The number of comments that the post generated.\n",
    "- like: The number of likes that the post generated.\n",
    "- share: The number of shares that the post generated.\n",
    "\n"
   ]
  },
  {
   "cell_type": "markdown",
   "metadata": {},
   "source": [
    "#### Encoding type (categorical variable) as numeric variable \n",
    "We one-hot encode instead of using other encoding schemes in order to avoid our machine learning algorithms ascribing higher importance to higher values"
   ]
  },
  {
   "cell_type": "code",
   "execution_count": 5,
   "metadata": {},
   "outputs": [
    {
     "data": {
      "text/html": [
       "<div>\n",
       "<style scoped>\n",
       "    .dataframe tbody tr th:only-of-type {\n",
       "        vertical-align: middle;\n",
       "    }\n",
       "\n",
       "    .dataframe tbody tr th {\n",
       "        vertical-align: top;\n",
       "    }\n",
       "\n",
       "    .dataframe thead th {\n",
       "        text-align: right;\n",
       "    }\n",
       "</style>\n",
       "<table border=\"1\" class=\"dataframe\">\n",
       "  <thead>\n",
       "    <tr style=\"text-align: right;\">\n",
       "      <th></th>\n",
       "      <th>total_followers</th>\n",
       "      <th>category</th>\n",
       "      <th>month</th>\n",
       "      <th>weekday</th>\n",
       "      <th>hour</th>\n",
       "      <th>paid</th>\n",
       "      <th>comment</th>\n",
       "      <th>like</th>\n",
       "      <th>share</th>\n",
       "      <th>type_link</th>\n",
       "      <th>type_photo</th>\n",
       "      <th>type_status</th>\n",
       "    </tr>\n",
       "  </thead>\n",
       "  <tbody>\n",
       "    <tr>\n",
       "      <th>0</th>\n",
       "      <td>124050</td>\n",
       "      <td>3</td>\n",
       "      <td>6</td>\n",
       "      <td>4</td>\n",
       "      <td>17</td>\n",
       "      <td>1</td>\n",
       "      <td>3</td>\n",
       "      <td>77</td>\n",
       "      <td>16</td>\n",
       "      <td>0</td>\n",
       "      <td>1</td>\n",
       "      <td>0</td>\n",
       "    </tr>\n",
       "    <tr>\n",
       "      <th>1</th>\n",
       "      <td>132556</td>\n",
       "      <td>2</td>\n",
       "      <td>8</td>\n",
       "      <td>3</td>\n",
       "      <td>24</td>\n",
       "      <td>0</td>\n",
       "      <td>11</td>\n",
       "      <td>313</td>\n",
       "      <td>50</td>\n",
       "      <td>0</td>\n",
       "      <td>1</td>\n",
       "      <td>0</td>\n",
       "    </tr>\n",
       "    <tr>\n",
       "      <th>2</th>\n",
       "      <td>92786</td>\n",
       "      <td>2</td>\n",
       "      <td>2</td>\n",
       "      <td>6</td>\n",
       "      <td>17</td>\n",
       "      <td>1</td>\n",
       "      <td>2</td>\n",
       "      <td>145</td>\n",
       "      <td>39</td>\n",
       "      <td>0</td>\n",
       "      <td>1</td>\n",
       "      <td>0</td>\n",
       "    </tr>\n",
       "    <tr>\n",
       "      <th>3</th>\n",
       "      <td>135632</td>\n",
       "      <td>1</td>\n",
       "      <td>9</td>\n",
       "      <td>2</td>\n",
       "      <td>1</td>\n",
       "      <td>0</td>\n",
       "      <td>2</td>\n",
       "      <td>299</td>\n",
       "      <td>49</td>\n",
       "      <td>0</td>\n",
       "      <td>1</td>\n",
       "      <td>0</td>\n",
       "    </tr>\n",
       "    <tr>\n",
       "      <th>4</th>\n",
       "      <td>139540</td>\n",
       "      <td>1</td>\n",
       "      <td>12</td>\n",
       "      <td>3</td>\n",
       "      <td>17</td>\n",
       "      <td>1</td>\n",
       "      <td>7</td>\n",
       "      <td>229</td>\n",
       "      <td>21</td>\n",
       "      <td>1</td>\n",
       "      <td>0</td>\n",
       "      <td>0</td>\n",
       "    </tr>\n",
       "  </tbody>\n",
       "</table>\n",
       "</div>"
      ],
      "text/plain": [
       "   total_followers  category  month  weekday  hour  paid  comment  like  \\\n",
       "0           124050         3      6        4    17     1        3    77   \n",
       "1           132556         2      8        3    24     0       11   313   \n",
       "2            92786         2      2        6    17     1        2   145   \n",
       "3           135632         1      9        2     1     0        2   299   \n",
       "4           139540         1     12        3    17     1        7   229   \n",
       "\n",
       "   share  type_link  type_photo  type_status  \n",
       "0     16          0           1            0  \n",
       "1     50          0           1            0  \n",
       "2     39          0           1            0  \n",
       "3     49          0           1            0  \n",
       "4     21          1           0            0  "
      ]
     },
     "execution_count": 5,
     "metadata": {},
     "output_type": "execute_result"
    }
   ],
   "source": [
    "type_encoded = pd.get_dummies(fb_data.type.str.lower(), prefix ='type')\n",
    "fb_data = pd.concat([fb_data, type_encoded], axis=1).drop(['type','type_video'], axis=1)\n",
    "fb_data.head()"
   ]
  },
  {
   "cell_type": "markdown",
   "metadata": {},
   "source": [
    "For this prediction task, my focus is on **likes**"
   ]
  },
  {
   "cell_type": "markdown",
   "metadata": {},
   "source": [
    "#### Building a regression model"
   ]
  },
  {
   "cell_type": "code",
   "execution_count": 14,
   "metadata": {},
   "outputs": [
    {
     "name": "stdout",
     "output_type": "stream",
     "text": [
      "Variable Coefficients\n",
      "- total_followers: 0.005\n",
      "- type_link: -36.380\n",
      "- type_photo: 31.541\n",
      "- type_status: 6.681\n",
      "- category: 33.648\n",
      "- month: -15.140\n",
      "- weekday: 15.301\n",
      "- paid: 117.541\n"
     ]
    }
   ],
   "source": [
    "#Getting the subset of relevant input variables\n",
    "input_vars = ['total_followers','type_link','type_photo','type_status',\n",
    "              'category','month','weekday','paid']\n",
    "\n",
    "#Getting the input and output variables\n",
    "X = fb_data[input_vars]\n",
    "y = fb_data.like\n",
    "\n",
    "#Split the data to training and test set\n",
    "X_train, X_test, y_train, y_test = train_test_split(X, y, test_size=0.25, random_state=0)\n",
    "\n",
    "#Fit the model to the training data\n",
    "regr = linear_model.LinearRegression()\n",
    "regr.fit(X_train, y_train)\n",
    "y_pred = regr.predict(X_test)\n",
    "\n",
    "print(\"Variable Coefficients\")\n",
    "for input_var,coef in zip(input_vars,regr.coef_):\n",
    "    print(f\"- {input_var}: {coef:.3f}\")"
   ]
  },
  {
   "cell_type": "markdown",
   "metadata": {},
   "source": [
    "**Loading New Data For Further Model Evaluation**"
   ]
  },
  {
   "cell_type": "code",
   "execution_count": 15,
   "metadata": {},
   "outputs": [],
   "source": [
    "new_data = pd.read_csv('facebook_test.csv')"
   ]
  },
  {
   "cell_type": "markdown",
   "metadata": {},
   "source": [
    "Data preprocessing"
   ]
  },
  {
   "cell_type": "code",
   "execution_count": 66,
   "metadata": {},
   "outputs": [
    {
     "data": {
      "text/html": [
       "<div>\n",
       "<style scoped>\n",
       "    .dataframe tbody tr th:only-of-type {\n",
       "        vertical-align: middle;\n",
       "    }\n",
       "\n",
       "    .dataframe tbody tr th {\n",
       "        vertical-align: top;\n",
       "    }\n",
       "\n",
       "    .dataframe thead th {\n",
       "        text-align: right;\n",
       "    }\n",
       "</style>\n",
       "<table border=\"1\" class=\"dataframe\">\n",
       "  <thead>\n",
       "    <tr style=\"text-align: right;\">\n",
       "      <th></th>\n",
       "      <th>total_followers</th>\n",
       "      <th>category</th>\n",
       "      <th>month</th>\n",
       "      <th>weekday</th>\n",
       "      <th>hour</th>\n",
       "      <th>paid</th>\n",
       "      <th>comment</th>\n",
       "      <th>like</th>\n",
       "      <th>share</th>\n",
       "      <th>type_link</th>\n",
       "      <th>type_photo</th>\n",
       "      <th>type_status</th>\n",
       "    </tr>\n",
       "  </thead>\n",
       "  <tbody>\n",
       "    <tr>\n",
       "      <th>0</th>\n",
       "      <td>136568</td>\n",
       "      <td>1</td>\n",
       "      <td>10</td>\n",
       "      <td>4</td>\n",
       "      <td>1</td>\n",
       "      <td>0</td>\n",
       "      <td>0</td>\n",
       "      <td>8</td>\n",
       "      <td>0</td>\n",
       "      <td>0</td>\n",
       "      <td>1</td>\n",
       "      <td>0</td>\n",
       "    </tr>\n",
       "    <tr>\n",
       "      <th>1</th>\n",
       "      <td>137178</td>\n",
       "      <td>1</td>\n",
       "      <td>11</td>\n",
       "      <td>1</td>\n",
       "      <td>16</td>\n",
       "      <td>1</td>\n",
       "      <td>16</td>\n",
       "      <td>210</td>\n",
       "      <td>55</td>\n",
       "      <td>0</td>\n",
       "      <td>1</td>\n",
       "      <td>0</td>\n",
       "    </tr>\n",
       "    <tr>\n",
       "      <th>2</th>\n",
       "      <td>134414</td>\n",
       "      <td>2</td>\n",
       "      <td>10</td>\n",
       "      <td>1</td>\n",
       "      <td>15</td>\n",
       "      <td>0</td>\n",
       "      <td>15</td>\n",
       "      <td>384</td>\n",
       "      <td>67</td>\n",
       "      <td>0</td>\n",
       "      <td>1</td>\n",
       "      <td>0</td>\n",
       "    </tr>\n",
       "    <tr>\n",
       "      <th>3</th>\n",
       "      <td>124910</td>\n",
       "      <td>1</td>\n",
       "      <td>6</td>\n",
       "      <td>1</td>\n",
       "      <td>2</td>\n",
       "      <td>0</td>\n",
       "      <td>0</td>\n",
       "      <td>177</td>\n",
       "      <td>8</td>\n",
       "      <td>0</td>\n",
       "      <td>1</td>\n",
       "      <td>0</td>\n",
       "    </tr>\n",
       "    <tr>\n",
       "      <th>4</th>\n",
       "      <td>132112</td>\n",
       "      <td>2</td>\n",
       "      <td>8</td>\n",
       "      <td>2</td>\n",
       "      <td>15</td>\n",
       "      <td>0</td>\n",
       "      <td>3</td>\n",
       "      <td>44</td>\n",
       "      <td>12</td>\n",
       "      <td>0</td>\n",
       "      <td>1</td>\n",
       "      <td>0</td>\n",
       "    </tr>\n",
       "  </tbody>\n",
       "</table>\n",
       "</div>"
      ],
      "text/plain": [
       "   total_followers  category  month  weekday  hour  paid  comment  like  \\\n",
       "0           136568         1     10        4     1     0        0     8   \n",
       "1           137178         1     11        1    16     1       16   210   \n",
       "2           134414         2     10        1    15     0       15   384   \n",
       "3           124910         1      6        1     2     0        0   177   \n",
       "4           132112         2      8        2    15     0        3    44   \n",
       "\n",
       "   share  type_link  type_photo  type_status  \n",
       "0      0          0           1            0  \n",
       "1     55          0           1            0  \n",
       "2     67          0           1            0  \n",
       "3      8          0           1            0  \n",
       "4     12          0           1            0  "
      ]
     },
     "execution_count": 66,
     "metadata": {},
     "output_type": "execute_result"
    }
   ],
   "source": [
    "new_type_encoded = pd.get_dummies(new_data.type.str.lower(), prefix ='type')\n",
    "new_data = pd.concat([new_data, new_type_encoded], axis=1).drop(['type'], axis=1)\n",
    "new_data.head()"
   ]
  },
  {
   "cell_type": "code",
   "execution_count": 67,
   "metadata": {},
   "outputs": [],
   "source": [
    "#Getting the subset of relevant input variables\n",
    "input_vars = ['total_followers','type_link','type_photo','type_status',\n",
    "              'category','month','weekday','paid']\n",
    "\n",
    "#Getting the input and output variables\n",
    "new_X = new_data[input_vars]\n",
    "new_y = new_data.like"
   ]
  },
  {
   "cell_type": "markdown",
   "metadata": {},
   "source": [
    "#### Measuring model performance"
   ]
  },
  {
   "cell_type": "markdown",
   "metadata": {},
   "source": [
    "- **Mean squared error (MSE)**\n",
    "    \n",
    "     Similar to the previous class, I again find that my training set MSE is greater than my test set MSE (see below). This is likely due to the training set having more data points and also by chance, having more outliers which MSE penalizes."
   ]
  },
  {
   "cell_type": "code",
   "execution_count": 78,
   "metadata": {},
   "outputs": [
    {
     "name": "stdout",
     "output_type": "stream",
     "text": [
      "Training set MSE: 168613.06 likes² \n",
      "\n",
      "Test set MSE: 153459.40 likes² \n",
      "\n",
      "New data MSE: 53280.27 likes² \n",
      "\n"
     ]
    }
   ],
   "source": [
    "print('Training set MSE: %.2f likes² \\n' % metrics.mean_squared_error(y_train, regr.predict(X_train)))\n",
    "\n",
    "print('Test set MSE: %.2f likes² \\n' % metrics.mean_squared_error(y_test, y_pred))\n",
    "\n",
    "print('New data MSE: %.2f likes² \\n' % metrics.mean_squared_error(new_y, regr.predict(new_X)))"
   ]
  },
  {
   "cell_type": "markdown",
   "metadata": {},
   "source": [
    "- **Mean absolute error (MAS)**\n",
    "    \n",
    "    The test set would appear to have more predictions with higher errors than the training set"
   ]
  },
  {
   "cell_type": "code",
   "execution_count": 79,
   "metadata": {},
   "outputs": [
    {
     "name": "stdout",
     "output_type": "stream",
     "text": [
      "Training set MAE: 180.97 likes \n",
      "\n",
      "Test set MAE: 196.05 likes \n",
      "\n",
      "New data MAE: 147.18 likes \n",
      "\n"
     ]
    }
   ],
   "source": [
    "print('Training set MAE: %.2f likes \\n' % metrics.mean_absolute_error(y_train, regr.predict(X_train)))\n",
    "\n",
    "print('Test set MAE: %.2f likes \\n' % metrics.mean_absolute_error(y_test, y_pred))\n",
    "\n",
    "print('New data MAE: %.2f likes \\n' % metrics.mean_absolute_error(new_y, regr.predict(new_X)))"
   ]
  },
  {
   "cell_type": "markdown",
   "metadata": {},
   "source": [
    "- **Median absolute error**"
   ]
  },
  {
   "cell_type": "code",
   "execution_count": 80,
   "metadata": {},
   "outputs": [
    {
     "name": "stdout",
     "output_type": "stream",
     "text": [
      "Training set Median Absolute Error: 120.43 likes \n",
      "\n",
      "Test set Median Absolute Error: 113.58 likes \n",
      "\n",
      "New data Median Absolute Error: 125.65 likes \n",
      "\n"
     ]
    }
   ],
   "source": [
    "print('Training set Median Absolute Error: %.2f likes \\n' % metrics.median_absolute_error(y_train, regr.predict(X_train)))\n",
    "\n",
    "print('Test set Median Absolute Error: %.2f likes \\n' % metrics.median_absolute_error(y_test, y_pred))\n",
    "\n",
    "print('New data Median Absolute Error: %.2f likes \\n' % metrics.median_absolute_error(new_y, regr.predict(new_X)))"
   ]
  },
  {
   "cell_type": "markdown",
   "metadata": {},
   "source": [
    "Outliers probably drove the differences we see in MAE and Median Absolute Error since the mean is more prone to being affected by outliers than the median."
   ]
  },
  {
   "cell_type": "markdown",
   "metadata": {},
   "source": [
    "- **The coefficient of determination (or R²)**"
   ]
  },
  {
   "cell_type": "code",
   "execution_count": 81,
   "metadata": {},
   "outputs": [
    {
     "name": "stdout",
     "output_type": "stream",
     "text": [
      "Training set R²: 0.04 \n",
      "\n",
      "Test set R²: 0.02 \n",
      "\n",
      "New data R²: -0.07 \n",
      "\n"
     ]
    }
   ],
   "source": [
    "print('Training set R²: %.2f \\n' % metrics.r2_score(y_train, regr.predict(X_train)))\n",
    "\n",
    "print('Test set R²: %.2f \\n' % metrics.r2_score(y_test, y_pred))\n",
    "\n",
    "print('New data R²: %.2f \\n' % metrics.r2_score(new_y, regr.predict(new_X)))"
   ]
  },
  {
   "cell_type": "code",
   "execution_count": 87,
   "metadata": {},
   "outputs": [
    {
     "data": {
      "image/png": "[encoded data removed]",
      "text/plain": [
       "<Figure size 432x288 with 1 Axes>"
      ]
     },
     "metadata": {
      "needs_background": "light"
     },
     "output_type": "display_data"
    }
   ],
   "source": [
    "plt.plot(np.array(y_train) - np.array(regr.predict(X_train)),marker='o',linestyle='')\n",
    "plt.ylabel('Error')\n",
    "plt.tick_params(\n",
    "    axis='x',          # changes apply to the x-axis\n",
    "    which='both',      # both major and minor ticks are affected\n",
    "    bottom=False,      # ticks along the bottom edge are off\n",
    "    top=False,         # ticks along the top edge are off\n",
    "    labelbottom=False) # labels along the bottom edge are off\n",
    "plt.title('Training Set Prediction Errors')\n",
    "plt.xlabel('Predictions')\n",
    "plt.show()"
   ]
  },
  {
   "cell_type": "code",
   "execution_count": 84,
   "metadata": {},
   "outputs": [
    {
     "data": {
      "image/png": "[encoded data removed]",
      "text/plain": [
       "<Figure size 432x288 with 1 Axes>"
      ]
     },
     "metadata": {
      "needs_background": "light"
     },
     "output_type": "display_data"
    }
   ],
   "source": [
    "plt.plot(np.array(y_test) - np.array(y_pred),marker='o',linestyle='')\n",
    "plt.ylabel('Error')\n",
    "plt.tick_params(\n",
    "    axis='x',          # changes apply to the x-axis\n",
    "    which='both',      # both major and minor ticks are affected\n",
    "    bottom=False,      # ticks along the bottom edge are off\n",
    "    top=False,         # ticks along the top edge are off\n",
    "    labelbottom=False) # labels along the bottom edge are off\n",
    "plt.title('Test Set Prediction Errors')\n",
    "plt.xlabel('Predictions')\n",
    "plt.show()"
   ]
  },
  {
   "cell_type": "code",
   "execution_count": 89,
   "metadata": {},
   "outputs": [
    {
     "data": {
      "image/png": "[encoded data removed]",
      "text/plain": [
       "<Figure size 432x288 with 1 Axes>"
      ]
     },
     "metadata": {
      "needs_background": "light"
     },
     "output_type": "display_data"
    }
   ],
   "source": [
    "plt.plot(np.array(new_y) - np.array(regr.predict(new_X)),marker='o',linestyle='')\n",
    "plt.ylabel('Error')\n",
    "plt.tick_params(\n",
    "    axis='x',          # changes apply to the x-axis\n",
    "    which='both',      # both major and minor ticks are affected\n",
    "    bottom=False,      # ticks along the bottom edge are off\n",
    "    top=False,         # ticks along the top edge are off\n",
    "    labelbottom=False) # labels along the bottom edge are off\n",
    "plt.title('New Data Prediction Errors')\n",
    "plt.xlabel('Predictions')\n",
    "plt.show()"
   ]
  },
  {
   "cell_type": "markdown",
   "metadata": {},
   "source": [
    "### 2. Casualty Classification"
   ]
  },
  {
   "cell_type": "code",
   "execution_count": 22,
   "metadata": {},
   "outputs": [
    {
     "name": "stderr",
     "output_type": "stream",
     "text": [
      "/Users/koredeakande/opt/anaconda3/lib/python3.7/site-packages/ipykernel/ipkernel.py:287: DeprecationWarning: `should_run_async` will not call `transform_cell` automatically in the future. Please pass the result to `transformed_cell` argument and any exception that happen during thetransform in `preprocessing_exc_tuple` in IPython 7.17 and above.\n",
      "  and should_run_async(code)\n"
     ]
    },
    {
     "data": {
      "text/html": [
       "<div>\n",
       "<style scoped>\n",
       "    .dataframe tbody tr th:only-of-type {\n",
       "        vertical-align: middle;\n",
       "    }\n",
       "\n",
       "    .dataframe tbody tr th {\n",
       "        vertical-align: top;\n",
       "    }\n",
       "\n",
       "    .dataframe thead th {\n",
       "        text-align: right;\n",
       "    }\n",
       "</style>\n",
       "<table border=\"1\" class=\"dataframe\">\n",
       "  <thead>\n",
       "    <tr style=\"text-align: right;\">\n",
       "      <th></th>\n",
       "      <th>casualty_class</th>\n",
       "      <th>gender</th>\n",
       "      <th>age</th>\n",
       "      <th>severe</th>\n",
       "      <th>pedestrian_location</th>\n",
       "      <th>pedestrian_movement</th>\n",
       "      <th>travel</th>\n",
       "      <th>year</th>\n",
       "    </tr>\n",
       "  </thead>\n",
       "  <tbody>\n",
       "    <tr>\n",
       "      <th>0</th>\n",
       "      <td>passenger</td>\n",
       "      <td>female</td>\n",
       "      <td>33</td>\n",
       "      <td>False</td>\n",
       "      <td>NaN</td>\n",
       "      <td>NaN</td>\n",
       "      <td>motorbike</td>\n",
       "      <td>2007</td>\n",
       "    </tr>\n",
       "    <tr>\n",
       "      <th>1</th>\n",
       "      <td>passenger</td>\n",
       "      <td>female</td>\n",
       "      <td>20</td>\n",
       "      <td>False</td>\n",
       "      <td>NaN</td>\n",
       "      <td>NaN</td>\n",
       "      <td>car</td>\n",
       "      <td>2005</td>\n",
       "    </tr>\n",
       "    <tr>\n",
       "      <th>2</th>\n",
       "      <td>passenger</td>\n",
       "      <td>male</td>\n",
       "      <td>52</td>\n",
       "      <td>False</td>\n",
       "      <td>NaN</td>\n",
       "      <td>NaN</td>\n",
       "      <td>car</td>\n",
       "      <td>2006</td>\n",
       "    </tr>\n",
       "    <tr>\n",
       "      <th>3</th>\n",
       "      <td>passenger</td>\n",
       "      <td>female</td>\n",
       "      <td>17</td>\n",
       "      <td>False</td>\n",
       "      <td>NaN</td>\n",
       "      <td>NaN</td>\n",
       "      <td>pedestrian</td>\n",
       "      <td>2012</td>\n",
       "    </tr>\n",
       "    <tr>\n",
       "      <th>4</th>\n",
       "      <td>passenger</td>\n",
       "      <td>female</td>\n",
       "      <td>20</td>\n",
       "      <td>False</td>\n",
       "      <td>NaN</td>\n",
       "      <td>NaN</td>\n",
       "      <td>motorbike</td>\n",
       "      <td>2010</td>\n",
       "    </tr>\n",
       "  </tbody>\n",
       "</table>\n",
       "</div>"
      ],
      "text/plain": [
       "  casualty_class  gender age  severe pedestrian_location pedestrian_movement  \\\n",
       "0      passenger  female  33   False                 NaN                 NaN   \n",
       "1      passenger  female  20   False                 NaN                 NaN   \n",
       "2      passenger    male  52   False                 NaN                 NaN   \n",
       "3      passenger  female  17   False                 NaN                 NaN   \n",
       "4      passenger  female  20   False                 NaN                 NaN   \n",
       "\n",
       "       travel  year  \n",
       "0   motorbike  2007  \n",
       "1         car  2005  \n",
       "2         car  2006  \n",
       "3  pedestrian  2012  \n",
       "4   motorbike  2010  "
      ]
     },
     "execution_count": 22,
     "metadata": {},
     "output_type": "execute_result"
    }
   ],
   "source": [
    "casualty_df = pd.read_csv('casualty_train.csv')\n",
    "casualty_df.head()"
   ]
  },
  {
   "cell_type": "code",
   "execution_count": 23,
   "metadata": {},
   "outputs": [
    {
     "name": "stdout",
     "output_type": "stream",
     "text": [
      "<class 'pandas.core.frame.DataFrame'>\n",
      "RangeIndex: 232835 entries, 0 to 232834\n",
      "Data columns (total 8 columns):\n",
      " #   Column               Non-Null Count   Dtype \n",
      "---  ------               --------------   ----- \n",
      " 0   casualty_class       232835 non-null  object\n",
      " 1   gender               232835 non-null  object\n",
      " 2   age                  232835 non-null  object\n",
      " 3   severe               232835 non-null  bool  \n",
      " 4   pedestrian_location  43259 non-null   object\n",
      " 5   pedestrian_movement  43259 non-null   object\n",
      " 6   travel               232835 non-null  object\n",
      " 7   year                 232835 non-null  int64 \n",
      "dtypes: bool(1), int64(1), object(6)\n",
      "memory usage: 12.7+ MB\n"
     ]
    },
    {
     "name": "stderr",
     "output_type": "stream",
     "text": [
      "/Users/koredeakande/opt/anaconda3/lib/python3.7/site-packages/ipykernel/ipkernel.py:287: DeprecationWarning: `should_run_async` will not call `transform_cell` automatically in the future. Please pass the result to `transformed_cell` argument and any exception that happen during thetransform in `preprocessing_exc_tuple` in IPython 7.17 and above.\n",
      "  and should_run_async(code)\n"
     ]
    }
   ],
   "source": [
    "casualty_df.info()"
   ]
  },
  {
   "cell_type": "markdown",
   "metadata": {},
   "source": [
    "The input variables are:\n",
    "- casualty_class: One of \"passenger,\" \"driver,\" and \"pedestrian.\"\n",
    "- gender: Male of female.\n",
    "- age: Age of the casualty in years.\n",
    "- pedestrian_location: This field is only valid for pedestrian casualties and specifies where the pedestrian was when the incident occurred.\n",
    "- pedestrian_movement: This field is only valid for pedestrian casualties.\n",
    "- travel: One of \"bicycle,\" \"pedestrian,\" \"motorbike,\" \"car,\" \"bus,\" \"taxi,\" and \"other.\"\n",
    "- year: The year in which the casualty occurred.\n",
    "\n",
    "And the output variable will be severe, which indicates whether or not the person was severely injured or not."
   ]
  },
  {
   "cell_type": "markdown",
   "metadata": {},
   "source": [
    "**Build a classification model to predict whether a casualty is severe or not. Your model should aim to maximize the accuracy of its predictions.**"
   ]
  },
  {
   "cell_type": "markdown",
   "metadata": {},
   "source": [
    "**a. Observing the class distribution of the severe variable**"
   ]
  },
  {
   "cell_type": "code",
   "execution_count": 24,
   "metadata": {},
   "outputs": [
    {
     "data": {
      "text/plain": [
       "False    0.89237\n",
       "True     0.10763\n",
       "Name: severe, dtype: float64"
      ]
     },
     "execution_count": 24,
     "metadata": {},
     "output_type": "execute_result"
    }
   ],
   "source": [
    "casualty_df.severe.value_counts(normalize=True)"
   ]
  },
  {
   "cell_type": "markdown",
   "metadata": {},
   "source": [
    "While the prompt asks to maximize accuracy, I also look into precision and recall. This is because given the high class imbalance as indicated above, accuracy is a poor metric for this problem. Specifically, an accuracy of ~89% can be obtained by simply predicting all the cases as not severe."
   ]
  },
  {
   "cell_type": "markdown",
   "metadata": {},
   "source": [
    "**b. Data preprocessing**"
   ]
  },
  {
   "cell_type": "code",
   "execution_count": 25,
   "metadata": {},
   "outputs": [],
   "source": [
    "def df_preparer(df):\n",
    "    \n",
    "    \"\"\"\n",
    "    Function to clean and transform an inputted pandas dataframe for use with the casualty problem\n",
    "    \"\"\"\n",
    "    \n",
    "    #Drop rows where age = 'Unknown'\n",
    "    casualty_df = df[df.age != 'Unknown']\n",
    "\n",
    "    #Convert variables to numeric \n",
    "    casualty_df[['severe','age']] = casualty_df[['severe','age']].astype('int')\n",
    "\n",
    "    #Cleaning pedestrian_location – Replace nan with 'Unknown' (they are essentially the same)\n",
    "    casualty_df.pedestrian_location = casualty_df.pedestrian_location.fillna('Unknown')\n",
    "\n",
    "    #Cleaning pedestrian_movement – Replace nan with 'Unknown Or Other' (it would fall into Unknown)\n",
    "    casualty_df.pedestrian_movement = casualty_df.pedestrian_movement.fillna('Unknown Or Other')\n",
    "\n",
    "    encoded_df = pd.get_dummies(casualty_df, \n",
    "                                dummy_na=True, \n",
    "                                columns = [\"casualty_class\", \"gender\", \"pedestrian_location\", \n",
    "                                           \"pedestrian_movement\", \"travel\"])\n",
    "    \n",
    "    \n",
    "    return encoded_df\n",
    "    \n",
    "    "
   ]
  },
  {
   "cell_type": "code",
   "execution_count": 26,
   "metadata": {},
   "outputs": [
    {
     "name": "stderr",
     "output_type": "stream",
     "text": [
      "/Users/koredeakande/opt/anaconda3/lib/python3.7/site-packages/pandas/core/frame.py:3641: SettingWithCopyWarning: \n",
      "A value is trying to be set on a copy of a slice from a DataFrame.\n",
      "Try using .loc[row_indexer,col_indexer] = value instead\n",
      "\n",
      "See the caveats in the documentation: https://pandas.pydata.org/pandas-docs/stable/user_guide/indexing.html#returning-a-view-versus-a-copy\n",
      "  self[k1] = value[k2]\n",
      "/Users/koredeakande/opt/anaconda3/lib/python3.7/site-packages/pandas/core/generic.py:5516: SettingWithCopyWarning: \n",
      "A value is trying to be set on a copy of a slice from a DataFrame.\n",
      "Try using .loc[row_indexer,col_indexer] = value instead\n",
      "\n",
      "See the caveats in the documentation: https://pandas.pydata.org/pandas-docs/stable/user_guide/indexing.html#returning-a-view-versus-a-copy\n",
      "  self[name] = value\n"
     ]
    },
    {
     "data": {
      "text/html": [
       "<div>\n",
       "<style scoped>\n",
       "    .dataframe tbody tr th:only-of-type {\n",
       "        vertical-align: middle;\n",
       "    }\n",
       "\n",
       "    .dataframe tbody tr th {\n",
       "        vertical-align: top;\n",
       "    }\n",
       "\n",
       "    .dataframe thead th {\n",
       "        text-align: right;\n",
       "    }\n",
       "</style>\n",
       "<table border=\"1\" class=\"dataframe\">\n",
       "  <thead>\n",
       "    <tr style=\"text-align: right;\">\n",
       "      <th></th>\n",
       "      <th>age</th>\n",
       "      <th>severe</th>\n",
       "      <th>year</th>\n",
       "      <th>casualty_class_driver</th>\n",
       "      <th>casualty_class_passenger</th>\n",
       "      <th>casualty_class_pedestrian</th>\n",
       "      <th>casualty_class_nan</th>\n",
       "      <th>gender_female</th>\n",
       "      <th>gender_male</th>\n",
       "      <th>gender_nan</th>\n",
       "      <th>...</th>\n",
       "      <th>pedestrian_movement_Unknown Or Other</th>\n",
       "      <th>pedestrian_movement_nan</th>\n",
       "      <th>travel_bicycle</th>\n",
       "      <th>travel_bus</th>\n",
       "      <th>travel_car</th>\n",
       "      <th>travel_motorbike</th>\n",
       "      <th>travel_other</th>\n",
       "      <th>travel_pedestrian</th>\n",
       "      <th>travel_taxi</th>\n",
       "      <th>travel_nan</th>\n",
       "    </tr>\n",
       "  </thead>\n",
       "  <tbody>\n",
       "    <tr>\n",
       "      <th>0</th>\n",
       "      <td>33</td>\n",
       "      <td>0</td>\n",
       "      <td>2007</td>\n",
       "      <td>0</td>\n",
       "      <td>1</td>\n",
       "      <td>0</td>\n",
       "      <td>0</td>\n",
       "      <td>1</td>\n",
       "      <td>0</td>\n",
       "      <td>0</td>\n",
       "      <td>...</td>\n",
       "      <td>1</td>\n",
       "      <td>0</td>\n",
       "      <td>0</td>\n",
       "      <td>0</td>\n",
       "      <td>0</td>\n",
       "      <td>1</td>\n",
       "      <td>0</td>\n",
       "      <td>0</td>\n",
       "      <td>0</td>\n",
       "      <td>0</td>\n",
       "    </tr>\n",
       "    <tr>\n",
       "      <th>1</th>\n",
       "      <td>20</td>\n",
       "      <td>0</td>\n",
       "      <td>2005</td>\n",
       "      <td>0</td>\n",
       "      <td>1</td>\n",
       "      <td>0</td>\n",
       "      <td>0</td>\n",
       "      <td>1</td>\n",
       "      <td>0</td>\n",
       "      <td>0</td>\n",
       "      <td>...</td>\n",
       "      <td>1</td>\n",
       "      <td>0</td>\n",
       "      <td>0</td>\n",
       "      <td>0</td>\n",
       "      <td>1</td>\n",
       "      <td>0</td>\n",
       "      <td>0</td>\n",
       "      <td>0</td>\n",
       "      <td>0</td>\n",
       "      <td>0</td>\n",
       "    </tr>\n",
       "    <tr>\n",
       "      <th>2</th>\n",
       "      <td>52</td>\n",
       "      <td>0</td>\n",
       "      <td>2006</td>\n",
       "      <td>0</td>\n",
       "      <td>1</td>\n",
       "      <td>0</td>\n",
       "      <td>0</td>\n",
       "      <td>0</td>\n",
       "      <td>1</td>\n",
       "      <td>0</td>\n",
       "      <td>...</td>\n",
       "      <td>1</td>\n",
       "      <td>0</td>\n",
       "      <td>0</td>\n",
       "      <td>0</td>\n",
       "      <td>1</td>\n",
       "      <td>0</td>\n",
       "      <td>0</td>\n",
       "      <td>0</td>\n",
       "      <td>0</td>\n",
       "      <td>0</td>\n",
       "    </tr>\n",
       "    <tr>\n",
       "      <th>3</th>\n",
       "      <td>17</td>\n",
       "      <td>0</td>\n",
       "      <td>2012</td>\n",
       "      <td>0</td>\n",
       "      <td>1</td>\n",
       "      <td>0</td>\n",
       "      <td>0</td>\n",
       "      <td>1</td>\n",
       "      <td>0</td>\n",
       "      <td>0</td>\n",
       "      <td>...</td>\n",
       "      <td>1</td>\n",
       "      <td>0</td>\n",
       "      <td>0</td>\n",
       "      <td>0</td>\n",
       "      <td>0</td>\n",
       "      <td>0</td>\n",
       "      <td>0</td>\n",
       "      <td>1</td>\n",
       "      <td>0</td>\n",
       "      <td>0</td>\n",
       "    </tr>\n",
       "    <tr>\n",
       "      <th>4</th>\n",
       "      <td>20</td>\n",
       "      <td>0</td>\n",
       "      <td>2010</td>\n",
       "      <td>0</td>\n",
       "      <td>1</td>\n",
       "      <td>0</td>\n",
       "      <td>0</td>\n",
       "      <td>1</td>\n",
       "      <td>0</td>\n",
       "      <td>0</td>\n",
       "      <td>...</td>\n",
       "      <td>1</td>\n",
       "      <td>0</td>\n",
       "      <td>0</td>\n",
       "      <td>0</td>\n",
       "      <td>0</td>\n",
       "      <td>1</td>\n",
       "      <td>0</td>\n",
       "      <td>0</td>\n",
       "      <td>0</td>\n",
       "      <td>0</td>\n",
       "    </tr>\n",
       "  </tbody>\n",
       "</table>\n",
       "<p>5 rows × 36 columns</p>\n",
       "</div>"
      ],
      "text/plain": [
       "   age  severe  year  casualty_class_driver  casualty_class_passenger  \\\n",
       "0   33       0  2007                      0                         1   \n",
       "1   20       0  2005                      0                         1   \n",
       "2   52       0  2006                      0                         1   \n",
       "3   17       0  2012                      0                         1   \n",
       "4   20       0  2010                      0                         1   \n",
       "\n",
       "   casualty_class_pedestrian  casualty_class_nan  gender_female  gender_male  \\\n",
       "0                          0                   0              1            0   \n",
       "1                          0                   0              1            0   \n",
       "2                          0                   0              0            1   \n",
       "3                          0                   0              1            0   \n",
       "4                          0                   0              1            0   \n",
       "\n",
       "   gender_nan  ...  pedestrian_movement_Unknown Or Other  \\\n",
       "0           0  ...                                     1   \n",
       "1           0  ...                                     1   \n",
       "2           0  ...                                     1   \n",
       "3           0  ...                                     1   \n",
       "4           0  ...                                     1   \n",
       "\n",
       "   pedestrian_movement_nan  travel_bicycle  travel_bus  travel_car  \\\n",
       "0                        0               0           0           0   \n",
       "1                        0               0           0           1   \n",
       "2                        0               0           0           1   \n",
       "3                        0               0           0           0   \n",
       "4                        0               0           0           0   \n",
       "\n",
       "   travel_motorbike  travel_other  travel_pedestrian  travel_taxi  travel_nan  \n",
       "0                 1             0                  0            0           0  \n",
       "1                 0             0                  0            0           0  \n",
       "2                 0             0                  0            0           0  \n",
       "3                 0             0                  1            0           0  \n",
       "4                 1             0                  0            0           0  \n",
       "\n",
       "[5 rows x 36 columns]"
      ]
     },
     "execution_count": 26,
     "metadata": {},
     "output_type": "execute_result"
    }
   ],
   "source": [
    "processed_df = df_preparer(casualty_df)\n",
    "processed_df.head()"
   ]
  },
  {
   "cell_type": "markdown",
   "metadata": {},
   "source": [
    "**c. Split dataset into training and test set**"
   ]
  },
  {
   "cell_type": "code",
   "execution_count": 27,
   "metadata": {},
   "outputs": [
    {
     "name": "stderr",
     "output_type": "stream",
     "text": [
      "/Users/koredeakande/opt/anaconda3/lib/python3.7/site-packages/ipykernel/ipkernel.py:287: DeprecationWarning: `should_run_async` will not call `transform_cell` automatically in the future. Please pass the result to `transformed_cell` argument and any exception that happen during thetransform in `preprocessing_exc_tuple` in IPython 7.17 and above.\n",
      "  and should_run_async(code)\n"
     ]
    }
   ],
   "source": [
    "#Getting the input and output variables\n",
    "X = processed_df.drop(['severe'],axis=1)\n",
    "y = processed_df.severe\n",
    "\n",
    "#Split the data to training and test set\n",
    "X_train, X_test, y_train, y_test = train_test_split(X, y, test_size=0.25, random_state=1)"
   ]
  },
  {
   "cell_type": "markdown",
   "metadata": {},
   "source": [
    "**d. Modeling 1: SVM**"
   ]
  },
  {
   "cell_type": "markdown",
   "metadata": {},
   "source": [
    "**Cross-fold validation to determine best C for SVC Model**"
   ]
  },
  {
   "cell_type": "code",
   "execution_count": 43,
   "metadata": {
    "scrolled": true
   },
   "outputs": [
    {
     "name": "stderr",
     "output_type": "stream",
     "text": [
      "/Users/koredeakande/opt/anaconda3/lib/python3.7/site-packages/sklearn/svm/_base.py:977: ConvergenceWarning: Liblinear failed to converge, increase the number of iterations.\n",
      "  \"the number of iterations.\", ConvergenceWarning)\n",
      "/Users/koredeakande/opt/anaconda3/lib/python3.7/site-packages/sklearn/metrics/_classification.py:1221: UndefinedMetricWarning: Precision is ill-defined and being set to 0.0 due to no predicted samples. Use `zero_division` parameter to control this behavior.\n",
      "  _warn_prf(average, modifier, msg_start, len(result))\n",
      "/Users/koredeakande/opt/anaconda3/lib/python3.7/site-packages/sklearn/svm/_base.py:977: ConvergenceWarning: Liblinear failed to converge, increase the number of iterations.\n",
      "  \"the number of iterations.\", ConvergenceWarning)\n",
      "/Users/koredeakande/opt/anaconda3/lib/python3.7/site-packages/sklearn/metrics/_classification.py:1221: UndefinedMetricWarning: Precision is ill-defined and being set to 0.0 due to no predicted samples. Use `zero_division` parameter to control this behavior.\n",
      "  _warn_prf(average, modifier, msg_start, len(result))\n",
      "/Users/koredeakande/opt/anaconda3/lib/python3.7/site-packages/sklearn/svm/_base.py:977: ConvergenceWarning: Liblinear failed to converge, increase the number of iterations.\n",
      "  \"the number of iterations.\", ConvergenceWarning)\n",
      "/Users/koredeakande/opt/anaconda3/lib/python3.7/site-packages/sklearn/metrics/_classification.py:1221: UndefinedMetricWarning: Precision is ill-defined and being set to 0.0 due to no predicted samples. Use `zero_division` parameter to control this behavior.\n",
      "  _warn_prf(average, modifier, msg_start, len(result))\n",
      "/Users/koredeakande/opt/anaconda3/lib/python3.7/site-packages/sklearn/svm/_base.py:977: ConvergenceWarning: Liblinear failed to converge, increase the number of iterations.\n",
      "  \"the number of iterations.\", ConvergenceWarning)\n",
      "/Users/koredeakande/opt/anaconda3/lib/python3.7/site-packages/sklearn/metrics/_classification.py:1221: UndefinedMetricWarning: Precision is ill-defined and being set to 0.0 due to no predicted samples. Use `zero_division` parameter to control this behavior.\n",
      "  _warn_prf(average, modifier, msg_start, len(result))\n",
      "/Users/koredeakande/opt/anaconda3/lib/python3.7/site-packages/sklearn/svm/_base.py:977: ConvergenceWarning: Liblinear failed to converge, increase the number of iterations.\n",
      "  \"the number of iterations.\", ConvergenceWarning)\n",
      "/Users/koredeakande/opt/anaconda3/lib/python3.7/site-packages/sklearn/metrics/_classification.py:1221: UndefinedMetricWarning: Precision is ill-defined and being set to 0.0 due to no predicted samples. Use `zero_division` parameter to control this behavior.\n",
      "  _warn_prf(average, modifier, msg_start, len(result))\n",
      "/Users/koredeakande/opt/anaconda3/lib/python3.7/site-packages/sklearn/svm/_base.py:977: ConvergenceWarning: Liblinear failed to converge, increase the number of iterations.\n",
      "  \"the number of iterations.\", ConvergenceWarning)\n",
      "/Users/koredeakande/opt/anaconda3/lib/python3.7/site-packages/sklearn/metrics/_classification.py:1221: UndefinedMetricWarning: Precision is ill-defined and being set to 0.0 due to no predicted samples. Use `zero_division` parameter to control this behavior.\n",
      "  _warn_prf(average, modifier, msg_start, len(result))\n",
      "/Users/koredeakande/opt/anaconda3/lib/python3.7/site-packages/sklearn/svm/_base.py:977: ConvergenceWarning: Liblinear failed to converge, increase the number of iterations.\n",
      "  \"the number of iterations.\", ConvergenceWarning)\n",
      "/Users/koredeakande/opt/anaconda3/lib/python3.7/site-packages/sklearn/metrics/_classification.py:1221: UndefinedMetricWarning: Precision is ill-defined and being set to 0.0 due to no predicted samples. Use `zero_division` parameter to control this behavior.\n",
      "  _warn_prf(average, modifier, msg_start, len(result))\n",
      "/Users/koredeakande/opt/anaconda3/lib/python3.7/site-packages/sklearn/svm/_base.py:977: ConvergenceWarning: Liblinear failed to converge, increase the number of iterations.\n",
      "  \"the number of iterations.\", ConvergenceWarning)\n",
      "/Users/koredeakande/opt/anaconda3/lib/python3.7/site-packages/sklearn/metrics/_classification.py:1221: UndefinedMetricWarning: Precision is ill-defined and being set to 0.0 due to no predicted samples. Use `zero_division` parameter to control this behavior.\n",
      "  _warn_prf(average, modifier, msg_start, len(result))\n",
      "/Users/koredeakande/opt/anaconda3/lib/python3.7/site-packages/sklearn/svm/_base.py:977: ConvergenceWarning: Liblinear failed to converge, increase the number of iterations.\n",
      "  \"the number of iterations.\", ConvergenceWarning)\n"
     ]
    }
   ],
   "source": [
    "from sklearn.model_selection import cross_validate\n",
    "from sklearn import svm\n",
    "import warnings\n",
    "warnings.filterwarnings('once')\n",
    "\n",
    "X = np.array(X_train)\n",
    "y = np.array(y_train)\n",
    "cv_results = []\n",
    "\n",
    "for C in [0.1,1,10]:\n",
    "    #Set class weight to balanced to account for class imbalance\n",
    "    clf = svm.LinearSVC(C=C, class_weight='balanced')\n",
    "    scores = cross_validate(clf, X, y, cv=3, scoring= ['accuracy','precision','recall','roc_auc'])\n",
    "    cv_results.append((C,scores))"
   ]
  },
  {
   "cell_type": "code",
   "execution_count": 44,
   "metadata": {},
   "outputs": [
    {
     "name": "stderr",
     "output_type": "stream",
     "text": [
      "/Users/koredeakande/opt/anaconda3/lib/python3.7/site-packages/ipykernel/ipkernel.py:287: DeprecationWarning: `should_run_async` will not call `transform_cell` automatically in the future. Please pass the result to `transformed_cell` argument and any exception that happen during thetransform in `preprocessing_exc_tuple` in IPython 7.17 and above.\n",
      "  and should_run_async(code)\n"
     ]
    },
    {
     "data": {
      "text/plain": [
       "[(0.1,\n",
       "  {'fit_time': array([16.18897796, 19.39748406, 17.13270116]),\n",
       "   'score_time': array([0.0648818 , 0.07262707, 0.0667479 ]),\n",
       "   'test_accuracy': array([0.89210201, 0.89211848, 0.89211848]),\n",
       "   'test_precision': array([0., 0., 0.]),\n",
       "   'test_recall': array([0., 0., 0.]),\n",
       "   'test_roc_auc': array([0.65948683, 0.66387554, 0.66463829])}),\n",
       " (1,\n",
       "  {'fit_time': array([18.63884306, 18.38720894, 17.02703691]),\n",
       "   'score_time': array([0.07571793, 0.13727999, 0.079211  ]),\n",
       "   'test_accuracy': array([0.89210201, 0.89211848, 0.89211848]),\n",
       "   'test_precision': array([0., 0., 0.]),\n",
       "   'test_recall': array([0., 0., 0.]),\n",
       "   'test_roc_auc': array([0.65911926, 0.66416311, 0.66433267])}),\n",
       " (10,\n",
       "  {'fit_time': array([16.97871614, 16.997298  , 16.81591582]),\n",
       "   'score_time': array([0.06845069, 0.06409907, 0.06313515]),\n",
       "   'test_accuracy': array([0.89210201, 0.89211848, 0.10788152]),\n",
       "   'test_precision': array([0.        , 0.        , 0.10788152]),\n",
       "   'test_recall': array([0., 0., 1.]),\n",
       "   'test_roc_auc': array([0.65840691, 0.66415951, 0.66287553])})]"
      ]
     },
     "execution_count": 44,
     "metadata": {},
     "output_type": "execute_result"
    }
   ],
   "source": [
    "cv_results"
   ]
  },
  {
   "cell_type": "code",
   "execution_count": 45,
   "metadata": {},
   "outputs": [
    {
     "name": "stdout",
     "output_type": "stream",
     "text": [
      "C = 0.1\n",
      "- Test accuracy: 0.8921129899664693\n",
      "- Precision: 0.0\n",
      "- Recall: 0.0\n",
      "- ROC: 0.6626668850857962\n",
      "\n",
      "\n",
      "C = 1\n",
      "- Test accuracy: 0.8921129899664693\n",
      "- Precision: 0.0\n",
      "- Recall: 0.0\n",
      "- ROC: 0.662538347613816\n",
      "\n",
      "\n",
      "C = 10\n",
      "- Test accuracy: 0.6307006690918939\n",
      "- Precision: 0.03596050622937903\n",
      "- Recall: 0.3333333333333333\n",
      "- ROC: 0.6618139820705496\n",
      "\n",
      "\n"
     ]
    }
   ],
   "source": [
    "for C,result in cv_results:\n",
    "    \n",
    "    print('C =', C)\n",
    "    print('- Test accuracy:', result['test_accuracy'].mean())\n",
    "    print('- Precision:', result['test_precision'].mean())\n",
    "    print('- Recall:', result['test_recall'].mean())\n",
    "    print('- ROC:', result['test_roc_auc'].mean())\n",
    "    print('\\n')"
   ]
  },
  {
   "cell_type": "markdown",
   "metadata": {},
   "source": [
    "C=0.1 and C=10 predict with 89% accuracy, however, this is achieved by predicting all cases as being not severe, as evidenced by the precision and recall. C=1, on the otherhand, does predict both classes, albeit poorly.\n",
    "\n",
    "Given the prompt to maximize accuracy, I select C=0.1. Note, that ROC is the determining factor for this selection."
   ]
  },
  {
   "cell_type": "markdown",
   "metadata": {},
   "source": [
    "**Loading new test data**"
   ]
  },
  {
   "cell_type": "code",
   "execution_count": 65,
   "metadata": {},
   "outputs": [],
   "source": [
    "new_data2 = pd.read_csv('casualty_test.csv')"
   ]
  },
  {
   "cell_type": "code",
   "execution_count": 66,
   "metadata": {},
   "outputs": [
    {
     "name": "stderr",
     "output_type": "stream",
     "text": [
      "/Users/koredeakande/opt/anaconda3/lib/python3.7/site-packages/pandas/core/frame.py:3641: SettingWithCopyWarning: \n",
      "A value is trying to be set on a copy of a slice from a DataFrame.\n",
      "Try using .loc[row_indexer,col_indexer] = value instead\n",
      "\n",
      "See the caveats in the documentation: https://pandas.pydata.org/pandas-docs/stable/user_guide/indexing.html#returning-a-view-versus-a-copy\n",
      "  self[k1] = value[k2]\n",
      "/Users/koredeakande/opt/anaconda3/lib/python3.7/site-packages/pandas/core/generic.py:5516: SettingWithCopyWarning: \n",
      "A value is trying to be set on a copy of a slice from a DataFrame.\n",
      "Try using .loc[row_indexer,col_indexer] = value instead\n",
      "\n",
      "See the caveats in the documentation: https://pandas.pydata.org/pandas-docs/stable/user_guide/indexing.html#returning-a-view-versus-a-copy\n",
      "  self[name] = value\n"
     ]
    },
    {
     "data": {
      "text/html": [
       "<div>\n",
       "<style scoped>\n",
       "    .dataframe tbody tr th:only-of-type {\n",
       "        vertical-align: middle;\n",
       "    }\n",
       "\n",
       "    .dataframe tbody tr th {\n",
       "        vertical-align: top;\n",
       "    }\n",
       "\n",
       "    .dataframe thead th {\n",
       "        text-align: right;\n",
       "    }\n",
       "</style>\n",
       "<table border=\"1\" class=\"dataframe\">\n",
       "  <thead>\n",
       "    <tr style=\"text-align: right;\">\n",
       "      <th></th>\n",
       "      <th>age</th>\n",
       "      <th>severe</th>\n",
       "      <th>year</th>\n",
       "      <th>casualty_class_driver</th>\n",
       "      <th>casualty_class_passenger</th>\n",
       "      <th>casualty_class_pedestrian</th>\n",
       "      <th>casualty_class_nan</th>\n",
       "      <th>gender_female</th>\n",
       "      <th>gender_male</th>\n",
       "      <th>gender_nan</th>\n",
       "      <th>...</th>\n",
       "      <th>pedestrian_movement_Unknown Or Other</th>\n",
       "      <th>pedestrian_movement_nan</th>\n",
       "      <th>travel_bicycle</th>\n",
       "      <th>travel_bus</th>\n",
       "      <th>travel_car</th>\n",
       "      <th>travel_motorbike</th>\n",
       "      <th>travel_other</th>\n",
       "      <th>travel_pedestrian</th>\n",
       "      <th>travel_taxi</th>\n",
       "      <th>travel_nan</th>\n",
       "    </tr>\n",
       "  </thead>\n",
       "  <tbody>\n",
       "    <tr>\n",
       "      <th>0</th>\n",
       "      <td>33</td>\n",
       "      <td>0</td>\n",
       "      <td>2007</td>\n",
       "      <td>0</td>\n",
       "      <td>1</td>\n",
       "      <td>0</td>\n",
       "      <td>0</td>\n",
       "      <td>1</td>\n",
       "      <td>0</td>\n",
       "      <td>0</td>\n",
       "      <td>...</td>\n",
       "      <td>1</td>\n",
       "      <td>0</td>\n",
       "      <td>0</td>\n",
       "      <td>0</td>\n",
       "      <td>0</td>\n",
       "      <td>1</td>\n",
       "      <td>0</td>\n",
       "      <td>0</td>\n",
       "      <td>0</td>\n",
       "      <td>0</td>\n",
       "    </tr>\n",
       "    <tr>\n",
       "      <th>1</th>\n",
       "      <td>20</td>\n",
       "      <td>0</td>\n",
       "      <td>2005</td>\n",
       "      <td>0</td>\n",
       "      <td>1</td>\n",
       "      <td>0</td>\n",
       "      <td>0</td>\n",
       "      <td>1</td>\n",
       "      <td>0</td>\n",
       "      <td>0</td>\n",
       "      <td>...</td>\n",
       "      <td>1</td>\n",
       "      <td>0</td>\n",
       "      <td>0</td>\n",
       "      <td>0</td>\n",
       "      <td>1</td>\n",
       "      <td>0</td>\n",
       "      <td>0</td>\n",
       "      <td>0</td>\n",
       "      <td>0</td>\n",
       "      <td>0</td>\n",
       "    </tr>\n",
       "    <tr>\n",
       "      <th>2</th>\n",
       "      <td>52</td>\n",
       "      <td>0</td>\n",
       "      <td>2006</td>\n",
       "      <td>0</td>\n",
       "      <td>1</td>\n",
       "      <td>0</td>\n",
       "      <td>0</td>\n",
       "      <td>0</td>\n",
       "      <td>1</td>\n",
       "      <td>0</td>\n",
       "      <td>...</td>\n",
       "      <td>1</td>\n",
       "      <td>0</td>\n",
       "      <td>0</td>\n",
       "      <td>0</td>\n",
       "      <td>1</td>\n",
       "      <td>0</td>\n",
       "      <td>0</td>\n",
       "      <td>0</td>\n",
       "      <td>0</td>\n",
       "      <td>0</td>\n",
       "    </tr>\n",
       "    <tr>\n",
       "      <th>3</th>\n",
       "      <td>17</td>\n",
       "      <td>0</td>\n",
       "      <td>2012</td>\n",
       "      <td>0</td>\n",
       "      <td>1</td>\n",
       "      <td>0</td>\n",
       "      <td>0</td>\n",
       "      <td>1</td>\n",
       "      <td>0</td>\n",
       "      <td>0</td>\n",
       "      <td>...</td>\n",
       "      <td>1</td>\n",
       "      <td>0</td>\n",
       "      <td>0</td>\n",
       "      <td>0</td>\n",
       "      <td>0</td>\n",
       "      <td>0</td>\n",
       "      <td>0</td>\n",
       "      <td>1</td>\n",
       "      <td>0</td>\n",
       "      <td>0</td>\n",
       "    </tr>\n",
       "    <tr>\n",
       "      <th>4</th>\n",
       "      <td>20</td>\n",
       "      <td>0</td>\n",
       "      <td>2010</td>\n",
       "      <td>0</td>\n",
       "      <td>1</td>\n",
       "      <td>0</td>\n",
       "      <td>0</td>\n",
       "      <td>1</td>\n",
       "      <td>0</td>\n",
       "      <td>0</td>\n",
       "      <td>...</td>\n",
       "      <td>1</td>\n",
       "      <td>0</td>\n",
       "      <td>0</td>\n",
       "      <td>0</td>\n",
       "      <td>0</td>\n",
       "      <td>1</td>\n",
       "      <td>0</td>\n",
       "      <td>0</td>\n",
       "      <td>0</td>\n",
       "      <td>0</td>\n",
       "    </tr>\n",
       "  </tbody>\n",
       "</table>\n",
       "<p>5 rows × 36 columns</p>\n",
       "</div>"
      ],
      "text/plain": [
       "   age  severe  year  casualty_class_driver  casualty_class_passenger  \\\n",
       "0   33       0  2007                      0                         1   \n",
       "1   20       0  2005                      0                         1   \n",
       "2   52       0  2006                      0                         1   \n",
       "3   17       0  2012                      0                         1   \n",
       "4   20       0  2010                      0                         1   \n",
       "\n",
       "   casualty_class_pedestrian  casualty_class_nan  gender_female  gender_male  \\\n",
       "0                          0                   0              1            0   \n",
       "1                          0                   0              1            0   \n",
       "2                          0                   0              0            1   \n",
       "3                          0                   0              1            0   \n",
       "4                          0                   0              1            0   \n",
       "\n",
       "   gender_nan  ...  pedestrian_movement_Unknown Or Other  \\\n",
       "0           0  ...                                     1   \n",
       "1           0  ...                                     1   \n",
       "2           0  ...                                     1   \n",
       "3           0  ...                                     1   \n",
       "4           0  ...                                     1   \n",
       "\n",
       "   pedestrian_movement_nan  travel_bicycle  travel_bus  travel_car  \\\n",
       "0                        0               0           0           0   \n",
       "1                        0               0           0           1   \n",
       "2                        0               0           0           1   \n",
       "3                        0               0           0           0   \n",
       "4                        0               0           0           0   \n",
       "\n",
       "   travel_motorbike  travel_other  travel_pedestrian  travel_taxi  travel_nan  \n",
       "0                 1             0                  0            0           0  \n",
       "1                 0             0                  0            0           0  \n",
       "2                 0             0                  0            0           0  \n",
       "3                 0             0                  1            0           0  \n",
       "4                 1             0                  0            0           0  \n",
       "\n",
       "[5 rows x 36 columns]"
      ]
     },
     "execution_count": 66,
     "metadata": {},
     "output_type": "execute_result"
    }
   ],
   "source": [
    "new_processed_df = df_preparer(casualty_df)\n",
    "new_processed_df.head()"
   ]
  },
  {
   "cell_type": "code",
   "execution_count": 67,
   "metadata": {},
   "outputs": [
    {
     "name": "stderr",
     "output_type": "stream",
     "text": [
      "/Users/koredeakande/opt/anaconda3/lib/python3.7/site-packages/ipykernel/ipkernel.py:287: DeprecationWarning: `should_run_async` will not call `transform_cell` automatically in the future. Please pass the result to `transformed_cell` argument and any exception that happen during thetransform in `preprocessing_exc_tuple` in IPython 7.17 and above.\n",
      "  and should_run_async(code)\n"
     ]
    }
   ],
   "source": [
    "#Getting the input and output variables\n",
    "new_X = new_processed_df.drop(['severe'],axis=1)\n",
    "new_y = new_processed_df.severe"
   ]
  },
  {
   "cell_type": "markdown",
   "metadata": {},
   "source": [
    "**Training on the training set, and predicting the test set**"
   ]
  },
  {
   "cell_type": "code",
   "execution_count": 68,
   "metadata": {},
   "outputs": [
    {
     "name": "stderr",
     "output_type": "stream",
     "text": [
      "/Users/koredeakande/opt/anaconda3/lib/python3.7/site-packages/sklearn/svm/_base.py:977: ConvergenceWarning: Liblinear failed to converge, increase the number of iterations.\n",
      "  \"the number of iterations.\", ConvergenceWarning)\n"
     ]
    }
   ],
   "source": [
    "#Choose best model based on precision and recall\n",
    "clf = svm.LinearSVC(C=0.1)\n",
    "\n",
    "#Fit model on training data\n",
    "clf.fit(X, y)\n",
    "\n",
    "#Predict test set using fitted model\n",
    "y_pred = clf.predict(np.array(X_test))"
   ]
  },
  {
   "cell_type": "markdown",
   "metadata": {},
   "source": [
    "**Predicting new data**"
   ]
  },
  {
   "cell_type": "code",
   "execution_count": 69,
   "metadata": {},
   "outputs": [
    {
     "name": "stderr",
     "output_type": "stream",
     "text": [
      "/Users/koredeakande/opt/anaconda3/lib/python3.7/site-packages/ipykernel/ipkernel.py:287: DeprecationWarning: `should_run_async` will not call `transform_cell` automatically in the future. Please pass the result to `transformed_cell` argument and any exception that happen during thetransform in `preprocessing_exc_tuple` in IPython 7.17 and above.\n",
      "  and should_run_async(code)\n"
     ]
    }
   ],
   "source": [
    "#Predict new data using fitted model\n",
    "new_y_pred = clf.predict(np.array(new_X))"
   ]
  },
  {
   "cell_type": "code",
   "execution_count": 70,
   "metadata": {},
   "outputs": [
    {
     "name": "stderr",
     "output_type": "stream",
     "text": [
      "/Users/koredeakande/opt/anaconda3/lib/python3.7/site-packages/ipykernel/ipkernel.py:287: DeprecationWarning: `should_run_async` will not call `transform_cell` automatically in the future. Please pass the result to `transformed_cell` argument and any exception that happen during thetransform in `preprocessing_exc_tuple` in IPython 7.17 and above.\n",
      "  and should_run_async(code)\n",
      "/Users/koredeakande/opt/anaconda3/lib/python3.7/site-packages/sklearn/metrics/_classification.py:1221: UndefinedMetricWarning: Precision is ill-defined and being set to 0.0 due to no predicted samples. Use `zero_division` parameter to control this behavior.\n",
      "  _warn_prf(average, modifier, msg_start, len(result))\n"
     ]
    },
    {
     "name": "stdout",
     "output_type": "stream",
     "text": [
      "ACCURACY\n",
      "- Test set classification accuracy: 0.89\n",
      "- New data classification accuracy: 0.89 \n",
      "\n",
      "PRECISION\n",
      "- Test set precision: 0.00\n",
      "- New data precision: 0.00 \n",
      "\n",
      "RECALL\n",
      "- Test set recall: 0.00\n",
      "- New data recall: 0.00 \n",
      "\n"
     ]
    }
   ],
   "source": [
    "print('ACCURACY')\n",
    "print('- Test set classification accuracy: %.2f' % metrics.accuracy_score(y_test, y_pred))\n",
    "print('- New data classification accuracy: %.2f \\n' % metrics.accuracy_score(new_y, new_y_pred))\n",
    "\n",
    "print('PRECISION')\n",
    "print('- Test set precision: %.2f' % metrics.precision_score(y_test, y_pred))\n",
    "print('- New data precision: %.2f \\n' % metrics.precision_score(new_y, new_y_pred))\n",
    "      \n",
    "print('RECALL')\n",
    "print('- Test set recall: %.2f' % metrics.recall_score(y_test, y_pred))\n",
    "print('- New data recall: %.2f \\n' % metrics.recall_score(new_y, new_y_pred))"
   ]
  },
  {
   "cell_type": "code",
   "execution_count": 71,
   "metadata": {},
   "outputs": [
    {
     "data": {
      "image/png": "[encoded data removed]",
      "text/plain": [
       "<Figure size 432x288 with 2 Axes>"
      ]
     },
     "metadata": {
      "needs_background": "light"
     },
     "output_type": "display_data"
    }
   ],
   "source": [
    "from sklearn.metrics import plot_confusion_matrix\n",
    "\n",
    "plot_confusion_matrix(clf, X_test, y_test)  \n",
    "plt.show()  "
   ]
  },
  {
   "cell_type": "markdown",
   "metadata": {},
   "source": [
    "**e. Modeling 2: kNN**\n",
    "\n",
    "Given the class imbalance and the poor performance of the SVM model on precision and recall, I try a new algorithm in kNN for classification. Here the metric for optimization is instead the F-1 score."
   ]
  },
  {
   "cell_type": "markdown",
   "metadata": {},
   "source": [
    "**Cross-fold validation to determine best n for kNN Model**\n",
    "\n",
    "Here the metric of interest for the cross validation is the F1 score, which looks to balance precision and recall"
   ]
  },
  {
   "cell_type": "code",
   "execution_count": 61,
   "metadata": {},
   "outputs": [
    {
     "name": "stderr",
     "output_type": "stream",
     "text": [
      "/Users/koredeakande/opt/anaconda3/lib/python3.7/site-packages/ipykernel/ipkernel.py:287: DeprecationWarning: `should_run_async` will not call `transform_cell` automatically in the future. Please pass the result to `transformed_cell` argument and any exception that happen during thetransform in `preprocessing_exc_tuple` in IPython 7.17 and above.\n",
      "  and should_run_async(code)\n"
     ]
    },
    {
     "name": "stdout",
     "output_type": "stream",
     "text": [
      "[(2, 0.05370482092648967), (3, 0.10313773366166863), (4, 0.03968213534380713), (5, 0.07111638305339155), (6, 0.028947444834383614), (7, 0.049866578400620296), (8, 0.021707701378755863), (9, 0.035799361139789355), (10, 0.019764012249242634)]\n"
     ]
    }
   ],
   "source": [
    "#List to store the average f1 values for different k values\n",
    "f1_scores = []\n",
    "\n",
    "for k in range(2,11):\n",
    "    \n",
    "    #Train a nearest neighbour classifier with chosen k \n",
    "    knn_clf = neighbors.KNeighborsClassifier(k)\n",
    "    \n",
    "    #Get the scores from the cross validation\n",
    "    scores = cross_validate(knn_clf, X, y, cv=5, scoring='f1')\n",
    "    \n",
    "    #Compute the average score for the chosen k values\n",
    "    f1_scores.append((k,scores['test_score'].mean()))\n",
    "    \n",
    "\n",
    "print(f1_scores)"
   ]
  },
  {
   "cell_type": "markdown",
   "metadata": {},
   "source": [
    "n=3 provided the best average F-1 score"
   ]
  },
  {
   "cell_type": "markdown",
   "metadata": {},
   "source": [
    "**Training on the training set, and predicting the test set**"
   ]
  },
  {
   "cell_type": "code",
   "execution_count": 62,
   "metadata": {},
   "outputs": [
    {
     "name": "stderr",
     "output_type": "stream",
     "text": [
      "/Users/koredeakande/opt/anaconda3/lib/python3.7/site-packages/ipykernel/ipkernel.py:287: DeprecationWarning: `should_run_async` will not call `transform_cell` automatically in the future. Please pass the result to `transformed_cell` argument and any exception that happen during thetransform in `preprocessing_exc_tuple` in IPython 7.17 and above.\n",
      "  and should_run_async(code)\n"
     ]
    }
   ],
   "source": [
    "#Choose best model based on precision and recall\n",
    "knn_clf = neighbors.KNeighborsClassifier(3)\n",
    "\n",
    "#Fit model on training data\n",
    "knn_clf.fit(X, y)\n",
    "\n",
    "#Predict test set using fitted model\n",
    "y_preds = knn_clf.predict(np.array(X_test))"
   ]
  },
  {
   "cell_type": "markdown",
   "metadata": {},
   "source": [
    "**Predicting new data**"
   ]
  },
  {
   "cell_type": "code",
   "execution_count": 63,
   "metadata": {},
   "outputs": [
    {
     "name": "stderr",
     "output_type": "stream",
     "text": [
      "/Users/koredeakande/opt/anaconda3/lib/python3.7/site-packages/ipykernel/ipkernel.py:287: DeprecationWarning: `should_run_async` will not call `transform_cell` automatically in the future. Please pass the result to `transformed_cell` argument and any exception that happen during thetransform in `preprocessing_exc_tuple` in IPython 7.17 and above.\n",
      "  and should_run_async(code)\n"
     ]
    }
   ],
   "source": [
    "#Predict new data using fitted model\n",
    "new_y_preds = knn_clf.predict(np.array(new_X))"
   ]
  },
  {
   "cell_type": "code",
   "execution_count": 64,
   "metadata": {},
   "outputs": [
    {
     "name": "stderr",
     "output_type": "stream",
     "text": [
      "/Users/koredeakande/opt/anaconda3/lib/python3.7/site-packages/ipykernel/ipkernel.py:287: DeprecationWarning: `should_run_async` will not call `transform_cell` automatically in the future. Please pass the result to `transformed_cell` argument and any exception that happen during thetransform in `preprocessing_exc_tuple` in IPython 7.17 and above.\n",
      "  and should_run_async(code)\n"
     ]
    },
    {
     "name": "stdout",
     "output_type": "stream",
     "text": [
      "ACCURACY\n",
      "- Test set classification accuracy: 0.86\n",
      "- New data classification accuracy: 0.88 \n",
      "\n",
      "PRECISION\n",
      "- Test set precision: 0.19\n",
      "- New data precision: 0.36 \n",
      "\n",
      "RECALL\n",
      "- Test set recall: 0.08\n",
      "- New data recall: 0.15 \n",
      "\n"
     ]
    }
   ],
   "source": [
    "print('ACCURACY')\n",
    "print('- Test set classification accuracy: %.2f' % metrics.accuracy_score(y_test, y_preds))\n",
    "print('- New data classification accuracy: %.2f \\n' % metrics.accuracy_score(new_y, new_y_preds))\n",
    "\n",
    "print('PRECISION')\n",
    "print('- Test set precision: %.2f' % metrics.precision_score(y_test, y_preds))\n",
    "print('- New data precision: %.2f \\n' % metrics.precision_score(new_y, new_y_preds))\n",
    "      \n",
    "print('RECALL')\n",
    "print('- Test set recall: %.2f' % metrics.recall_score(y_test, y_preds))\n",
    "print('- New data recall: %.2f \\n' % metrics.recall_score(new_y, new_y_preds))"
   ]
  },
  {
   "cell_type": "code",
   "execution_count": 72,
   "metadata": {},
   "outputs": [
    {
     "name": "stderr",
     "output_type": "stream",
     "text": [
      "/Users/koredeakande/opt/anaconda3/lib/python3.7/site-packages/ipykernel/ipkernel.py:287: DeprecationWarning: `should_run_async` will not call `transform_cell` automatically in the future. Please pass the result to `transformed_cell` argument and any exception that happen during thetransform in `preprocessing_exc_tuple` in IPython 7.17 and above.\n",
      "  and should_run_async(code)\n"
     ]
    },
    {
     "data": {
      "image/png": "[encoded data removed]",
      "text/plain": [
       "<Figure size 432x288 with 2 Axes>"
      ]
     },
     "metadata": {
      "needs_background": "light"
     },
     "output_type": "display_data"
    }
   ],
   "source": [
    "plot_confusion_matrix(knn_clf, X_test, y_test)  \n",
    "plt.show()  "
   ]
  },
  {
   "cell_type": "markdown",
   "metadata": {},
   "source": [
    "There was improved performance on the precision and recall using the kNN algorithm with 3 neighbours. Additionally, the test set accuracy was still pretty high."
   ]
  }
 ],
 "metadata": {
  "kernelspec": {
   "display_name": "Python 3",
   "language": "python",
   "name": "python3"
  },
  "language_info": {
   "codemirror_mode": {
    "name": "ipython",
    "version": 3
   },
   "file_extension": ".py",
   "mimetype": "text/x-python",
   "name": "python",
   "nbconvert_exporter": "python",
   "pygments_lexer": "ipython3",
   "version": "3.7.11"
  }
 },
 "nbformat": 4,
 "nbformat_minor": 4
}
