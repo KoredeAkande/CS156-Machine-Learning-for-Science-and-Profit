{
 "cells": [
  {
   "cell_type": "markdown",
   "id": "d53274ab",
   "metadata": {},
   "source": [
    "# CS156 Session 5.1 Pre-class Work"
   ]
  },
  {
   "cell_type": "markdown",
   "id": "c68631f4",
   "metadata": {},
   "source": [
    "## 1. Barber Exercise 7.1"
   ]
  },
  {
   "cell_type": "markdown",
   "id": "b53c2627",
   "metadata": {},
   "source": [
    "**Knowns:**\n",
    "- $P(winning): p$\n",
    "- $U(winning): {S}$\n",
    "- $P(losing): 1-p$\n",
    "- $U(losing): -{S}$"
   ]
  },
  {
   "cell_type": "markdown",
   "id": "794fb68b",
   "metadata": {},
   "source": [
    "- **Expected gain from playing =** $[P(winning) \\times U(winning)] + [P(losing) \\times U(losing)] $\n",
    "- $= Sp -S + Sp = S(p-1+p) $\n",
    "- $= \\bf{£(2p-1)S}$"
   ]
  },
  {
   "cell_type": "markdown",
   "id": "3c72d028",
   "metadata": {},
   "source": [
    "## 2. Playing the Lottery"
   ]
  },
  {
   "cell_type": "markdown",
   "id": "8b0a4bb2",
   "metadata": {},
   "source": [
    "**Financial Utility**\n",
    "- $U(win|lottery) = 100,000,000$\n",
    "- $P(win| lottery) = C(49,6) = \\frac{1}{13,983,816}$\n",
    "- $U(no \\ \\ win,lottery) = -10$\n",
    "- $P(no \\ \\ win, lottery) = 1- C(49,6) = \\frac{13,983,815}{13,983,816}$\n",
    "- $U(movie) = -10$\n",
    "\n",
    "**Enjoyment Utility**\n",
    "- $U(daydreaming) = k$\n",
    "- $U(movie) = 1.1k$\n",
    "- $U(win,lottery) = 1,000,000 \\times U(movie)= 1,000,000 \\times 1.1k = 1,100,000k$"
   ]
  },
  {
   "cell_type": "markdown",
   "id": "d2f498c0",
   "metadata": {},
   "source": [
    "#### a. Should you play in the lottery\n",
    "Here, we ignore the financial payouts because:\n",
    "- We are trying to maximize our current utility\n",
    "- We lose the $10 anyways\n",
    "\n",
    "\n",
    "\n",
    "Hence, we are interested in if the daydreaming plus the future enjoyment from winning the lottery outweight the enjoyment we will get from watching the movie. To solve the problem, we have the following:\n",
    "- $U(entering \\ lottery) = U(daydreaming) + (U(win \\ lottery) \\times P(win,lottery)) = k + 0.0786k = 1.0786k$\n",
    "- $U(movie) = 1.1k$\n",
    "\n",
    "- $1.0786k < 1.1k$\n",
    "\n",
    "- $ \\therefore U(entering \\ \\ lottery) < U(movie)$\n",
    "\n",
    "\n",
    "Therefore, we should not play the lottery but instead watch the movie"
   ]
  },
  {
   "cell_type": "markdown",
   "id": "bb651b17",
   "metadata": {},
   "source": [
    "#### b. What is the expected financial impact if you play this lottery?\n",
    "\n",
    "Going back to the given quantities above, we have:\n",
    "\n",
    "- **Financial Utility**\n",
    "    - $U(win,lottery) = 100,000,000$\n",
    "    - $P(win, lottery) = C(49,6) = \\frac{1}{13,983,816}$\n",
    "    - $U(no \\ \\ win,lottery) = -10$\n",
    "    - $P(no \\ \\ win, lottery) = 1- C(49,6) = \\frac{13,983,815}{13,983,816}$\n",
    "    \n",
    "- $U(lottery) = U(win,lottery) \\times P(win, lottery) + U(no \\ \\ win,lottery) \\times P(no \\ \\ win, lottery)$\n",
    "- $U(lottery) = 100,000,000 \\times \\frac{1}{13,983,816} -10 \\times \\frac{13,983,815}{13,983,816} = -2.8489$\n",
    "\n",
    "\n",
    "We are expected to lose money if we play the lottery"
   ]
  }
 ],
 "metadata": {
  "kernelspec": {
   "display_name": "Python 3 (ipykernel)",
   "language": "python",
   "name": "python3"
  },
  "language_info": {
   "codemirror_mode": {
    "name": "ipython",
    "version": 3
   },
   "file_extension": ".py",
   "mimetype": "text/x-python",
   "name": "python",
   "nbconvert_exporter": "python",
   "pygments_lexer": "ipython3",
   "version": "3.9.7"
  }
 },
 "nbformat": 4,
 "nbformat_minor": 5
}
