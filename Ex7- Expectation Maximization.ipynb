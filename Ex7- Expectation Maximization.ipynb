{
 "cells": [
  {
   "cell_type": "markdown",
   "id": "94aa79e8",
   "metadata": {},
   "source": [
    "# CS156 Session 7.1 Pre-class work"
   ]
  },
  {
   "cell_type": "markdown",
   "id": "aaf81bb2",
   "metadata": {},
   "source": [
    "## 1. The Coin-Flipping Experiment\n",
    "Read through the coin-flipping example given by Do and Batzoglou (2008). In the coin-flipping example, there are two coins with different biases in a bag. One coin is much more likely to come up with heads than the other. To create the data:\n",
    "\n",
    "1. Reach into the bag and pull out a coin.\n",
    "2. Flip that coin many times, and record both the number of heads and the number of throws.\n",
    "3. Return the coin to the bag and repeat.\n",
    "Notice that we never find out the identity of the coin we are flipping, but we do try to infer it."
   ]
  },
  {
   "cell_type": "markdown",
   "id": "08b12d41",
   "metadata": {},
   "source": [
    "## Questions"
   ]
  },
  {
   "cell_type": "markdown",
   "id": "1e882b6b",
   "metadata": {},
   "source": [
    "### 1. Write down the probability distribution for such a model.\n",
    "Binomial distribution (where $\\theta$ is the probability of heads and $k$ is the number of heads in $n$ flips): $$ p(k) = \\binom{n}{k} \\theta^k (1-\\theta)^{n-k}$$"
   ]
  },
  {
   "cell_type": "markdown",
   "id": "49a8af0c",
   "metadata": {},
   "source": [
    "### 2. Write Python code to run the EM algorithm on such a dataset."
   ]
  },
  {
   "cell_type": "markdown",
   "id": "df3b3ea3",
   "metadata": {},
   "source": [
    "**Import Packages**"
   ]
  },
  {
   "cell_type": "code",
   "execution_count": 31,
   "id": "131158c6",
   "metadata": {},
   "outputs": [],
   "source": [
    "import numpy as np\n",
    "import matplotlib.pyplot as plt"
   ]
  },
  {
   "cell_type": "markdown",
   "id": "864e7696",
   "metadata": {},
   "source": [
    "**EM Algorithm**"
   ]
  },
  {
   "cell_type": "code",
   "execution_count": 46,
   "id": "96092bf4",
   "metadata": {},
   "outputs": [],
   "source": [
    "#Starting probability of heads for the different coins\n",
    "coin_theta = [0.6, 0.5]\n",
    "\n",
    "#Starting probabilities of picking each coin\n",
    "coin_probs = [0.45,0.55]\n",
    "\n",
    "#Data – The number of heads and the corresponding number of throws\n",
    "heads = [14, 33, 19, 10, 0, 17, 24, 17, 1, 36, 5, 6, 5, 13, 4, 35, 5, 5, 74, 34]\n",
    "throws = [41, 43, 23, 23, 1, 23, 36, 37, 2, 131, 5, 29, 13, 47, 10, 58, 15, 14, 100, 113]\n",
    "\n",
    "def EM_algorithm(theta,coin_probs,heads,throws,num_iter=10):\n",
    "    \n",
    "    #List to store the theta updates\n",
    "    thetas = [theta]\n",
    "    \n",
    "    #List to store p(coin|data)\n",
    "    coin_probs_list = [coin_probs]\n",
    "    \n",
    "    #EM algorithm iteration phase\n",
    "    for _ in range(num_iter):\n",
    "        \n",
    "        #List to store the probabilities of the coins determined from the data\n",
    "        #p_coins = []\n",
    "        \n",
    "        #List to store the expected number of heads across all datapoints for each coin\n",
    "        exp_heads = []\n",
    "        \n",
    "        #List to store the expected number of throws across all datapoints for each coin\n",
    "        exp_throws = []\n",
    "        \n",
    "        \n",
    "        #Iterate through all the data points\n",
    "        for h,t in zip(heads,throws):\n",
    "            \n",
    "            #Compute normalization term by summing likelihoods \n",
    "            #– will be used to determine probabilities\n",
    "            normalization_term = sum([coin_probs[c]*theta[c]**h*(1-theta[c])**(t-h) for c in [0,1]])\n",
    "    \n",
    "            #Compute the likelihoods given the data\n",
    "            likelihoods = [coin_probs[c]*theta[c]**h*(1-theta[c])**(t-h) for c in [0,1]]\n",
    "    \n",
    "            #Compute the probability of each of the coins given the data\n",
    "            p_coins_given_data = np.array(likelihoods)/normalization_term\n",
    "            \n",
    "            coin_probs_list.append(p_coins_given_data)\n",
    "            \n",
    "            #Compute the expected number of heads for both coins\n",
    "            exp_heads.append(p_coins_given_data*h)\n",
    "            \n",
    "            #Compute the expected number of throws for both coins\n",
    "            exp_throws.append(p_coins_given_data*t)\n",
    "           \n",
    "        thetas.append(np.array(exp_heads).sum(axis=0)/np.array(exp_throws).sum(axis=0))\n",
    "        \n",
    "    return thetas, coin_probs_list\n",
    "        "
   ]
  },
  {
   "cell_type": "code",
   "execution_count": 47,
   "id": "8c023c16",
   "metadata": {},
   "outputs": [],
   "source": [
    "coin_bias, coin_probs = EM_algorithm(coin_thetas,coin_probs,heads,throws)"
   ]
  },
  {
   "cell_type": "code",
   "execution_count": 48,
   "id": "3924ffe4",
   "metadata": {},
   "outputs": [
    {
     "name": "stdout",
     "output_type": "stream",
     "text": [
      "The final coin biases are [0.69342275 0.3335119 ] for Coin 1 and Coin 2, respectively\n",
      "The avg coin probabilities are [0.40860034 0.59139966] for Coin 1 and Coin 2, respectively\n"
     ]
    }
   ],
   "source": [
    "print(f\"The final coin biases are {coin_bias[-1]} for Coin 1 and Coin 2, respectively\")\n",
    "print(f\"The avg coin probabilities are {np.array(coin_probs).mean(axis=0)} for Coin 1 and Coin 2, respectively\")"
   ]
  },
  {
   "cell_type": "markdown",
   "id": "0f0cd0df",
   "metadata": {},
   "source": [
    "**Plot Convergence Figure**"
   ]
  },
  {
   "cell_type": "code",
   "execution_count": 49,
   "id": "8e4b5f5c",
   "metadata": {},
   "outputs": [
    {
     "data": {
      "image/png": "[encoded data removed]",
      "text/plain": [
       "<Figure size 432x288 with 1 Axes>"
      ]
     },
     "metadata": {
      "needs_background": "light"
     },
     "output_type": "display_data"
    }
   ],
   "source": [
    "plt.plot(coin_bias)\n",
    "plt.legend(['Coin 1', 'Coin 2'])\n",
    "plt.title(\"Coin Biases\")\n",
    "plt.show()"
   ]
  }
 ],
 "metadata": {
  "kernelspec": {
   "display_name": "Python 3 (ipykernel)",
   "language": "python",
   "name": "python3"
  },
  "language_info": {
   "codemirror_mode": {
    "name": "ipython",
    "version": 3
   },
   "file_extension": ".py",
   "mimetype": "text/x-python",
   "name": "python",
   "nbconvert_exporter": "python",
   "pygments_lexer": "ipython3",
   "version": "3.7.11"
  }
 },
 "nbformat": 4,
 "nbformat_minor": 5
}
